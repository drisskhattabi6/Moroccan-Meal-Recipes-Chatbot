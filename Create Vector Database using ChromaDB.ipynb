{
 "cells": [
  {
   "cell_type": "markdown",
   "id": "87e0abdd-dfec-46ee-8cca-1ffdcf9a0039",
   "metadata": {},
   "source": [
    "# Create Vector Database using ChromaDB "
   ]
  },
  {
   "cell_type": "code",
   "execution_count": null,
   "id": "c13c2f02-b85e-4cb1-88fc-5be574a59df4",
   "metadata": {},
   "outputs": [],
   "source": [
    "import pandas as pd\n",
    "import numpy as np\n",
    "import chromadb\n",
    "from chromadb.config import Settings\n",
    "from langdetect import detect\n",
    "import spacy\n",
    "import nltk\n",
    "import re\n",
    "import ast\n",
    "import string\n",
    "import uuid"
   ]
  },
  {
   "cell_type": "code",
   "execution_count": null,
   "id": "c5d3a9fa-1225-4fe4-9c6b-fb48ab9709ff",
   "metadata": {},
   "outputs": [],
   "source": []
  },
  {
   "cell_type": "code",
   "execution_count": null,
   "id": "1074f44f-508a-4828-afd4-0483d1979a91",
   "metadata": {},
   "outputs": [],
   "source": []
  },
  {
   "cell_type": "code",
   "execution_count": null,
   "id": "35a29838-696e-42f0-9780-ca4e6d3e28e4",
   "metadata": {},
   "outputs": [],
   "source": []
  },
  {
   "cell_type": "code",
   "execution_count": null,
   "id": "c308e8ee-5a1b-4ef9-b4ca-8f07b12476b3",
   "metadata": {},
   "outputs": [],
   "source": []
  },
  {
   "cell_type": "code",
   "execution_count": null,
   "id": "11d27b41-2013-400c-bda8-5dfe91d1cdf5",
   "metadata": {},
   "outputs": [],
   "source": []
  }
 ],
 "metadata": {
  "kernelspec": {
   "display_name": "Python 3 (ipykernel)",
   "language": "python",
   "name": "python3"
  },
  "language_info": {
   "codemirror_mode": {
    "name": "ipython",
    "version": 3
   },
   "file_extension": ".py",
   "mimetype": "text/x-python",
   "name": "python",
   "nbconvert_exporter": "python",
   "pygments_lexer": "ipython3",
   "version": "3.12.4"
  }
 },
 "nbformat": 4,
 "nbformat_minor": 5
}
