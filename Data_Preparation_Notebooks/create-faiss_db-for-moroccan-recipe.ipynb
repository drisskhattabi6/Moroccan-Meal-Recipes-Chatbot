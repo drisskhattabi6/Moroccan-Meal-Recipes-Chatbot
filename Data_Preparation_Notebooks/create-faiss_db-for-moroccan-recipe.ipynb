{
 "cells": [
  {
   "cell_type": "markdown",
   "id": "87e0abdd-dfec-46ee-8cca-1ffdcf9a0039",
   "metadata": {},
   "source": [
    "# Create Faiss DB for Moroccan Recipes and Meals : (Kaggle)"
   ]
  },
  {
   "cell_type": "code",
   "execution_count": 1,
   "id": "c13c2f02-b85e-4cb1-88fc-5be574a59df4",
   "metadata": {
    "tags": []
   },
   "outputs": [],
   "source": [
    "import pandas as pd\n",
    "import numpy as np\n",
    "from langchain_ollama import OllamaEmbeddings\n",
    "from tqdm import tqdm\n",
    "import time\n",
    "import os\n",
    "import pickle, faiss"
   ]
  },
  {
   "cell_type": "markdown",
   "id": "cd8a06f0-7d28-4088-9a44-7ef8a3f0c585",
   "metadata": {},
   "source": [
    "## Read the Moroccan Recipes and Meals from CSV :"
   ]
  },
  {
   "cell_type": "code",
   "execution_count": 2,
   "id": "c5d3a9fa-1225-4fe4-9c6b-fb48ab9709ff",
   "metadata": {
    "tags": []
   },
   "outputs": [
    {
     "name": "stdout",
     "output_type": "stream",
     "text": [
      "(4627, 2)\n"
     ]
    },
    {
     "data": {
      "text/html": [
       "<div>\n",
       "<style scoped>\n",
       "    .dataframe tbody tr th:only-of-type {\n",
       "        vertical-align: middle;\n",
       "    }\n",
       "\n",
       "    .dataframe tbody tr th {\n",
       "        vertical-align: top;\n",
       "    }\n",
       "\n",
       "    .dataframe thead th {\n",
       "        text-align: right;\n",
       "    }\n",
       "</style>\n",
       "<table border=\"1\" class=\"dataframe\">\n",
       "  <thead>\n",
       "    <tr style=\"text-align: right;\">\n",
       "      <th></th>\n",
       "      <th>prompt</th>\n",
       "      <th>completion</th>\n",
       "    </tr>\n",
       "  </thead>\n",
       "  <tbody>\n",
       "    <tr>\n",
       "      <th>0</th>\n",
       "      <td>Recipe Name : Duck and prune tagine\\n Descript...</td>\n",
       "      <td>['Pour the oil into a heavy-based pan or casse...</td>\n",
       "    </tr>\n",
       "    <tr>\n",
       "      <th>1</th>\n",
       "      <td>Recipe Name : Potato tagine with baked halloum...</td>\n",
       "      <td>['Heat the oven to 180°C fan/gas 6. Heat the o...</td>\n",
       "    </tr>\n",
       "    <tr>\n",
       "      <th>2</th>\n",
       "      <td>Recipe Name : Merguez sausages with crispy chi...</td>\n",
       "      <td>['Heat the oven to 180°C fan/gas 6. Put the ch...</td>\n",
       "    </tr>\n",
       "    <tr>\n",
       "      <th>3</th>\n",
       "      <td>Recipe Name : Chicken tagine casserole\\n Descr...</td>\n",
       "      <td>['Heat the oven to 180ºC fan/gas 6. Slash the ...</td>\n",
       "    </tr>\n",
       "    <tr>\n",
       "      <th>4</th>\n",
       "      <td>Recipe Name : Preserved lemons\\n Description :...</td>\n",
       "      <td>['Juice 4 of the lemons and set the juice asid...</td>\n",
       "    </tr>\n",
       "  </tbody>\n",
       "</table>\n",
       "</div>"
      ],
      "text/plain": [
       "                                              prompt  \\\n",
       "0  Recipe Name : Duck and prune tagine\\n Descript...   \n",
       "1  Recipe Name : Potato tagine with baked halloum...   \n",
       "2  Recipe Name : Merguez sausages with crispy chi...   \n",
       "3  Recipe Name : Chicken tagine casserole\\n Descr...   \n",
       "4  Recipe Name : Preserved lemons\\n Description :...   \n",
       "\n",
       "                                          completion  \n",
       "0  ['Pour the oil into a heavy-based pan or casse...  \n",
       "1  ['Heat the oven to 180°C fan/gas 6. Heat the o...  \n",
       "2  ['Heat the oven to 180°C fan/gas 6. Put the ch...  \n",
       "3  ['Heat the oven to 180ºC fan/gas 6. Slash the ...  \n",
       "4  ['Juice 4 of the lemons and set the juice asid...  "
      ]
     },
     "execution_count": 2,
     "metadata": {},
     "output_type": "execute_result"
    }
   ],
   "source": [
    "df = pd.read_csv('moroccan_recipes_dataset.csv')\n",
    "print(df.shape)\n",
    "df.head()"
   ]
  },
  {
   "cell_type": "markdown",
   "id": "4cbbf72e-a327-4454-bc80-c3cb0e49881d",
   "metadata": {},
   "source": [
    "### -> 'prompt' Column Contains : Recipe Name, Description, Ingredients and Steps for preparation"
   ]
  },
  {
   "cell_type": "code",
   "execution_count": 3,
   "id": "5900a0b1-33b0-4715-8d82-9a09a8edff3c",
   "metadata": {
    "tags": []
   },
   "outputs": [
    {
     "data": {
      "text/plain": [
       "\"Recipe Name : Clodagh McKenna’s Moroccan spiced lamb chops\\n Description : Clodagh McKenna spices up lamb chops with a harissa-yogurt marinade in this quick and easy recipe. Serve with a herby bulgur wheat salad. Recipe from In Minutes by Clodagh McKenna (Kyle Books £20). For a Sunday roast with a twist, try our Moroccan spiced lamb shoulder with freekeh.\\n Ingredients : ['4-6 British lamb chops, depending on size', '1 tbsp olive oil']\\n Steps for preparation : nan\\n \""
      ]
     },
     "execution_count": 3,
     "metadata": {},
     "output_type": "execute_result"
    }
   ],
   "source": [
    "df['prompt'][6]"
   ]
  },
  {
   "cell_type": "markdown",
   "id": "67c4f069-3998-45f1-861e-925e34f297d5",
   "metadata": {},
   "source": [
    "## Transform Data\n",
    "\n",
    "- remove duplicated rows\n",
    "- remove duplicated Recipes Name"
   ]
  },
  {
   "cell_type": "code",
   "execution_count": 4,
   "id": "dafd10a8-5f46-4ff6-a66e-44b681a8cfcf",
   "metadata": {
    "tags": []
   },
   "outputs": [
    {
     "data": {
      "text/plain": [
       "(4626, 2)"
      ]
     },
     "execution_count": 4,
     "metadata": {},
     "output_type": "execute_result"
    }
   ],
   "source": [
    "# remove duplicated data\n",
    "df = df.drop_duplicates(subset=['prompt'])\n",
    "df.shape"
   ]
  },
  {
   "cell_type": "code",
   "execution_count": 5,
   "id": "fb558bdf-f5ce-4e0d-8d15-451e0aed0ffe",
   "metadata": {
    "tags": []
   },
   "outputs": [],
   "source": [
    "# remove duplicated Recipes Name\n",
    "# Step 1: Extract the first line\n",
    "df['first_line'] = df['prompt'].str.split('\\n').str[0]\n",
    "\n",
    "# Step 2: Extract the recipe name from the first line\n",
    "df['recipe_name'] = df['first_line'].str.extract(r'Recipe Name\\s*:\\s*(.*)')\n",
    "\n",
    "# Step 3: Remove all rows that have the same recipe name except the first one\n",
    "df_unique = df.drop_duplicates(subset='recipe_name', keep='first')\n",
    "\n",
    "# Optionally drop the helper column\n",
    "df_unique = df_unique.drop(columns=['first_line'])"
   ]
  },
  {
   "cell_type": "code",
   "execution_count": 6,
   "id": "c81073dc-3c11-4e32-bd43-9efde1798495",
   "metadata": {
    "tags": []
   },
   "outputs": [
    {
     "data": {
      "text/plain": [
       "(3383, 3)"
      ]
     },
     "execution_count": 6,
     "metadata": {},
     "output_type": "execute_result"
    }
   ],
   "source": [
    "df_unique.shape"
   ]
  },
  {
   "cell_type": "code",
   "execution_count": 7,
   "id": "68cc5dcf-5ec7-4ef3-abe6-c4673ac6033c",
   "metadata": {
    "tags": []
   },
   "outputs": [
    {
     "data": {
      "text/plain": [
       "prompt         0\n",
       "completion     8\n",
       "recipe_name    1\n",
       "dtype: int64"
      ]
     },
     "execution_count": 7,
     "metadata": {},
     "output_type": "execute_result"
    }
   ],
   "source": [
    "df_unique.isna().sum()"
   ]
  },
  {
   "cell_type": "code",
   "execution_count": 8,
   "id": "9713dffc-1a5f-4be0-92be-d9c4f6cd1a42",
   "metadata": {
    "tags": []
   },
   "outputs": [
    {
     "data": {
      "text/html": [
       "<div>\n",
       "<style scoped>\n",
       "    .dataframe tbody tr th:only-of-type {\n",
       "        vertical-align: middle;\n",
       "    }\n",
       "\n",
       "    .dataframe tbody tr th {\n",
       "        vertical-align: top;\n",
       "    }\n",
       "\n",
       "    .dataframe thead th {\n",
       "        text-align: right;\n",
       "    }\n",
       "</style>\n",
       "<table border=\"1\" class=\"dataframe\">\n",
       "  <thead>\n",
       "    <tr style=\"text-align: right;\">\n",
       "      <th></th>\n",
       "      <th>prompt</th>\n",
       "      <th>completion</th>\n",
       "      <th>recipe_name</th>\n",
       "    </tr>\n",
       "  </thead>\n",
       "  <tbody>\n",
       "    <tr>\n",
       "      <th>0</th>\n",
       "      <td>Recipe Name : Duck and prune tagine\\n Descript...</td>\n",
       "      <td>['Pour the oil into a heavy-based pan or casse...</td>\n",
       "      <td>Duck and prune tagine</td>\n",
       "    </tr>\n",
       "    <tr>\n",
       "      <th>1</th>\n",
       "      <td>Recipe Name : Potato tagine with baked halloum...</td>\n",
       "      <td>['Heat the oven to 180°C fan/gas 6. Heat the o...</td>\n",
       "      <td>Potato tagine with baked halloumi</td>\n",
       "    </tr>\n",
       "    <tr>\n",
       "      <th>2</th>\n",
       "      <td>Recipe Name : Merguez sausages with crispy chi...</td>\n",
       "      <td>['Heat the oven to 180°C fan/gas 6. Put the ch...</td>\n",
       "      <td>Merguez sausages with crispy chickpeas and pre...</td>\n",
       "    </tr>\n",
       "    <tr>\n",
       "      <th>3</th>\n",
       "      <td>Recipe Name : Chicken tagine casserole\\n Descr...</td>\n",
       "      <td>['Heat the oven to 180ºC fan/gas 6. Slash the ...</td>\n",
       "      <td>Chicken tagine casserole</td>\n",
       "    </tr>\n",
       "    <tr>\n",
       "      <th>4</th>\n",
       "      <td>Recipe Name : Preserved lemons\\n Description :...</td>\n",
       "      <td>['Juice 4 of the lemons and set the juice asid...</td>\n",
       "      <td>Preserved lemons</td>\n",
       "    </tr>\n",
       "  </tbody>\n",
       "</table>\n",
       "</div>"
      ],
      "text/plain": [
       "                                              prompt  \\\n",
       "0  Recipe Name : Duck and prune tagine\\n Descript...   \n",
       "1  Recipe Name : Potato tagine with baked halloum...   \n",
       "2  Recipe Name : Merguez sausages with crispy chi...   \n",
       "3  Recipe Name : Chicken tagine casserole\\n Descr...   \n",
       "4  Recipe Name : Preserved lemons\\n Description :...   \n",
       "\n",
       "                                          completion  \\\n",
       "0  ['Pour the oil into a heavy-based pan or casse...   \n",
       "1  ['Heat the oven to 180°C fan/gas 6. Heat the o...   \n",
       "2  ['Heat the oven to 180°C fan/gas 6. Put the ch...   \n",
       "3  ['Heat the oven to 180ºC fan/gas 6. Slash the ...   \n",
       "4  ['Juice 4 of the lemons and set the juice asid...   \n",
       "\n",
       "                                         recipe_name  \n",
       "0                              Duck and prune tagine  \n",
       "1                  Potato tagine with baked halloumi  \n",
       "2  Merguez sausages with crispy chickpeas and pre...  \n",
       "3                           Chicken tagine casserole  \n",
       "4                                   Preserved lemons  "
      ]
     },
     "execution_count": 8,
     "metadata": {},
     "output_type": "execute_result"
    }
   ],
   "source": [
    "df_unique.head()"
   ]
  },
  {
   "cell_type": "code",
   "execution_count": 9,
   "id": "be25474d-781c-4012-a349-90c56b3e776f",
   "metadata": {
    "tags": []
   },
   "outputs": [
    {
     "data": {
      "text/html": [
       "<div>\n",
       "<style scoped>\n",
       "    .dataframe tbody tr th:only-of-type {\n",
       "        vertical-align: middle;\n",
       "    }\n",
       "\n",
       "    .dataframe tbody tr th {\n",
       "        vertical-align: top;\n",
       "    }\n",
       "\n",
       "    .dataframe thead th {\n",
       "        text-align: right;\n",
       "    }\n",
       "</style>\n",
       "<table border=\"1\" class=\"dataframe\">\n",
       "  <thead>\n",
       "    <tr style=\"text-align: right;\">\n",
       "      <th></th>\n",
       "      <th>prompt</th>\n",
       "      <th>completion</th>\n",
       "      <th>recipe_name</th>\n",
       "    </tr>\n",
       "  </thead>\n",
       "  <tbody>\n",
       "    <tr>\n",
       "      <th>4579</th>\n",
       "      <td>Recipe Name : Moroccan Chicken Skillet\\n Ingre...</td>\n",
       "      <td>[\"Using a meat mallet (or a rolling pin) pound...</td>\n",
       "      <td>Moroccan Chicken Skillet</td>\n",
       "    </tr>\n",
       "    <tr>\n",
       "      <th>4580</th>\n",
       "      <td>Recipe Name : Moroccan-Spiced Chicken\\n Ingred...</td>\n",
       "      <td>[\"Position rack in center of oven and preheat ...</td>\n",
       "      <td>Moroccan-Spiced Chicken</td>\n",
       "    </tr>\n",
       "    <tr>\n",
       "      <th>4581</th>\n",
       "      <td>Recipe Name : Moroccan Chicken and Summer Squa...</td>\n",
       "      <td>[\"Heat grill to high.\", \"Stir together cumin, ...</td>\n",
       "      <td>Moroccan Chicken and Summer Squash Salad</td>\n",
       "    </tr>\n",
       "    <tr>\n",
       "      <th>4582</th>\n",
       "      <td>Recipe Name : moroccan chicken kabob tapas Rec...</td>\n",
       "      <td>[\"Cut chicken into 1 inch cubes.\", \"Put in all...</td>\n",
       "      <td>moroccan chicken kabob tapas Recipe</td>\n",
       "    </tr>\n",
       "    <tr>\n",
       "      <th>4583</th>\n",
       "      <td>Top 10 foods to try in Morocco : Harira - Tagi...</td>\n",
       "      <td>NaN</td>\n",
       "      <td>NaN</td>\n",
       "    </tr>\n",
       "  </tbody>\n",
       "</table>\n",
       "</div>"
      ],
      "text/plain": [
       "                                                 prompt  \\\n",
       "4579  Recipe Name : Moroccan Chicken Skillet\\n Ingre...   \n",
       "4580  Recipe Name : Moroccan-Spiced Chicken\\n Ingred...   \n",
       "4581  Recipe Name : Moroccan Chicken and Summer Squa...   \n",
       "4582  Recipe Name : moroccan chicken kabob tapas Rec...   \n",
       "4583  Top 10 foods to try in Morocco : Harira - Tagi...   \n",
       "\n",
       "                                             completion  \\\n",
       "4579  [\"Using a meat mallet (or a rolling pin) pound...   \n",
       "4580  [\"Position rack in center of oven and preheat ...   \n",
       "4581  [\"Heat grill to high.\", \"Stir together cumin, ...   \n",
       "4582  [\"Cut chicken into 1 inch cubes.\", \"Put in all...   \n",
       "4583                                                NaN   \n",
       "\n",
       "                                   recipe_name  \n",
       "4579                  Moroccan Chicken Skillet  \n",
       "4580                   Moroccan-Spiced Chicken  \n",
       "4581  Moroccan Chicken and Summer Squash Salad  \n",
       "4582       moroccan chicken kabob tapas Recipe  \n",
       "4583                                       NaN  "
      ]
     },
     "execution_count": 9,
     "metadata": {},
     "output_type": "execute_result"
    }
   ],
   "source": [
    "df_unique.tail()"
   ]
  },
  {
   "cell_type": "markdown",
   "id": "189d73bf-1b70-42f4-8868-773a21a5ad4a",
   "metadata": {},
   "source": [
    "## Load Data to Faiss DB"
   ]
  },
  {
   "cell_type": "code",
   "execution_count": 10,
   "id": "b2d00e42-e2c9-4aff-9bc3-83a79d59550f",
   "metadata": {
    "tags": []
   },
   "outputs": [
    {
     "name": "stdout",
     "output_type": "stream",
     "text": [
      "⚙️ Creating new FAISS index...\n"
     ]
    }
   ],
   "source": [
    "db_path = 'Moroccan_Recipes_FaissDB'\n",
    "index_path = os.path.join(db_path, f\"moroccan_recipes.index\")\n",
    "meta_path = os.path.join(db_path, f\"moroccan_recipes.pkl\")\n",
    "os.makedirs(db_path, exist_ok=True)\n",
    "\n",
    "if os.path.exists(index_path):\n",
    "    print(\"🔄 Loading FAISS index...\")\n",
    "    index = faiss.read_index(self.index_path)\n",
    "else:\n",
    "    print(\"⚙️ Creating new FAISS index...\")\n",
    "    index = faiss.IndexFlatL2(1024)\n",
    "\n",
    "if os.path.exists(meta_path):\n",
    "    print(\"📦 Loading metadata...\")\n",
    "    with open(meta_path, 'rb') as f:\n",
    "        collection = pickle.load(f)\n",
    "else:\n",
    "    collection = []"
   ]
  },
  {
   "cell_type": "code",
   "execution_count": 7,
   "id": "cc99d0c6-11b4-42ca-a9cb-de916682aaf8",
   "metadata": {
    "tags": []
   },
   "outputs": [],
   "source": [
    "embedding_model = OllamaEmbeddings(model=\"nomic-embed-text:latest\")"
   ]
  },
  {
   "cell_type": "code",
   "execution_count": 8,
   "id": "38b66e89-db07-4fbe-8c07-3d1bae4d9251",
   "metadata": {
    "tags": []
   },
   "outputs": [],
   "source": [
    "def generate_embeddings(text: str):\n",
    "    return embedding_model.embed_query(text)"
   ]
  },
  {
   "cell_type": "code",
   "execution_count": 9,
   "id": "31b8803b-5b67-4b51-8ff3-e3b5fe57f9c8",
   "metadata": {
    "tags": []
   },
   "outputs": [
    {
     "name": "stdout",
     "output_type": "stream",
     "text": [
      "768\n"
     ]
    }
   ],
   "source": [
    "print(len(generate_embeddings('qwertyu yui ytuyg uy ')))"
   ]
  },
  {
   "cell_type": "code",
   "execution_count": 10,
   "id": "2d04f48b-037c-4560-941b-ba170113bc0a",
   "metadata": {
    "tags": []
   },
   "outputs": [
    {
     "name": "stdout",
     "output_type": "stream",
     "text": [
      "[-0.019315952, 0.02758621, -0.15841325, -0.056062303, 0.0438976, -0.015040412, 0.020199563, 0.001384781, -0.0090258345, -0.019812193, -0.017219989, 0.06601585, 0.041778587, 0.04475724, 0.008813767, 0.0033704017, 0.040916603, -0.05513884, -0.00344933, 0.040923666]\n"
     ]
    }
   ],
   "source": [
    "print(generate_embeddings('qwertyu yui ytuyg uy ')[:20])"
   ]
  },
  {
   "cell_type": "code",
   "execution_count": 13,
   "id": "35a29838-696e-42f0-9780-ca4e6d3e28e4",
   "metadata": {
    "tags": []
   },
   "outputs": [],
   "source": [
    "def load_to_faiss(row_text: str):\n",
    "    \"\"\"Load a document into ChromaDB with its embedding.\"\"\"\n",
    "    embedding = generate_embeddings(row_text)\n",
    "    # metadata = document.get(\"metadata\", {})\n",
    "    # doc_id = metadata.get(\"row_id\", \"default_id\")\n",
    "    \n",
    "    index.add(np.array([embedding]))\n",
    "    collection.append(row_text)\n",
    "\n",
    "def save_faiss():\n",
    "    faiss.write_index(index, index_path)\n",
    "    with open(meta_path, 'wb') as f:\n",
    "        pickle.dump(collection, f)"
   ]
  },
  {
   "cell_type": "code",
   "execution_count": 14,
   "id": "3d632787-824f-4524-9d95-b71e9b0dec25",
   "metadata": {
    "tags": []
   },
   "outputs": [
    {
     "name": "stderr",
     "output_type": "stream",
     "text": [
      "100%|████████████████████████████████████████████████████████████████████████████| 3383/3383 [2:30:00<00:00,  2.66s/it]\n"
     ]
    }
   ],
   "source": [
    "for i in tqdm(range(df_unique.shape[0])) :\n",
    "    row_text = f\"{df_unique.iloc[i]['prompt']} \\n\\n-> Recipe Name : {df_unique.iloc[i]['recipe_name']}\"\n",
    "    \n",
    "    load_to_faiss(row_text)\n",
    "    \n",
    "save_faiss()"
   ]
  }
 ],
 "metadata": {
  "kaggle": {
   "accelerator": "none",
   "dataSources": [
    {
     "datasetId": 5876112,
     "sourceId": 9626336,
     "sourceType": "datasetVersion"
    }
   ],
   "dockerImageVersionId": 31012,
   "isGpuEnabled": false,
   "isInternetEnabled": true,
   "language": "python",
   "sourceType": "notebook"
  },
  "kernelspec": {
   "display_name": "Python 3 (ipykernel)",
   "language": "python",
   "name": "python3"
  },
  "language_info": {
   "codemirror_mode": {
    "name": "ipython",
    "version": 3
   },
   "file_extension": ".py",
   "mimetype": "text/x-python",
   "name": "python",
   "nbconvert_exporter": "python",
   "pygments_lexer": "ipython3",
   "version": "3.12.4"
  }
 },
 "nbformat": 4,
 "nbformat_minor": 5
}
