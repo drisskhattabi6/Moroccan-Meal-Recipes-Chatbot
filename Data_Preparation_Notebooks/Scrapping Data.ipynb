{
 "cells": [
  {
   "cell_type": "markdown",
   "id": "6d37255f-add5-4924-8331-90d7c9cd7d38",
   "metadata": {},
   "source": [
    "# Scrapping Data :"
   ]
  },
  {
   "cell_type": "code",
   "execution_count": 62,
   "id": "4551d256-d93b-40e3-ab7d-072d2c19842f",
   "metadata": {
    "tags": []
   },
   "outputs": [],
   "source": [
    "# import libraries\n",
    "import pandas as pd\n",
    "import requests, re\n",
    "from bs4 import BeautifulSoup\n",
    "from scrapfly import ScrapflyClient, ScrapeConfig\n",
    "import time"
   ]
  },
  {
   "cell_type": "code",
   "execution_count": 27,
   "id": "e39b9f96-42a0-4b56-9d93-449afd24893b",
   "metadata": {
    "tags": []
   },
   "outputs": [],
   "source": [
    "recipes_content = []\n",
    "id_ = 1\n",
    "\n",
    "for i in range(1, 9) :\n",
    "    url = f\"https://www.deliciousmagazine.co.uk/cuisine/moroccan-recipes/page/{i}/\"\n",
    "    response = requests.get(url)\n",
    "    soup = BeautifulSoup(response.content, 'html.parser')\n",
    "\n",
    "    # all_recipes = soup.find_all('div', {'class': 'recipe-list recipe-archive'})\n",
    "    all_recipes = soup.find_all('div', {'class': 'grid-item recipe-card-wrapper'})\n",
    "\n",
    "    for recipe in all_recipes :\n",
    "        body_card = recipe.find('div', {'class':'card-body'})\n",
    "        all_links = body_card.find_all('a')\n",
    "        if len(all_links) <= 1:\n",
    "            continue\n",
    "        recipe_link = all_links[1].attrs['href']\n",
    "        # print(recipe_link)\n",
    "        #-------------------------\n",
    "        response2 = requests.get(recipe_link)\n",
    "        soup2 =  BeautifulSoup(response2.content, 'html.parser')\n",
    "        recipe_content = soup2.find('main', {'class':'main-content content'})\n",
    "        #-------------------------\n",
    "        description_container = recipe_content.find('div', {'class':'recipe-detail-wrapper'})\n",
    "        description = description_container.find('div', {'class':'recipe-description text-standard'}).text.strip().replace('\\n', '')\n",
    "        # print(description)\n",
    "        #-------------------------\n",
    "        ingredients_container = recipe_content.find('div', {'id':'ingredients'})\n",
    "        ingredients_content = ingredients_container.find('ul')\n",
    "        ingredients = [li.text for li in ingredients_content.find_all('li')]\n",
    "        # print(ingredients)\n",
    "        #-------------------------\n",
    "        method_container = recipe_content.find('div', {'id':'method'})\n",
    "        steps = None\n",
    "        if not isinstance(method_container, type(None)):\n",
    "            method_content = method_container.find('ol')\n",
    "            steps = [li.text for li in method_content.find_all('li')]\n",
    "        # print(steps)\n",
    "        #-------------------------\n",
    "        recipes_content.append({\n",
    "            'id': id_, \n",
    "            'title': recipe.find('h4', {'class': 'card-title heading-std-text'}).text.strip(), \n",
    "            'description': description, \n",
    "            'ingredients': ingredients, \n",
    "            'steps': steps,\n",
    "        })\n",
    "        id_ += 1"
   ]
  },
  {
   "cell_type": "code",
   "execution_count": 28,
   "id": "5235be4c-c8a2-48a5-ba09-3d17e07735c4",
   "metadata": {
    "tags": []
   },
   "outputs": [
    {
     "data": {
      "text/html": [
       "<div>\n",
       "<style scoped>\n",
       "    .dataframe tbody tr th:only-of-type {\n",
       "        vertical-align: middle;\n",
       "    }\n",
       "\n",
       "    .dataframe tbody tr th {\n",
       "        vertical-align: top;\n",
       "    }\n",
       "\n",
       "    .dataframe thead th {\n",
       "        text-align: right;\n",
       "    }\n",
       "</style>\n",
       "<table border=\"1\" class=\"dataframe\">\n",
       "  <thead>\n",
       "    <tr style=\"text-align: right;\">\n",
       "      <th></th>\n",
       "      <th>id</th>\n",
       "      <th>title</th>\n",
       "      <th>description</th>\n",
       "      <th>ingredients</th>\n",
       "      <th>steps</th>\n",
       "    </tr>\n",
       "  </thead>\n",
       "  <tbody>\n",
       "    <tr>\n",
       "      <th>0</th>\n",
       "      <td>1</td>\n",
       "      <td>Duck and prune tagine</td>\n",
       "      <td>Duck legs are the ultimate choice for low-and-...</td>\n",
       "      <td>[2 tbsp olive oil,  2 cinnamon sticks, 3 red o...</td>\n",
       "      <td>[Pour the oil into a heavy-based pan or casser...</td>\n",
       "    </tr>\n",
       "    <tr>\n",
       "      <th>1</th>\n",
       "      <td>2</td>\n",
       "      <td>Potato tagine with baked halloumi</td>\n",
       "      <td>This North African-inspired potato dish is by ...</td>\n",
       "      <td>[2 tbsp vegetable oil, 2 onions, sliced, 6 gar...</td>\n",
       "      <td>[Heat the oven to 180°C fan/gas 6. Heat the oi...</td>\n",
       "    </tr>\n",
       "    <tr>\n",
       "      <th>2</th>\n",
       "      <td>3</td>\n",
       "      <td>Merguez sausages with crispy chickpeas and pre...</td>\n",
       "      <td>Merguez sausages with crispy, roasted chickpea...</td>\n",
       "      <td>[2 x 400g tins chickpeas, drained, 3 tbsp oliv...</td>\n",
       "      <td>[Heat the oven to 180°C fan/gas 6. Put the chi...</td>\n",
       "    </tr>\n",
       "    <tr>\n",
       "      <th>3</th>\n",
       "      <td>4</td>\n",
       "      <td>Chicken tagine casserole</td>\n",
       "      <td>Enjoy all the rich flavours of a chicken tagin...</td>\n",
       "      <td>[8 small free-range chicken thighs, 2 medium r...</td>\n",
       "      <td>[Heat the oven to 180ºC fan/gas 6. Slash the s...</td>\n",
       "    </tr>\n",
       "    <tr>\n",
       "      <th>4</th>\n",
       "      <td>5</td>\n",
       "      <td>Preserved lemons</td>\n",
       "      <td>With only two basic ingredients and some imagi...</td>\n",
       "      <td>[12 small unwaxed lemons (about 1kg; see tips)...</td>\n",
       "      <td>[Juice 4 of the lemons and set the juice aside...</td>\n",
       "    </tr>\n",
       "  </tbody>\n",
       "</table>\n",
       "</div>"
      ],
      "text/plain": [
       "   id                                              title  \\\n",
       "0   1                              Duck and prune tagine   \n",
       "1   2                  Potato tagine with baked halloumi   \n",
       "2   3  Merguez sausages with crispy chickpeas and pre...   \n",
       "3   4                           Chicken tagine casserole   \n",
       "4   5                                   Preserved lemons   \n",
       "\n",
       "                                         description  \\\n",
       "0  Duck legs are the ultimate choice for low-and-...   \n",
       "1  This North African-inspired potato dish is by ...   \n",
       "2  Merguez sausages with crispy, roasted chickpea...   \n",
       "3  Enjoy all the rich flavours of a chicken tagin...   \n",
       "4  With only two basic ingredients and some imagi...   \n",
       "\n",
       "                                         ingredients  \\\n",
       "0  [2 tbsp olive oil,  2 cinnamon sticks, 3 red o...   \n",
       "1  [2 tbsp vegetable oil, 2 onions, sliced, 6 gar...   \n",
       "2  [2 x 400g tins chickpeas, drained, 3 tbsp oliv...   \n",
       "3  [8 small free-range chicken thighs, 2 medium r...   \n",
       "4  [12 small unwaxed lemons (about 1kg; see tips)...   \n",
       "\n",
       "                                               steps  \n",
       "0  [Pour the oil into a heavy-based pan or casser...  \n",
       "1  [Heat the oven to 180°C fan/gas 6. Heat the oi...  \n",
       "2  [Heat the oven to 180°C fan/gas 6. Put the chi...  \n",
       "3  [Heat the oven to 180ºC fan/gas 6. Slash the s...  \n",
       "4  [Juice 4 of the lemons and set the juice aside...  "
      ]
     },
     "execution_count": 28,
     "metadata": {},
     "output_type": "execute_result"
    }
   ],
   "source": [
    "data1 = pd.DataFrame(recipes_content)\n",
    "data1.head()"
   ]
  },
  {
   "cell_type": "code",
   "execution_count": 29,
   "id": "a3a57eda-941c-4c92-89e0-758e7e5812c1",
   "metadata": {
    "tags": []
   },
   "outputs": [
    {
     "data": {
      "text/plain": [
       "(93, 5)"
      ]
     },
     "execution_count": 29,
     "metadata": {},
     "output_type": "execute_result"
    }
   ],
   "source": [
    "data1.shape"
   ]
  },
  {
   "cell_type": "code",
   "execution_count": 30,
   "id": "09f56614-875f-46c7-b053-c2268a22c917",
   "metadata": {
    "tags": []
   },
   "outputs": [
    {
     "data": {
      "text/plain": [
       "Index(['title', 'description', 'ingredients', 'steps'], dtype='object')"
      ]
     },
     "execution_count": 30,
     "metadata": {},
     "output_type": "execute_result"
    }
   ],
   "source": [
    "data1.drop(columns='id', axis=1, inplace=True)\n",
    "data1.columns"
   ]
  },
  {
   "cell_type": "code",
   "execution_count": 31,
   "id": "b723e9b4-0b95-4de3-aa75-37bda9c25938",
   "metadata": {
    "tags": []
   },
   "outputs": [],
   "source": [
    "data1.to_csv('Cleaned Data/Moroccan Data/scrapped_moroccan_recipes1.csv', index=False)"
   ]
  },
  {
   "cell_type": "markdown",
   "id": "6342acf2-5531-46fd-b783-f102f1752a04",
   "metadata": {},
   "source": [
    "---"
   ]
  },
  {
   "cell_type": "code",
   "execution_count": 65,
   "id": "b950bca0-410e-405c-8598-496b995d1a41",
   "metadata": {
    "tags": []
   },
   "outputs": [],
   "source": [
    "client = ScrapflyClient(key=\"scp-live-32ce28606fc94171b283a3459c6f32ff\")\n",
    "\n",
    "def get_html_content(url):\n",
    "    result = client.scrape(ScrapeConfig(url=url, asp=True, render_js=True))\n",
    "    if result.status_code != 200:\n",
    "        print(\"Error:\", result.error)\n",
    "        return None\n",
    "    return result.content"
   ]
  },
  {
   "cell_type": "code",
   "execution_count": 66,
   "id": "8252123a-ab73-4958-85a9-709ed4ef5c08",
   "metadata": {
    "tags": []
   },
   "outputs": [
    {
     "name": "stdout",
     "output_type": "stream",
     "text": [
      "58\n",
      "Pressure Cooker Moroccan Lamb or Beef Tagine With Prunes\n",
      "Moroccan Chicken Tagine with Olives and Preserved Lemons\n",
      "Moroccan Chermoula Marinade\n",
      "Moroccan Roasted Chicken With Preserved Lemons\n",
      "Moroccan Chicken Rfissa - Trid Pastry With Chicken, Lentils, and Fenugreek\n",
      "Seffa Medfouna Recipe (Vermicelli With Saffron Chicken)\n",
      "Moroccan Chicken Tagine With Nigella Seeds (Black Seeds or Sanouj)\n",
      "Moroccan Baked Fish Tagine With Potatoes, Carrots, Tomatoes and Peppers Recipe\n",
      "Moroccan Tagine With Carrots, Potatoes, and Chickpeas Recipe\n",
      "Moroccan Harcha Semolina Pan-Fried Flatbread\n",
      "Moroccan Lamb or Beef Tagine with Apricots\n",
      "Moroccan Fish Tagine (Mqualli)\n",
      "Spicy Moroccan Rice with Tomatoes and Peppers\n",
      "Moroccan Couscous With Meat and Seven Vegetables\n",
      "Moroccan Vegetarian Carrot and Chickpea Tagine\n",
      "Moroccan Grilled Lamb Chops With Garlic, Mint and Spices Recipe\n",
      "Moroccan Saffron Chicken\n",
      "Classic Moroccan Lamb or Beef Kebabs (Brochettes)\n",
      "Moroccan Black-Eyed Peas (Cowpeas) - Ful Gnaoua\n",
      "Moroccan Chicken and Apricot Tagine\n",
      "Moroccan Berber Tagine With Lamb or Beef and Vegetables\n",
      "Moroccan Lamb Tagine With Raisins, Almonds, and Honey\n",
      "Moroccan Merguez Sausage\n",
      "Moroccan Kefta Kebab\n",
      "Moroccan Steak Marinade\n",
      "Moroccan Cauliflower With Preserved Lemon\n",
      "Moroccan Lamb or Beef Tagine With Peas and Artichokes Recipe\n",
      "Moroccan Cow Feet With Chickpeas and Raisins\n",
      "Vegetarian Moroccan Lentils Recipe\n",
      "Moroccan Couscous, Caramelized Onions & Raisins (Couscous Tfaya)\n",
      "Loubia (Moroccan Stewed White Beans)\n",
      "Moroccan Lamb Tagine With Dates\n",
      "Moroccan Kefta (Ground Meat) Briouat Recipe\n",
      "Serrouda (Moroccan Chickpea Puree)\n",
      "Moroccan Baked Whole Sardines\n",
      "Moroccan Fried Whiting Fish\n",
      "Moroccan Fried Liver and Onions\n",
      "Stovetop Moroccan Chicken With Preserved Lemon and Olives\n",
      "Moroccan Chicken Tagine With Potatoes and Olives Recipe\n",
      "Moroccan Steamed Sheep's Head\n",
      "Moroccan Kefta Tagine\n",
      "Vegetarian Moroccan Mixed Vegetable Tagine\n",
      "Moroccan Chicken or Turkey Kebabs (Brochettes) Recipe\n",
      "Moroccan Chicken and Onion Tagine Recipe With Djaj Beldi\n",
      "Seafood Bastilla With Shrimp, Calamari and Fish\n",
      "Moroccan Lamb or Beef Recipe With Almonds and Rice\n",
      "Moroccan Tangia Marrakchia\n",
      "Moroccan Okra, Zucchini and Tomato Tagine Recipe\n",
      "Moroccan Style Hamburger Recipe\n",
      "Moroccan Tagine With Quinces (Safarjal) and Honey\n",
      "Moroccan Tuna Bocadillos With Olives, Potatoes and Harissa\n",
      "Moroccan Tagine of Shrimp in Tomato Sauce Recipe\n",
      "Dchicha Cracked Wheat Soup\n",
      "Lamb Tagine With Preserved Lemon and Olives Recipe\n"
     ]
    }
   ],
   "source": [
    "url2 = \"https://www.thespruceeats.com/moroccan-main-dishes-4162467\"\n",
    "response2 = get_html_content(url2)\n",
    "\n",
    "if response2:\n",
    "    soup2 = BeautifulSoup(response2, 'html.parser')\n",
    "    all_recipes2 = soup2.find('div', {'id': 'mntl-taxonomysc-article-list-group_1-0'})\n",
    "    all_recipes2 = all_recipes2.find_all('a')\n",
    "    print(len(all_recipes2))\n",
    "\n",
    "    recipes_content2 = []\n",
    "    id2 = 1\n",
    "\n",
    "    for recipe in all_recipes2:\n",
    "        recipe_link = recipe.attrs['href']\n",
    "        \n",
    "        response_2 = get_html_content(recipe_link)\n",
    "        if response_2:\n",
    "            soup_2 = BeautifulSoup(response_2, 'html.parser')\n",
    "            recipe_content = soup_2.find('article', {'id': 'article--structured-project_1-0'})\n",
    "            \n",
    "            if recipe_content:\n",
    "                title = recipe_content.find('h1', {'class': 'heading__title'}).text.strip()\n",
    "                print(title)\n",
    "\n",
    "                total_time_container = recipe_content.find('div', {'id': 'project-meta_1-0'})\n",
    "                total_time_container = total_time_container.find('div', {'class': 'total-time project-meta__total-time'})\n",
    "                total_time = total_time_container.find('span', {'class': 'meta-text__data'}).text.strip()\n",
    "\n",
    "                description_container = recipe_content.find('div', {'id': 'article__header--project_1-0'})\n",
    "                all_paragraphs = description_container.find_all('p')\n",
    "                description = ''.join([p.get_text().strip().replace('\\n', '') for p in all_paragraphs])\n",
    "\n",
    "                ingredients_container = recipe_content.find('section', {'id': 'section--ingredients_1-0'})\n",
    "                ingredients_content = ingredients_container.find('ul')\n",
    "                ingredients = [li.text.replace('\\n', '') for li in ingredients_content.find_all('li')]\n",
    "\n",
    "                steps_container = recipe_content.find('section', {'id': 'section--instructions_1-0'})\n",
    "                steps_dict = {}\n",
    "                h2_elements = steps_container.find_all('h2')\n",
    "                for h2 in h2_elements:\n",
    "                    h2_text = h2.get_text(strip=True)\n",
    "                    ol = h2.find_next('ol')\n",
    "                    if ol:\n",
    "                        steps = [li.get_text(strip=True) for li in ol.find_all('li')]\n",
    "                        steps_dict[h2_text] = steps\n",
    "\n",
    "                recipes_content2.append({\n",
    "                    'id': id2,\n",
    "                    'title': title,\n",
    "                    'description': description,\n",
    "                    'total_time': total_time,\n",
    "                    'ingredients': ingredients,\n",
    "                    'steps': steps_dict,\n",
    "                })\n",
    "                id2 += 1\n",
    "        \n",
    "        time.sleep(5)  # Add a delay to prevent rapid requests"
   ]
  },
  {
   "cell_type": "code",
   "execution_count": 71,
   "id": "5ba5f91b-1ae7-4dd8-badc-8b0fe589ce52",
   "metadata": {
    "tags": []
   },
   "outputs": [
    {
     "data": {
      "text/html": [
       "<div>\n",
       "<style scoped>\n",
       "    .dataframe tbody tr th:only-of-type {\n",
       "        vertical-align: middle;\n",
       "    }\n",
       "\n",
       "    .dataframe tbody tr th {\n",
       "        vertical-align: top;\n",
       "    }\n",
       "\n",
       "    .dataframe thead th {\n",
       "        text-align: right;\n",
       "    }\n",
       "</style>\n",
       "<table border=\"1\" class=\"dataframe\">\n",
       "  <thead>\n",
       "    <tr style=\"text-align: right;\">\n",
       "      <th></th>\n",
       "      <th>id</th>\n",
       "      <th>title</th>\n",
       "      <th>description</th>\n",
       "      <th>total_time</th>\n",
       "      <th>ingredients</th>\n",
       "      <th>steps</th>\n",
       "    </tr>\n",
       "  </thead>\n",
       "  <tbody>\n",
       "    <tr>\n",
       "      <th>0</th>\n",
       "      <td>1</td>\n",
       "      <td>Pressure Cooker Moroccan Lamb or Beef Tagine W...</td>\n",
       "      <td>Beef or lamb with prunes is a classic sweet an...</td>\n",
       "      <td>85 mins</td>\n",
       "      <td>[2 pounds tender lamb, or beef, cut into 3-inc...</td>\n",
       "      <td>{'Steps to Make It': ['Gather the ingredients....</td>\n",
       "    </tr>\n",
       "    <tr>\n",
       "      <th>1</th>\n",
       "      <td>2</td>\n",
       "      <td>Moroccan Chicken Tagine with Olives and Preser...</td>\n",
       "      <td>A classic dish, this Moroccan chicken tagine g...</td>\n",
       "      <td>5 hrs 10 mins</td>\n",
       "      <td>[1 to 2 preserved lemons, quartered and seeds ...</td>\n",
       "      <td>{'Steps to Make It': ['Gather the ingredients....</td>\n",
       "    </tr>\n",
       "    <tr>\n",
       "      <th>2</th>\n",
       "      <td>3</td>\n",
       "      <td>Moroccan Chermoula Marinade</td>\n",
       "      <td>Chermoula is a thick marinade for fish and the...</td>\n",
       "      <td>10 mins</td>\n",
       "      <td>[1 large bunch cilantro, finely chopped (only ...</td>\n",
       "      <td>{'Steps to Make It': ['Gather the ingredients....</td>\n",
       "    </tr>\n",
       "    <tr>\n",
       "      <th>3</th>\n",
       "      <td>4</td>\n",
       "      <td>Moroccan Roasted Chicken With Preserved Lemons</td>\n",
       "      <td>Chicken with Preserved Lemon and Olives is a c...</td>\n",
       "      <td>3 hrs 20 mins</td>\n",
       "      <td>[1 whole chicken, 1/2 teaspoon salt, 1/2 teasp...</td>\n",
       "      <td>{'Steps to Make It': ['Make a spice rub for th...</td>\n",
       "    </tr>\n",
       "    <tr>\n",
       "      <th>4</th>\n",
       "      <td>5</td>\n",
       "      <td>Moroccan Chicken Rfissa - Trid Pastry With Chi...</td>\n",
       "      <td>There may be nothing elegant about pouring hot...</td>\n",
       "      <td>3 hrs 30 mins</td>\n",
       "      <td>[1 chicken, quartered, or left whole, 2 to 3 l...</td>\n",
       "      <td>{'Steps to Make It': ['To reduce their pungenc...</td>\n",
       "    </tr>\n",
       "  </tbody>\n",
       "</table>\n",
       "</div>"
      ],
      "text/plain": [
       "   id                                              title  \\\n",
       "0   1  Pressure Cooker Moroccan Lamb or Beef Tagine W...   \n",
       "1   2  Moroccan Chicken Tagine with Olives and Preser...   \n",
       "2   3                        Moroccan Chermoula Marinade   \n",
       "3   4     Moroccan Roasted Chicken With Preserved Lemons   \n",
       "4   5  Moroccan Chicken Rfissa - Trid Pastry With Chi...   \n",
       "\n",
       "                                         description     total_time  \\\n",
       "0  Beef or lamb with prunes is a classic sweet an...        85 mins   \n",
       "1  A classic dish, this Moroccan chicken tagine g...  5 hrs 10 mins   \n",
       "2  Chermoula is a thick marinade for fish and the...        10 mins   \n",
       "3  Chicken with Preserved Lemon and Olives is a c...  3 hrs 20 mins   \n",
       "4  There may be nothing elegant about pouring hot...  3 hrs 30 mins   \n",
       "\n",
       "                                         ingredients  \\\n",
       "0  [2 pounds tender lamb, or beef, cut into 3-inc...   \n",
       "1  [1 to 2 preserved lemons, quartered and seeds ...   \n",
       "2  [1 large bunch cilantro, finely chopped (only ...   \n",
       "3  [1 whole chicken, 1/2 teaspoon salt, 1/2 teasp...   \n",
       "4  [1 chicken, quartered, or left whole, 2 to 3 l...   \n",
       "\n",
       "                                               steps  \n",
       "0  {'Steps to Make It': ['Gather the ingredients....  \n",
       "1  {'Steps to Make It': ['Gather the ingredients....  \n",
       "2  {'Steps to Make It': ['Gather the ingredients....  \n",
       "3  {'Steps to Make It': ['Make a spice rub for th...  \n",
       "4  {'Steps to Make It': ['To reduce their pungenc...  "
      ]
     },
     "execution_count": 71,
     "metadata": {},
     "output_type": "execute_result"
    }
   ],
   "source": [
    "data2 = pd.DataFrame(recipes_content2)\n",
    "data2.head()"
   ]
  },
  {
   "cell_type": "code",
   "execution_count": 72,
   "id": "b7609a5f-4c5f-4e24-ae03-63c2a884e4bf",
   "metadata": {
    "tags": []
   },
   "outputs": [
    {
     "data": {
      "text/plain": [
       "(56, 6)"
      ]
     },
     "execution_count": 72,
     "metadata": {},
     "output_type": "execute_result"
    }
   ],
   "source": [
    "data2.shape"
   ]
  },
  {
   "cell_type": "code",
   "execution_count": 73,
   "id": "692b64c4-43c7-44f6-801d-65738c8df4de",
   "metadata": {
    "tags": []
   },
   "outputs": [
    {
     "data": {
      "text/plain": [
       "Index(['title', 'description', 'total_time', 'ingredients', 'steps'], dtype='object')"
      ]
     },
     "execution_count": 73,
     "metadata": {},
     "output_type": "execute_result"
    }
   ],
   "source": [
    "data2.drop(columns='id', axis=1, inplace=True)\n",
    "data2.columns"
   ]
  },
  {
   "cell_type": "code",
   "execution_count": 74,
   "id": "0c75f86e-037e-4e73-a762-e7e48f906956",
   "metadata": {
    "tags": []
   },
   "outputs": [],
   "source": [
    "data2.to_csv('Cleaned Data/Moroccan Data/scrapped_moroccan_recipes2.csv', index=False)"
   ]
  },
  {
   "cell_type": "markdown",
   "id": "e619350b-e17b-49ac-a859-b9ff696c52a7",
   "metadata": {},
   "source": [
    "---"
   ]
  },
  {
   "cell_type": "code",
   "execution_count": 87,
   "id": "2387724a-f44a-46d2-83f1-dc063ff2bbc5",
   "metadata": {
    "tags": []
   },
   "outputs": [
    {
     "name": "stdout",
     "output_type": "stream",
     "text": [
      "Moroccan Couscous\n",
      "Make-Ahead Vegetarian Moroccan Stew\n",
      "Easy Moroccan Chicken Tagine\n",
      "Spanish Moroccan Fish\n",
      "Moroccan Chicken\n",
      "Moroccan Lentil Soup with Veggies\n",
      "Moroccan-Style Stuffed Acorn Squash\n",
      "Moroccan Chickpea Stew\n",
      "Sweet and Nutty Moroccan Couscous\n",
      "Moroccan Chicken and Whole Grain Couscous\n",
      "Moroccan Lentil Soup\n",
      "Cara's Moroccan Stew\n",
      "Moroccan Lamb with Shiraz Honey Sauce\n",
      "Slow Cooker Moroccan Chicken\n",
      "Moroccan Harira (Bean Soup)\n",
      "Make-Ahead Moroccan Lamb Stew\n",
      "Cold Roasted Moroccan Spiced Salmon\n",
      "Israeli Moroccan Couscous\n",
      "Moroccan Meat Cigars\n",
      "Moroccan Chicken Thighs\n",
      "Moroccan Fig Pork Roast\n",
      "Moroccan-Spiced Pork Roast\n",
      "Moroccan Black-Eyed Peas (Cowpeas)\n",
      "Vegetarian Moroccan Stew\n",
      "Moroccan Harira Soup\n",
      "Moroccan Lamb Tagine\n",
      "Moroccan Potato Casserole\n",
      "Moroccan Mashed Potatoes\n",
      "Moroccan Chicken Tagine\n",
      "Moroccan-Spiced Chicken Skewers\n",
      "Error: None\n",
      "Error: None\n",
      "Error: None\n",
      "Error: None\n",
      "Error: None\n",
      "Error: None\n",
      "Error: None\n",
      "Error: None\n",
      "Error: None\n",
      "Error: None\n",
      "Error: None\n",
      "Error: None\n",
      "Error: None\n",
      "Error: None\n",
      "Error: None\n",
      "Error: None\n",
      "Error: None\n",
      "Error: None\n",
      "Error: None\n"
     ]
    },
    {
     "ename": "TypeError",
     "evalue": "object of type 'NoneType' has no len()",
     "output_type": "error",
     "traceback": [
      "\u001b[1;31m---------------------------------------------------------------------------\u001b[0m",
      "\u001b[1;31mTypeError\u001b[0m                                 Traceback (most recent call last)",
      "Cell \u001b[1;32mIn[87], line 9\u001b[0m\n\u001b[0;32m      7\u001b[0m url3 \u001b[38;5;241m=\u001b[39m \u001b[38;5;124mf\u001b[39m\u001b[38;5;124m\"\u001b[39m\u001b[38;5;124mhttps://www.allrecipes.com/search?moroccan=moroccan&offset=\u001b[39m\u001b[38;5;132;01m{\u001b[39;00moffset\u001b[38;5;132;01m}\u001b[39;00m\u001b[38;5;124m&q=moroccan\u001b[39m\u001b[38;5;124m\"\u001b[39m\n\u001b[0;32m      8\u001b[0m response3 \u001b[38;5;241m=\u001b[39m get_html_content(url3)\n\u001b[1;32m----> 9\u001b[0m soup3 \u001b[38;5;241m=\u001b[39m \u001b[43mBeautifulSoup\u001b[49m\u001b[43m(\u001b[49m\u001b[43mresponse3\u001b[49m\u001b[43m,\u001b[49m\u001b[43m \u001b[49m\u001b[38;5;124;43m'\u001b[39;49m\u001b[38;5;124;43mhtml.parser\u001b[39;49m\u001b[38;5;124;43m'\u001b[39;49m\u001b[43m)\u001b[49m\n\u001b[0;32m     11\u001b[0m recipes_container \u001b[38;5;241m=\u001b[39m soup3\u001b[38;5;241m.\u001b[39mfind(\u001b[38;5;124m'\u001b[39m\u001b[38;5;124mdiv\u001b[39m\u001b[38;5;124m'\u001b[39m, {\u001b[38;5;124m'\u001b[39m\u001b[38;5;124mid\u001b[39m\u001b[38;5;124m'\u001b[39m: \u001b[38;5;124m'\u001b[39m\u001b[38;5;124mmntl-search-results__list_1-0\u001b[39m\u001b[38;5;124m'\u001b[39m})\n\u001b[0;32m     12\u001b[0m all_recipes_links \u001b[38;5;241m=\u001b[39m recipes_container\u001b[38;5;241m.\u001b[39mfind_all(\u001b[38;5;124m'\u001b[39m\u001b[38;5;124ma\u001b[39m\u001b[38;5;124m'\u001b[39m)\n",
      "File \u001b[1;32m~\\AppData\\Local\\Programs\\Python\\Python312\\Lib\\site-packages\\bs4\\__init__.py:315\u001b[0m, in \u001b[0;36mBeautifulSoup.__init__\u001b[1;34m(self, markup, features, builder, parse_only, from_encoding, exclude_encodings, element_classes, **kwargs)\u001b[0m\n\u001b[0;32m    313\u001b[0m \u001b[38;5;28;01mif\u001b[39;00m \u001b[38;5;28mhasattr\u001b[39m(markup, \u001b[38;5;124m'\u001b[39m\u001b[38;5;124mread\u001b[39m\u001b[38;5;124m'\u001b[39m):        \u001b[38;5;66;03m# It's a file-type object.\u001b[39;00m\n\u001b[0;32m    314\u001b[0m     markup \u001b[38;5;241m=\u001b[39m markup\u001b[38;5;241m.\u001b[39mread()\n\u001b[1;32m--> 315\u001b[0m \u001b[38;5;28;01melif\u001b[39;00m \u001b[38;5;28;43mlen\u001b[39;49m\u001b[43m(\u001b[49m\u001b[43mmarkup\u001b[49m\u001b[43m)\u001b[49m \u001b[38;5;241m<\u001b[39m\u001b[38;5;241m=\u001b[39m \u001b[38;5;241m256\u001b[39m \u001b[38;5;129;01mand\u001b[39;00m (\n\u001b[0;32m    316\u001b[0m         (\u001b[38;5;28misinstance\u001b[39m(markup, \u001b[38;5;28mbytes\u001b[39m) \u001b[38;5;129;01mand\u001b[39;00m \u001b[38;5;129;01mnot\u001b[39;00m \u001b[38;5;124mb\u001b[39m\u001b[38;5;124m'\u001b[39m\u001b[38;5;124m<\u001b[39m\u001b[38;5;124m'\u001b[39m \u001b[38;5;129;01min\u001b[39;00m markup)\n\u001b[0;32m    317\u001b[0m         \u001b[38;5;129;01mor\u001b[39;00m (\u001b[38;5;28misinstance\u001b[39m(markup, \u001b[38;5;28mstr\u001b[39m) \u001b[38;5;129;01mand\u001b[39;00m \u001b[38;5;129;01mnot\u001b[39;00m \u001b[38;5;124m'\u001b[39m\u001b[38;5;124m<\u001b[39m\u001b[38;5;124m'\u001b[39m \u001b[38;5;129;01min\u001b[39;00m markup)\n\u001b[0;32m    318\u001b[0m ):\n\u001b[0;32m    319\u001b[0m     \u001b[38;5;66;03m# Issue warnings for a couple beginner problems\u001b[39;00m\n\u001b[0;32m    320\u001b[0m     \u001b[38;5;66;03m# involving passing non-markup to Beautiful Soup.\u001b[39;00m\n\u001b[0;32m    321\u001b[0m     \u001b[38;5;66;03m# Beautiful Soup will still parse the input as markup,\u001b[39;00m\n\u001b[0;32m    322\u001b[0m     \u001b[38;5;66;03m# since that is sometimes the intended behavior.\u001b[39;00m\n\u001b[0;32m    323\u001b[0m     \u001b[38;5;28;01mif\u001b[39;00m \u001b[38;5;129;01mnot\u001b[39;00m \u001b[38;5;28mself\u001b[39m\u001b[38;5;241m.\u001b[39m_markup_is_url(markup):\n\u001b[0;32m    324\u001b[0m         \u001b[38;5;28mself\u001b[39m\u001b[38;5;241m.\u001b[39m_markup_resembles_filename(markup)                \n",
      "\u001b[1;31mTypeError\u001b[0m: object of type 'NoneType' has no len()"
     ]
    }
   ],
   "source": [
    "recipes_content3 = []\n",
    "id3 = 1\n",
    "\n",
    "for i in range(5) :\n",
    "    offset = i * 24\n",
    "    # offset = 0\n",
    "    url3 = f\"https://www.allrecipes.com/search?moroccan=moroccan&offset={offset}&q=moroccan\"\n",
    "    response3 = get_html_content(url3)\n",
    "    soup3 = BeautifulSoup(response3, 'html.parser')\n",
    "\n",
    "    recipes_container = soup3.find('div', {'id': 'mntl-search-results__list_1-0'})\n",
    "    all_recipes_links = recipes_container.find_all('a')\n",
    "\n",
    "    for recipe in all_recipes_links :\n",
    "        recipe_link = recipe.attrs['href']\n",
    "        # print(recipe_link)\n",
    "        response_3 = get_html_content(recipe_link)\n",
    "        if response_3:\n",
    "            soup_3 = BeautifulSoup(response_3, 'html.parser')\n",
    "            recipe_content = soup_3.find('article', {'id': 'allrecipes-article_1-0'})\n",
    "            \n",
    "            if recipe_content:\n",
    "                title_describtion_container = recipe_content.find('div', {'id': 'article-header--recipe_1-0'})\n",
    "                # -------------------------\n",
    "                title = title_describtion_container.find('h1', {'class': 'article-heading type--lion'}).text.strip()\n",
    "                print(title)\n",
    "                # -------------------------\n",
    "                description = title_describtion_container.find('p', {'class': 'article-subheading type--dog'}).text.strip()\n",
    "                # print(description)\n",
    "                # -------------------------\n",
    "                total_time_container = recipe_content.find('div', {'id': 'mm-recipes-details_1-0'})\n",
    "                total_time_container = total_time_container.find('div', {'class': 'mm-recipes-details__item'})\n",
    "                total_time = total_time_container.find('div', {'class': 'mm-recipes-details__value'}).text.strip()\n",
    "                # print(total_time)\n",
    "                # -------------------------\n",
    "                ingredients_container = recipe_content.find('div', {'id': 'mm-recipes-structured-ingredients_1-0'})\n",
    "                ingredients_content = ingredients_container.find('ul')\n",
    "                ingredients = [li.text.replace('\\n', '') for li in ingredients_content.find_all('li')]\n",
    "                # print(ingredients)\n",
    "                # -------------------------\n",
    "                steps_container = recipe_content.find('div', {'id': 'mm-recipes-steps__content_1-0'})\n",
    "                steps_content = steps_container.find('ol')\n",
    "                steps = [li.text.replace('\\n', '') for li in steps_content.find_all('li')]\n",
    "                # print(steps)\n",
    "                # -------------------------\n",
    "                recipes_content3.append({\n",
    "                    'id': id3,\n",
    "                    'title': title,\n",
    "                    'description': description,\n",
    "                    'total_time': total_time,\n",
    "                    'ingredients': ingredients,\n",
    "                    'steps': steps,\n",
    "                })\n",
    "                id3 += 1\n",
    "                # print('//'*50)\n",
    "        # time.sleep(2)"
   ]
  },
  {
   "cell_type": "code",
   "execution_count": null,
   "id": "bf5ab802-771b-41e9-8a48-569b8a92dd15",
   "metadata": {},
   "outputs": [],
   "source": [
    "data3 = pd.DataFrame(recipes_content2)\n",
    "data3.head()"
   ]
  },
  {
   "cell_type": "code",
   "execution_count": null,
   "id": "feb1227c-d002-445f-a763-ca7dfb5bdfa2",
   "metadata": {},
   "outputs": [],
   "source": [
    "data3.shape"
   ]
  },
  {
   "cell_type": "code",
   "execution_count": null,
   "id": "1036e6eb-a38f-4e8e-b17c-1143cb5d5ea2",
   "metadata": {},
   "outputs": [],
   "source": [
    "data3.drop(columns='id', axis=1, inplace=True)\n",
    "data3.columns"
   ]
  },
  {
   "cell_type": "code",
   "execution_count": null,
   "id": "e32476c2-d4c5-4852-ad3a-5bf7a2cf63e3",
   "metadata": {},
   "outputs": [],
   "source": [
    "data3.to_csv('Cleaned Data/Moroccan Data/scrapped_moroccan_recipes3.csv', index=False)"
   ]
  },
  {
   "cell_type": "markdown",
   "id": "1c3fd949-8b78-4082-9883-8a1e33ed0374",
   "metadata": {},
   "source": [
    "------"
   ]
  },
  {
   "cell_type": "code",
   "execution_count": 94,
   "id": "1ad5edf9-ed41-451c-80b3-d3661b1fa879",
   "metadata": {
    "tags": []
   },
   "outputs": [],
   "source": [
    "# Load your HTML content\n",
    "with open('recipes datasets/Moroccan Recipes.txt', 'r', encoding='utf-8') as file:\n",
    "    content = file.read()\n",
    "\n",
    "soup = BeautifulSoup(content, 'html.parser')\n",
    "\n",
    "# Extract all the headers (meal names) and their descriptions\n",
    "meal_data = []\n",
    "for header in soup.find_all('h3', {'class': 'wp-block-heading headers'}):\n",
    "    meal_name = header.get_text(strip=True)  # Get meal name\n",
    "    description = header.find_next('p').get_text(strip=True)  # Get description under the header\n",
    "    \n",
    "    meal_data.append({\n",
    "        'meal_name': meal_name,\n",
    "        'description': description\n",
    "    })"
   ]
  },
  {
   "cell_type": "code",
   "execution_count": 95,
   "id": "a8822d57-527f-4e83-805d-5d6074f53ca2",
   "metadata": {
    "tags": []
   },
   "outputs": [
    {
     "data": {
      "text/html": [
       "<div>\n",
       "<style scoped>\n",
       "    .dataframe tbody tr th:only-of-type {\n",
       "        vertical-align: middle;\n",
       "    }\n",
       "\n",
       "    .dataframe tbody tr th {\n",
       "        vertical-align: top;\n",
       "    }\n",
       "\n",
       "    .dataframe thead th {\n",
       "        text-align: right;\n",
       "    }\n",
       "</style>\n",
       "<table border=\"1\" class=\"dataframe\">\n",
       "  <thead>\n",
       "    <tr style=\"text-align: right;\">\n",
       "      <th></th>\n",
       "      <th>meal_name</th>\n",
       "      <th>description</th>\n",
       "    </tr>\n",
       "  </thead>\n",
       "  <tbody>\n",
       "    <tr>\n",
       "      <th>0</th>\n",
       "      <td>1. Beef Tagine (Moroccan Beef Stew)</td>\n",
       "      <td>Beef Tagine is one of the most comforting and ...</td>\n",
       "    </tr>\n",
       "    <tr>\n",
       "      <th>1</th>\n",
       "      <td>2. Zaalouk (Moroccan Eggplant Dip)</td>\n",
       "      <td>Are you a fan of delicious dips? Then you shou...</td>\n",
       "    </tr>\n",
       "    <tr>\n",
       "      <th>2</th>\n",
       "      <td>3. Harira –  Moroccan Lamb and Legume Soup</td>\n",
       "      <td>Another famous Ramadan month meal is this Hari...</td>\n",
       "    </tr>\n",
       "    <tr>\n",
       "      <th>3</th>\n",
       "      <td>4. Moroccan Chicken Tagine</td>\n",
       "      <td>Our Moroccan Chicken not only looks super invi...</td>\n",
       "    </tr>\n",
       "    <tr>\n",
       "      <th>4</th>\n",
       "      <td>5. Kefta Mkaouara (Moroccan Meatballs)</td>\n",
       "      <td>Tagine-made food is always special and has ama...</td>\n",
       "    </tr>\n",
       "  </tbody>\n",
       "</table>\n",
       "</div>"
      ],
      "text/plain": [
       "                                    meal_name  \\\n",
       "0         1. Beef Tagine (Moroccan Beef Stew)   \n",
       "1          2. Zaalouk (Moroccan Eggplant Dip)   \n",
       "2  3. Harira –  Moroccan Lamb and Legume Soup   \n",
       "3                  4. Moroccan Chicken Tagine   \n",
       "4      5. Kefta Mkaouara (Moroccan Meatballs)   \n",
       "\n",
       "                                         description  \n",
       "0  Beef Tagine is one of the most comforting and ...  \n",
       "1  Are you a fan of delicious dips? Then you shou...  \n",
       "2  Another famous Ramadan month meal is this Hari...  \n",
       "3  Our Moroccan Chicken not only looks super invi...  \n",
       "4  Tagine-made food is always special and has ama...  "
      ]
     },
     "execution_count": 95,
     "metadata": {},
     "output_type": "execute_result"
    }
   ],
   "source": [
    "data4 = pd.DataFrame(meal_data)\n",
    "data4.head()"
   ]
  },
  {
   "cell_type": "code",
   "execution_count": 96,
   "id": "9b80c14d-b6c7-495e-96f4-0f4d9eeb7c53",
   "metadata": {
    "tags": []
   },
   "outputs": [
    {
     "data": {
      "text/html": [
       "<div>\n",
       "<style scoped>\n",
       "    .dataframe tbody tr th:only-of-type {\n",
       "        vertical-align: middle;\n",
       "    }\n",
       "\n",
       "    .dataframe tbody tr th {\n",
       "        vertical-align: top;\n",
       "    }\n",
       "\n",
       "    .dataframe thead th {\n",
       "        text-align: right;\n",
       "    }\n",
       "</style>\n",
       "<table border=\"1\" class=\"dataframe\">\n",
       "  <thead>\n",
       "    <tr style=\"text-align: right;\">\n",
       "      <th></th>\n",
       "      <th>meal_name</th>\n",
       "      <th>description</th>\n",
       "    </tr>\n",
       "  </thead>\n",
       "  <tbody>\n",
       "    <tr>\n",
       "      <th>0</th>\n",
       "      <td>Beef Tagine</td>\n",
       "      <td>Beef Tagine is one of the most comforting and ...</td>\n",
       "    </tr>\n",
       "    <tr>\n",
       "      <th>1</th>\n",
       "      <td>Zaalouk</td>\n",
       "      <td>Are you a fan of delicious dips? Then you shou...</td>\n",
       "    </tr>\n",
       "    <tr>\n",
       "      <th>2</th>\n",
       "      <td>Harira Moroccan Lamb and Legume Soup</td>\n",
       "      <td>Another famous Ramadan month meal is this Hari...</td>\n",
       "    </tr>\n",
       "    <tr>\n",
       "      <th>3</th>\n",
       "      <td>Moroccan Chicken Tagine</td>\n",
       "      <td>Our Moroccan Chicken not only looks super invi...</td>\n",
       "    </tr>\n",
       "    <tr>\n",
       "      <th>4</th>\n",
       "      <td>Kefta Mkaouara</td>\n",
       "      <td>Taginemade food is always special and has amaz...</td>\n",
       "    </tr>\n",
       "  </tbody>\n",
       "</table>\n",
       "</div>"
      ],
      "text/plain": [
       "                              meal_name  \\\n",
       "0                           Beef Tagine   \n",
       "1                               Zaalouk   \n",
       "2  Harira Moroccan Lamb and Legume Soup   \n",
       "3               Moroccan Chicken Tagine   \n",
       "4                        Kefta Mkaouara   \n",
       "\n",
       "                                         description  \n",
       "0  Beef Tagine is one of the most comforting and ...  \n",
       "1  Are you a fan of delicious dips? Then you shou...  \n",
       "2  Another famous Ramadan month meal is this Hari...  \n",
       "3  Our Moroccan Chicken not only looks super invi...  \n",
       "4  Taginemade food is always special and has amaz...  "
      ]
     },
     "execution_count": 96,
     "metadata": {},
     "output_type": "execute_result"
    }
   ],
   "source": [
    "def clean_text(text):\n",
    "    text = re.sub(r'\\d+', '', text)\n",
    "    text = re.sub(r'\\([^)]*\\)', '', text)\n",
    "    text = re.sub(r'[^a-zA-Z\\s,.!?]', '', text)\n",
    "    text = re.sub(r'\\s+', ' ', text).strip()\n",
    "    return text\n",
    "\n",
    "data4['description'] = data4['description'].apply(clean_text)\n",
    "data4['meal_name'] = data4['meal_name'].apply(clean_text)\n",
    "data4['meal_name'] = data4['meal_name'].str.strip('. ')\n",
    "\n",
    "data4.head()"
   ]
  },
  {
   "cell_type": "code",
   "execution_count": 97,
   "id": "ceb90c42-bb7a-4066-ac2d-4f81a79cf3de",
   "metadata": {
    "tags": []
   },
   "outputs": [],
   "source": [
    "data4.to_csv('Cleaned Data/Moroccan Data/scrapped_moroccan_recipes4.csv', index=False)"
   ]
  },
  {
   "cell_type": "markdown",
   "id": "3ddc702e-9bff-44eb-b0ec-01e2888c1a03",
   "metadata": {},
   "source": [
    "---------------"
   ]
  },
  {
   "cell_type": "code",
   "execution_count": 109,
   "id": "a5326cf7-224b-485c-b9dd-16eb50e10d0c",
   "metadata": {
    "tags": []
   },
   "outputs": [
    {
     "name": "stdout",
     "output_type": "stream",
     "text": [
      "132\n",
      "Zaalouk Dip\n",
      "----------------------------------------------------------------------------------------------------\n"
     ]
    },
    {
     "name": "stderr",
     "output_type": "stream",
     "text": [
      "C:\\Users\\pc\\AppData\\Local\\Temp\\ipykernel_19148\\1126165718.py:34: DeprecationWarning: The 'text' argument to find()-type methods is deprecated. Use 'string' instead.\n",
      "  ingredients_section = recipe_content.find(re.compile(r'(h1|h2|h3)'), text=re.compile(r\"\\s*INGREDIENTS\\s*\", re.IGNORECASE))\n"
     ]
    },
    {
     "name": "stdout",
     "output_type": "stream",
     "text": [
      "Peach and tomato salad with orange blossom and honey dressing\n",
      "----------------------------------------------------------------------------------------------------\n",
      "Kefta meatballs and tomato sauce tagine with jalapeño & herb yoghurt sauce\n",
      "----------------------------------------------------------------------------------------------------\n",
      "Sesame seeds gazelle horns with rainbow sprinkles\n",
      "----------------------------------------------------------------------------------------------------\n",
      "Moroccan spiced fish fillets and bell peppers in tomato sauce\n",
      "----------------------------------------------------------------------------------------------------\n",
      "Baghrir pancakes with brown butter spiced apples\n",
      "----------------------------------------------------------------------------------------------------\n",
      "Ras El Hanout and chocolate chunk pumpkin bread\n",
      "----------------------------------------------------------------------------------------------------\n",
      "Sweet Chermoula Whole Roasted Cauliflower\n",
      "----------------------------------------------------------------------------------------------------\n",
      "Rfissa Express – Fragrant chicken and lentils with papardelle\n",
      "----------------------------------------------------------------------------------------------------\n",
      "Crispy Harissa Chickpea Caesar Salad\n",
      "----------------------------------------------------------------------------------------------------\n",
      "Chebakia and white chocolate cookies\n",
      "----------------------------------------------------------------------------------------------------\n",
      "Artichoke Tagine with Peas, Baby Potatoes and Preserved Lemon (vegan)\n",
      "----------------------------------------------------------------------------------------------------\n",
      "Brown butter and orange blossom apple galette with crumble top\n",
      "----------------------------------------------------------------------------------------------------\n",
      "Artichoke, green peas and preserved lemon salad\n",
      "----------------------------------------------------------------------------------------------------\n",
      "Moroccan Mint Tea Infused Chocolate Truffles\n",
      "----------------------------------------------------------------------------------------------------\n",
      "Bakoula, feta and pine nuts hand pies\n",
      "----------------------------------------------------------------------------------------------------\n",
      "Orange and Cardamom Ghriba\n",
      "----------------------------------------------------------------------------------------------------\n",
      "Rhubarb, ginger and rose crumble\n",
      "----------------------------------------------------------------------------------------------------\n",
      "Ras El Hanout Sweet Potato + Feta, Mint and Preserved Lemon Msemen Wrap\n",
      "----------------------------------------------------------------------------------------------------\n",
      "Moroccan Medley Salad Bowl\n",
      "----------------------------------------------------------------------------------------------------\n",
      "Fekkas Cereals (Mini Biscottis)\n",
      "----------------------------------------------------------------------------------------------------\n",
      "Shrimp, preserved lemon and saffron mac and cheese\n",
      "----------------------------------------------------------------------------------------------------\n",
      "Zaalouk Focaccia\n",
      "----------------------------------------------------------------------------------------------------\n",
      "Saffron Chorba with Roasted Aubergine and Sweet Potatoes (Vegan)\n",
      "----------------------------------------------------------------------------------------------------\n",
      "Merendina\n",
      "----------------------------------------------------------------------------------------------------\n",
      "Lentil Stew with Lamb, Pumpkin and Shallots\n",
      "----------------------------------------------------------------------------------------------------\n",
      "Chicken tagine with chickpeas and fresh figs\n",
      "----------------------------------------------------------------------------------------------------\n",
      "Baked stuffed apples with almonds, raisins and orange blossom\n",
      "----------------------------------------------------------------------------------------------------\n",
      "Seafood and Quinoa Salad Bowls with Turmeric and Mint Dressing\n",
      "----------------------------------------------------------------------------------------------------\n",
      "Krachel French Toast\n",
      "----------------------------------------------------------------------------------------------------\n",
      "Merguez, Red Pepper and Burrata Pizza\n",
      "----------------------------------------------------------------------------------------------------\n",
      "Almond butter and rose popsicles with strawberry jam\n",
      "----------------------------------------------------------------------------------------------------\n",
      "Lemon Jam with Preserved Lemon\n",
      "----------------------------------------------------------------------------------------------------\n",
      "Chermoula Prawns and Calamari with Tomatoes and Avocado\n",
      "----------------------------------------------------------------------------------------------------\n",
      "Roasted Cauliflower, Apricots and Chickpea Tagine (Vegan)\n",
      "----------------------------------------------------------------------------------------------------\n",
      "Kefta and Swiss Chard Quiche + Goat Cheese and Harissa Sauce\n",
      "----------------------------------------------------------------------------------------------------\n",
      "Chocolate and Almond Ghriba\n",
      "----------------------------------------------------------------------------------------------------\n",
      "Ras el hanout and baby potatoes chicken traybake\n",
      "----------------------------------------------------------------------------------------------------\n",
      "Lamb, Potatoes and Olives Tagine\n",
      "----------------------------------------------------------------------------------------------------\n",
      "Almond Mhencha\n",
      "----------------------------------------------------------------------------------------------------\n",
      "1 Pot Loubia Stew with Sundried Tomatoes and Kale (Vegan Bean Stew)\n",
      "----------------------------------------------------------------------------------------------------\n",
      "Turmeric and Honey Granola\n",
      "----------------------------------------------------------------------------------------------------\n",
      "Chicken Chorba\n",
      "----------------------------------------------------------------------------------------------------\n",
      "Classic Kefta Briouate\n",
      "----------------------------------------------------------------------------------------------------\n",
      "Ras El Hanout and Dates Hotdish\n",
      "----------------------------------------------------------------------------------------------------\n",
      "Kalinte\n",
      "----------------------------------------------------------------------------------------------------\n",
      "Turkey, Cranberry and Chestnut Tagine\n",
      "----------------------------------------------------------------------------------------------------\n",
      "Mini Cheesecakes with Strawberry and Rose Coulis\n",
      "----------------------------------------------------------------------------------------------------\n",
      "Merguez, walnuts and raisins stuffing\n",
      "----------------------------------------------------------------------------------------------------\n",
      "Quick Fish Tagine with Chermoula + a Video\n",
      "----------------------------------------------------------------------------------------------------\n",
      "Chocolate Layer Cake with Ras El Hanout Buttercream + Poached Pears\n",
      "----------------------------------------------------------------------------------------------------\n",
      "Lamb Tagine with Quince (Lamb Mkalli with Quince)\n",
      "----------------------------------------------------------------------------------------------------\n",
      "Amlou Warm Goats Cheese Salad\n",
      "----------------------------------------------------------------------------------------------------\n",
      "Figs, Dates and Harissa Chutney\n",
      "----------------------------------------------------------------------------------------------------\n",
      "Krachel - Aniseed and Sesame Seed Sweet Buns\n",
      "----------------------------------------------------------------------------------------------------\n",
      "Chermoula Chicken Burger + Harissa and Orange Coleslaw\n",
      "----------------------------------------------------------------------------------------------------\n",
      "How we cook and what we ate this summer – Morocco edition + 3 non recipes\n",
      "----------------------------------------------------------------------------------------------------\n",
      "Buttermilk and Almond Basbousa with Orange and Cardamom Syrup\n",
      "----------------------------------------------------------------------------------------------------\n",
      "Beetroot Salad with Chopped Avocado\n",
      "----------------------------------------------------------------------------------------------------\n",
      "Sardine Tagine\n",
      "----------------------------------------------------------------------------------------------------\n",
      "Sweet Chermoula Tuna Tartare with Cucumber Noodles\n",
      "----------------------------------------------------------------------------------------------------\n",
      "FroYo Orange Blossom Lemonade Popsicles\n",
      "----------------------------------------------------------------------------------------------------\n",
      "Harissa\n",
      "----------------------------------------------------------------------------------------------------\n",
      "Msemen\n",
      "----------------------------------------------------------------------------------------------------\n",
      "Taktouka\n",
      "----------------------------------------------------------------------------------------------------\n",
      "Pistachio and Hazelnut Briouate\n",
      "----------------------------------------------------------------------------------------------------\n",
      "Sfenj - Moroccan Donuts\n",
      "----------------------------------------------------------------------------------------------------\n",
      "Chebakia - La Rose des Sables\n",
      "----------------------------------------------------------------------------------------------------\n",
      "Batbout + Quick Chicken Tagine Filling\n",
      "----------------------------------------------------------------------------------------------------\n",
      "Ras El Hanout Pulled Beef Sandwich\n",
      "----------------------------------------------------------------------------------------------------\n",
      "Walnut and Matcha Ghriba - Gluten free\n",
      "----------------------------------------------------------------------------------------------------\n",
      "Bakoula Salad with Spinach and Kale\n",
      "----------------------------------------------------------------------------------------------------\n",
      "Plain Harcha + Zaatar and Black Olive Harcha\n",
      "----------------------------------------------------------------------------------------------------\n",
      "Aubergine and pumpkin tagine with caramelised onions (Vegan)\n",
      "----------------------------------------------------------------------------------------------------\n",
      "Moroccan Chicken Kebabs + Fennel and Orange Herb Salad\n",
      "----------------------------------------------------------------------------------------------------\n",
      "Bissara - Split Peas and Fava Beans Dip\n",
      "----------------------------------------------------------------------------------------------------\n",
      "Amlou and Chocolate Hi Hat Cupcake with Caramel Filling\n",
      "----------------------------------------------------------------------------------------------------\n",
      "Moroccan Pancake Layer Cake - Baghrir Cake\n",
      "----------------------------------------------------------------------------------------------------\n",
      "Lamb Tagine with Prunes\n",
      "----------------------------------------------------------------------------------------------------\n",
      "Moroccan Shepherd's Pie with Roasted Garlic Sweet Potato Mash\n",
      "----------------------------------------------------------------------------------------------------\n",
      "Berkoukech Soup (Mhamsa)\n",
      "----------------------------------------------------------------------------------------------------\n",
      "Beetroot, Chocolate and Rose Brownies (Gluten and Dairy Free)\n",
      "----------------------------------------------------------------------------------------------------\n",
      "4 Quick Recipes With a Moroccan Twist !\n",
      "----------------------------------------------------------------------------------------------------\n",
      "Maakouda – Moroccan Potato Beignet\n",
      "----------------------------------------------------------------------------------------------------\n",
      "Okra and Zucchini Salad - Mloukhia\n",
      "----------------------------------------------------------------------------------------------------\n",
      "Quick Pistachio, Lemon Zest and Ras El Hanout Bastila – Or How to Make the Best Out of Your Poultry Leftovers\n",
      "----------------------------------------------------------------------------------------------------\n",
      "Kefta and Kale Mac and Cheese\n",
      "----------------------------------------------------------------------------------------------------\n",
      "Fekkas - Moroccan Biscotti\n",
      "----------------------------------------------------------------------------------------------------\n",
      "Seffa - Moroccan Chicken With Vermicelli\n",
      "----------------------------------------------------------------------------------------------------\n"
     ]
    },
    {
     "ename": "AttributeError",
     "evalue": "'NoneType' object has no attribute 'find'",
     "output_type": "error",
     "traceback": [
      "\u001b[1;31m---------------------------------------------------------------------------\u001b[0m",
      "\u001b[1;31mAttributeError\u001b[0m                            Traceback (most recent call last)",
      "Cell \u001b[1;32mIn[109], line 23\u001b[0m\n\u001b[0;32m     21\u001b[0m recipe_content \u001b[38;5;241m=\u001b[39m soup_4\u001b[38;5;241m.\u001b[39mfind(\u001b[38;5;124m'\u001b[39m\u001b[38;5;124mdiv\u001b[39m\u001b[38;5;124m'\u001b[39m, {\u001b[38;5;124m'\u001b[39m\u001b[38;5;124mid\u001b[39m\u001b[38;5;124m'\u001b[39m:\u001b[38;5;124m'\u001b[39m\u001b[38;5;124mcontent\u001b[39m\u001b[38;5;124m'\u001b[39m})\n\u001b[0;32m     22\u001b[0m \u001b[38;5;66;03m#-------------------------\u001b[39;00m\n\u001b[1;32m---> 23\u001b[0m meal_name_tag \u001b[38;5;241m=\u001b[39m \u001b[43mrecipe_content\u001b[49m\u001b[38;5;241;43m.\u001b[39;49m\u001b[43mfind\u001b[49m(\u001b[38;5;124m'\u001b[39m\u001b[38;5;124mh1\u001b[39m\u001b[38;5;124m'\u001b[39m)\n\u001b[0;32m     24\u001b[0m \u001b[38;5;28;01mif\u001b[39;00m meal_name_tag:\n\u001b[0;32m     25\u001b[0m     meal_name \u001b[38;5;241m=\u001b[39m meal_name_tag\u001b[38;5;241m.\u001b[39mget_text(strip\u001b[38;5;241m=\u001b[39m\u001b[38;5;28;01mTrue\u001b[39;00m)\n",
      "\u001b[1;31mAttributeError\u001b[0m: 'NoneType' object has no attribute 'find'"
     ]
    }
   ],
   "source": [
    "recipes_content4 = []\n",
    "id4 = 1\n",
    "\n",
    "url = \"https://www.mymoroccanfood.com/all-recipes\"\n",
    "response = requests.get(url)\n",
    "soup = BeautifulSoup(response.content, 'html.parser')\n",
    "\n",
    "# all_recipes = soup.find_all('div', {'class': 'recipe-list recipe-archive'})\n",
    "all_recipes4 = soup.find('div', {'class': 'main-content'})\n",
    "# print(all_recipes4)\n",
    "all_recipes4 = soup.find_all('div', {'class': \"summary-item\"})\n",
    "print(len(all_recipes4))\n",
    "\n",
    "for recipe in all_recipes4 :\n",
    "        body_card = recipe.find('div', {'class':'summary-thumbnail-outer-container'})\n",
    "        recipe_link = body_card.find('a').attrs['href']\n",
    "        # print(recipe_link)\n",
    "        #-------------------------\n",
    "        response_4 = requests.get(f\"https://www.mymoroccanfood.com{recipe_link}\")\n",
    "        soup_4 =  BeautifulSoup(response_4.content, 'html.parser')\n",
    "        recipe_content = soup_4.find('div', {'id':'content'})\n",
    "        #-------------------------\n",
    "        meal_name_tag = recipe_content.find('h1')\n",
    "        if meal_name_tag:\n",
    "            meal_name = meal_name_tag.get_text(strip=True)\n",
    "            print(meal_name)\n",
    "        #-------------------------\n",
    "        description_tag = recipe_content.find('div', class_='sqs-html-content')\n",
    "        if description_tag:\n",
    "            description = description_tag.get_text(strip=True)\n",
    "            # print(description)\n",
    "        #-------------------------\n",
    "        ingredients = None\n",
    "        ingredients_section = recipe_content.find(re.compile(r'(h1|h2|h3)'), text=re.compile(r\"\\s*INGREDIENTS\\s*\", re.IGNORECASE))\n",
    "        if ingredients_section:\n",
    "            ingredients_list = ingredients_section.find_next('ul')\n",
    "            ingredients = [li.get_text(strip=True) for li in ingredients_list.find_all('li')]\n",
    "            # print(ingredients)\n",
    "        #-------------------------\n",
    "        recipes_content4.append({\n",
    "            'id': id4, \n",
    "            'title': meal_name, \n",
    "            'description': description, \n",
    "            'ingredients': ingredients, \n",
    "        })\n",
    "        id4 += 1\n",
    "        \n",
    "        print('--'*50)\n"
   ]
  },
  {
   "cell_type": "code",
   "execution_count": 110,
   "id": "ec5cb2c5-e8e1-4807-a677-62315f86162e",
   "metadata": {
    "tags": []
   },
   "outputs": [
    {
     "data": {
      "text/html": [
       "<div>\n",
       "<style scoped>\n",
       "    .dataframe tbody tr th:only-of-type {\n",
       "        vertical-align: middle;\n",
       "    }\n",
       "\n",
       "    .dataframe tbody tr th {\n",
       "        vertical-align: top;\n",
       "    }\n",
       "\n",
       "    .dataframe thead th {\n",
       "        text-align: right;\n",
       "    }\n",
       "</style>\n",
       "<table border=\"1\" class=\"dataframe\">\n",
       "  <thead>\n",
       "    <tr style=\"text-align: right;\">\n",
       "      <th></th>\n",
       "      <th>id</th>\n",
       "      <th>title</th>\n",
       "      <th>description</th>\n",
       "      <th>ingredients</th>\n",
       "    </tr>\n",
       "  </thead>\n",
       "  <tbody>\n",
       "    <tr>\n",
       "      <th>0</th>\n",
       "      <td>1</td>\n",
       "      <td>Zaalouk Dip</td>\n",
       "      <td>Morocco’s favourite way to make the most out o...</td>\n",
       "      <td>[2 large aubergines (600g), 4 medium tomatoes ...</td>\n",
       "    </tr>\n",
       "    <tr>\n",
       "      <th>1</th>\n",
       "      <td>2</td>\n",
       "      <td>Peach and tomato salad with orange blossom and...</td>\n",
       "      <td>If you were wondering what to make for dinner ...</td>\n",
       "      <td>[3 peaches, segmented, 150g cherry tomatoes (o...</td>\n",
       "    </tr>\n",
       "    <tr>\n",
       "      <th>2</th>\n",
       "      <td>3</td>\n",
       "      <td>Kefta meatballs and tomato sauce tagine with j...</td>\n",
       "      <td>It’s back to school season and I couldn’t be h...</td>\n",
       "      <td>[2 tablespoons olive oil, 2 garlic cloves, cru...</td>\n",
       "    </tr>\n",
       "    <tr>\n",
       "      <th>3</th>\n",
       "      <td>4</td>\n",
       "      <td>Sesame seeds gazelle horns with rainbow sprinkles</td>\n",
       "      <td>For me gazelle horns mean one thing: Moroccan ...</td>\n",
       "      <td>[150g sesame seeds, 250g ground almond, 120g c...</td>\n",
       "    </tr>\n",
       "    <tr>\n",
       "      <th>4</th>\n",
       "      <td>5</td>\n",
       "      <td>Moroccan spiced fish fillets and bell peppers ...</td>\n",
       "      <td>Happy new year!!How have you all been doing!? ...</td>\n",
       "      <td>[2 tablespoons olive oil, 1 large onions, slic...</td>\n",
       "    </tr>\n",
       "  </tbody>\n",
       "</table>\n",
       "</div>"
      ],
      "text/plain": [
       "   id                                              title  \\\n",
       "0   1                                        Zaalouk Dip   \n",
       "1   2  Peach and tomato salad with orange blossom and...   \n",
       "2   3  Kefta meatballs and tomato sauce tagine with j...   \n",
       "3   4  Sesame seeds gazelle horns with rainbow sprinkles   \n",
       "4   5  Moroccan spiced fish fillets and bell peppers ...   \n",
       "\n",
       "                                         description  \\\n",
       "0  Morocco’s favourite way to make the most out o...   \n",
       "1  If you were wondering what to make for dinner ...   \n",
       "2  It’s back to school season and I couldn’t be h...   \n",
       "3  For me gazelle horns mean one thing: Moroccan ...   \n",
       "4  Happy new year!!How have you all been doing!? ...   \n",
       "\n",
       "                                         ingredients  \n",
       "0  [2 large aubergines (600g), 4 medium tomatoes ...  \n",
       "1  [3 peaches, segmented, 150g cherry tomatoes (o...  \n",
       "2  [2 tablespoons olive oil, 2 garlic cloves, cru...  \n",
       "3  [150g sesame seeds, 250g ground almond, 120g c...  \n",
       "4  [2 tablespoons olive oil, 1 large onions, slic...  "
      ]
     },
     "execution_count": 110,
     "metadata": {},
     "output_type": "execute_result"
    }
   ],
   "source": [
    "data5 = pd.DataFrame(recipes_content4)\n",
    "data5.head()"
   ]
  },
  {
   "cell_type": "code",
   "execution_count": 111,
   "id": "3c6d7c43-4c9e-4c51-a1c6-79232ee0a6cb",
   "metadata": {
    "tags": []
   },
   "outputs": [
    {
     "data": {
      "text/plain": [
       "(89, 4)"
      ]
     },
     "execution_count": 111,
     "metadata": {},
     "output_type": "execute_result"
    }
   ],
   "source": [
    "data5.shape"
   ]
  },
  {
   "cell_type": "code",
   "execution_count": 112,
   "id": "487b82ca-98a0-4ef0-87db-63c8f5620238",
   "metadata": {
    "tags": []
   },
   "outputs": [
    {
     "data": {
      "text/plain": [
       "Index(['title', 'description', 'ingredients'], dtype='object')"
      ]
     },
     "execution_count": 112,
     "metadata": {},
     "output_type": "execute_result"
    }
   ],
   "source": [
    "data5.drop(columns='id', axis=1, inplace=True)\n",
    "data5.columns"
   ]
  },
  {
   "cell_type": "code",
   "execution_count": 113,
   "id": "84a1aa85-68ae-4935-80b7-62f5930f8afa",
   "metadata": {
    "tags": []
   },
   "outputs": [],
   "source": [
    "data5.to_csv('Cleaned Data/Moroccan Data/scrapped_moroccan_recipes5.csv', index=False)"
   ]
  },
  {
   "cell_type": "markdown",
   "id": "16fd3989-89a3-4dc8-babb-71acbadb9f96",
   "metadata": {},
   "source": [
    "---"
   ]
  },
  {
   "cell_type": "code",
   "execution_count": null,
   "id": "39558ff8-c999-46b9-886e-2d80932df0ce",
   "metadata": {},
   "outputs": [],
   "source": []
  }
 ],
 "metadata": {
  "kernelspec": {
   "display_name": "Python 3 (ipykernel)",
   "language": "python",
   "name": "python3"
  },
  "language_info": {
   "codemirror_mode": {
    "name": "ipython",
    "version": 3
   },
   "file_extension": ".py",
   "mimetype": "text/x-python",
   "name": "python",
   "nbconvert_exporter": "python",
   "pygments_lexer": "ipython3",
   "version": "3.12.4"
  }
 },
 "nbformat": 4,
 "nbformat_minor": 5
}
