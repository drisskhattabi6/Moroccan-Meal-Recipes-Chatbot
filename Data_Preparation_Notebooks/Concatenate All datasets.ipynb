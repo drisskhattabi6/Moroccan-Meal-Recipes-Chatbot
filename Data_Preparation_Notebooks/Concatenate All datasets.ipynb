{
 "cells": [
  {
   "cell_type": "markdown",
   "id": "0dfcab59-c5ab-41a4-8d4f-e010183f5c6c",
   "metadata": {},
   "source": [
    "# Concatenate All datasets :"
   ]
  },
  {
   "cell_type": "code",
   "execution_count": 1,
   "id": "9c0c83ec-2de0-48c8-9e08-5536f70e7880",
   "metadata": {
    "tags": []
   },
   "outputs": [],
   "source": [
    "import pandas as pd"
   ]
  },
  {
   "cell_type": "code",
   "execution_count": 2,
   "id": "061ba939-0cda-4dc3-95b4-0083286b6735",
   "metadata": {
    "tags": []
   },
   "outputs": [],
   "source": [
    "df1 = pd.read_csv('Cleaned Data/Moroccan Data/hand_moroccan_data1.csv', encoding='ISO-8859-1')\n",
    "df2 = pd.read_csv('Cleaned Data/Moroccan Data/scrapped_moroccan_recipes1.csv')\n",
    "df3 = pd.read_csv('Cleaned Data/Moroccan Data/scrapped_moroccan_recipes2.csv')\n",
    "df4 = pd.read_csv('Cleaned Data/Moroccan Data/scrapped_moroccan_recipes4.csv')\n",
    "df5 = pd.read_csv('Cleaned Data/Moroccan Data/moroccan_food_recipes1.csv')\n",
    "df6 = pd.read_csv('Cleaned Data/Moroccan Data/moroccan_data1.csv')\n",
    "df7 = pd.read_csv('Cleaned Data/Moroccan Data/moroccan_data2.csv')\n",
    "df8 = pd.read_csv('Cleaned Data/Moroccan Data/moroccan_data3.csv')\n",
    "df9 = pd.read_csv('Cleaned Data/Moroccan Data/moroccan_data4.csv')\n",
    "df10 = pd.read_csv('Cleaned Data/Moroccan Data/moroccan_data5.csv')\n",
    "df11 = pd.read_csv('Cleaned Data/Moroccan Data/moroccan_data6.csv')\n",
    "df12 = pd.read_csv('Cleaned Data/Moroccan Data/moroccan_data7.csv')\n",
    "df13 = pd.read_csv('Cleaned Data/Moroccan Data/moroccan_data8.csv')\n",
    "df14 = pd.read_csv('Cleaned Data/Moroccan Data/moroccan_data9.csv')\n",
    "df15 = pd.read_csv('Cleaned Data/Moroccan Data/hand_moroccan_data2.csv')\n",
    "df16 = pd.read_csv('Cleaned Data/Moroccan Data/moroccan_data10.csv')"
   ]
  },
  {
   "cell_type": "code",
   "execution_count": 3,
   "id": "259a70c6-a08a-45e1-b17a-1c6e1f624916",
   "metadata": {
    "tags": []
   },
   "outputs": [
    {
     "name": "stdout",
     "output_type": "stream",
     "text": [
      "df1 columns :  Index(['name', 'info'], dtype='object')\n",
      "df2 columns :  Index(['title', 'description', 'ingredients', 'steps'], dtype='object')\n",
      "df3 columns :  Index(['title', 'description', 'total_time', 'ingredients', 'steps'], dtype='object')\n",
      "df4 columns :  Index(['meal_name', 'description'], dtype='object')\n",
      "df5 columns :  Index(['recipe_title', 'description', 'cuisine', 'course', 'diet',\n",
      "       'ingredients', 'instructions'],\n",
      "      dtype='object')\n",
      "df6 columns :  Index(['title', 'ingredients', 'instructions'], dtype='object')\n",
      "df7 columns :  Index(['ingredients', 'instructions', 'title'], dtype='object')\n",
      "df8 columns :  Index(['instructions', 'ingredients', 'title'], dtype='object')\n",
      "df9 columns :  Index(['name', 'steps', 'description', 'ingredients'], dtype='object')\n",
      "df10 columns :  Index(['title', 'description', 'ingredients', 'directions', 'total_time',\n",
      "       'instructions_list'],\n",
      "      dtype='object')\n",
      "df11 columns :  Index(['name', 'minutes', 'steps', 'description', 'ingredients'], dtype='object')\n",
      "df12 columns :  Index(['name', 'ingredients', 'instructions', 'total_time'], dtype='object')\n",
      "df13 columns :  Index(['name', 'ingredients', 'instructions', 'total_time'], dtype='object')\n",
      "df14 columns :  Index(['name', 'ingredients', 'instructions', 'total_time'], dtype='object')\n",
      "df15 columns :  Index(['text'], dtype='object')\n",
      "df16 columns :  Index(['title', 'ingredients', 'directions'], dtype='object')\n"
     ]
    }
   ],
   "source": [
    "print('df1 columns : ', df1.columns)\n",
    "print('df2 columns : ', df2.columns)\n",
    "print('df3 columns : ', df3.columns)\n",
    "print('df4 columns : ', df4.columns)\n",
    "print('df5 columns : ', df5.columns)\n",
    "print('df6 columns : ', df6.columns)\n",
    "print('df7 columns : ', df7.columns)\n",
    "print('df8 columns : ', df8.columns)\n",
    "print('df9 columns : ', df9.columns)\n",
    "print('df10 columns : ', df10.columns)\n",
    "print('df11 columns : ', df11.columns)\n",
    "print('df12 columns : ', df12.columns)\n",
    "print('df13 columns : ', df13.columns)\n",
    "print('df14 columns : ', df14.columns)\n",
    "print('df15 columns : ', df15.columns)\n",
    "print('df16 columns : ', df16.columns)"
   ]
  },
  {
   "cell_type": "code",
   "execution_count": null,
   "id": "168cdffe-6d6f-4273-a80e-7cfec9b4ccef",
   "metadata": {},
   "outputs": [],
   "source": [
    "# # importing world data into DataFrames\n",
    "# df17 = pd.read_csv('/kaggle/input/moroccan-and-world-meals-and-recipes/allrecipes.csv', encoding='ISO-8859-1')\n",
    "# df18 = pd.read_csv('/kaggle/input/moroccan-and-world-meals-and-recipes/RAW_recipes.csv')\n",
    "# df19 = pd.read_csv('/kaggle/input/moroccan-and-world-meals-and-recipes/food_recipes1.csv')\n",
    "# df20 = pd.read_csv('/kaggle/input/moroccan-and-world-meals-and-recipes/food_recipes2.csv', encoding='ISO-8859-1')\n",
    "# df21 = pd.read_csv('/kaggle/input/moroccan-and-world-meals-and-recipes/13k-recipes.csv')\n",
    "# df22 = pd.read_csv('/kaggle/input/moroccan-and-world-meals-and-recipes/recipes_raw1.csv')\n",
    "# df23 = pd.read_csv('/kaggle/input/moroccan-and-world-meals-and-recipes/recipes_raw2.csv')\n",
    "# df24 = pd.read_csv('/kaggle/input/moroccan-and-world-meals-and-recipes/recipes_raw3.csv')\n",
    "\n",
    "# print('df17 columns : ', df17.columns)\n",
    "# print('df18 columns : ', df18.columns)\n",
    "# print('df19 columns : ', df19.columns)\n",
    "# print('df20 columns : ', df20.columns)\n",
    "# print('df21 columns : ', df21.columns)\n",
    "# print('df22 columns : ', df22.columns)\n",
    "# print('df23 columns : ', df23.columns)\n",
    "# print('df24 columns : ', df24.columns)"
   ]
  },
  {
   "cell_type": "code",
   "execution_count": 5,
   "id": "1ebd29c2-dbc3-4eed-b11e-e1c045fe672e",
   "metadata": {
    "tags": []
   },
   "outputs": [],
   "source": [
    "data_list = []\n",
    "\n",
    "# Define a helper function to add data to the list\n",
    "def add_to_list(title_col, desc_col, ing_col, steps_col, time_col, df):\n",
    "    for _, row in df.iterrows():\n",
    "        title = row[title_col] if title_col in df.columns else \"\"\n",
    "        desc = row[desc_col] if desc_col in df.columns else \"\"\n",
    "        ingredients = row[ing_col] if ing_col in df.columns else \"\"\n",
    "#         instructions = row[instr_col] if instr_col in df.columns else \"\"\n",
    "        steps = row[steps_col] if steps_col in df.columns else \"\"\n",
    "        total_time = row[time_col] if time_col in df.columns else \"\"\n",
    "        \n",
    "        # Creating the prompt and completion\n",
    "#         prompt = f\"Recipe Name: {title} \\nDescription: {desc} \\nIngredients: {ingredients}\"\n",
    "        prompt = \"\"\n",
    "        if title != \"\" :\n",
    "            prompt += f\"Recipe Name : {title}\\n \"\n",
    "        if desc != \"\" : \n",
    "            prompt += f\"Description : {desc}\\n \"\n",
    "        if ingredients != \"\" : \n",
    "            prompt += f\"Ingredients : {ingredients}\\n \"\n",
    "        if total_time != \"\" :\n",
    "            prompt += f\"Total time for preparation : {total_time}\\n \"\n",
    "        if steps != \"\" :\n",
    "            prompt += f\"Steps for preparation : {steps}\\n \"\n",
    "            \n",
    "        completion = steps\n",
    "\n",
    "        if prompt and completion:\n",
    "            data_list.append({\"prompt\": prompt, \"completion\": completion})\n",
    "            \n",
    "\n",
    "def add_to_list2(text_col, df):\n",
    "    for _, row in df.iterrows():\n",
    "        text = row[text_col]\n",
    "\n",
    "        data_list.append({\"prompt\": text, \"completion\": None})\n",
    "\n",
    "\n",
    "# Adding the data from each dataframe\n",
    "add_to_list('name', 'info', '', 'steps', '', df1)\n",
    "add_to_list('title', 'description', 'ingredients', 'steps', '', df2)\n",
    "add_to_list('title', 'description', 'ingredients', 'steps', 'total_time', df3)\n",
    "add_to_list('meal_name', 'description', '', '', '', df4)\n",
    "add_to_list('recipe_title', 'description', 'ingredients', 'instructions', '', df5)\n",
    "add_to_list('title', '', 'ingredients', 'instructions', '', df6)\n",
    "add_to_list('title', '', 'ingredients', 'instructions', '', df7)\n",
    "add_to_list('title', '', 'ingredients', 'instructions', '', df8)\n",
    "add_to_list('name', 'description', 'ingredients', 'steps', '', df9)\n",
    "add_to_list('title', 'description', 'ingredients', 'instructions_list', 'total_time', df10)\n",
    "add_to_list('name', 'description', 'ingredients', 'steps', 'minutes', df11)\n",
    "add_to_list('name', '', 'ingredients', 'instructions', 'total_time', df12)\n",
    "add_to_list('name', '', 'ingredients', 'instructions', 'total_time', df13)\n",
    "add_to_list('name', '', 'ingredients', 'instructions', 'total_time', df14)\n",
    "add_to_list('title', '', 'ingredients', 'directions', '', df16)\n",
    "#---------------------------\n",
    "add_to_list2('text', df15)\n",
    "\n",
    "\n",
    "# Convert the list into a DataFrame\n",
    "final_df = pd.DataFrame(data_list)\n",
    "\n",
    "# Save the preprocessed dataset to a CSV file (for future use or training)\n",
    "final_df.to_csv(\"moroccan_recipes_dataset.csv\", index=False)"
   ]
  },
  {
   "cell_type": "code",
   "execution_count": 6,
   "id": "466877c8-0a56-4953-a589-4be95621b511",
   "metadata": {
    "tags": []
   },
   "outputs": [
    {
     "data": {
      "text/html": [
       "<div>\n",
       "<style scoped>\n",
       "    .dataframe tbody tr th:only-of-type {\n",
       "        vertical-align: middle;\n",
       "    }\n",
       "\n",
       "    .dataframe tbody tr th {\n",
       "        vertical-align: top;\n",
       "    }\n",
       "\n",
       "    .dataframe thead th {\n",
       "        text-align: right;\n",
       "    }\n",
       "</style>\n",
       "<table border=\"1\" class=\"dataframe\">\n",
       "  <thead>\n",
       "    <tr style=\"text-align: right;\">\n",
       "      <th></th>\n",
       "      <th>prompt</th>\n",
       "      <th>completion</th>\n",
       "    </tr>\n",
       "  </thead>\n",
       "  <tbody>\n",
       "    <tr>\n",
       "      <th>0</th>\n",
       "      <td>Recipe Name : Duck and prune tagine\\n Descript...</td>\n",
       "      <td>['Pour the oil into a heavy-based pan or casse...</td>\n",
       "    </tr>\n",
       "    <tr>\n",
       "      <th>1</th>\n",
       "      <td>Recipe Name : Potato tagine with baked halloum...</td>\n",
       "      <td>['Heat the oven to 180°C fan/gas 6. Heat the o...</td>\n",
       "    </tr>\n",
       "    <tr>\n",
       "      <th>2</th>\n",
       "      <td>Recipe Name : Merguez sausages with crispy chi...</td>\n",
       "      <td>['Heat the oven to 180°C fan/gas 6. Put the ch...</td>\n",
       "    </tr>\n",
       "    <tr>\n",
       "      <th>3</th>\n",
       "      <td>Recipe Name : Chicken tagine casserole\\n Descr...</td>\n",
       "      <td>['Heat the oven to 180ºC fan/gas 6. Slash the ...</td>\n",
       "    </tr>\n",
       "    <tr>\n",
       "      <th>4</th>\n",
       "      <td>Recipe Name : Preserved lemons\\n Description :...</td>\n",
       "      <td>['Juice 4 of the lemons and set the juice asid...</td>\n",
       "    </tr>\n",
       "    <tr>\n",
       "      <th>5</th>\n",
       "      <td>Recipe Name : Whole baked chicken with North A...</td>\n",
       "      <td>['Heat the oven to 150ºC fan/gas 3½. Stir toge...</td>\n",
       "    </tr>\n",
       "    <tr>\n",
       "      <th>6</th>\n",
       "      <td>Recipe Name : Clodagh McKenna’s Moroccan spice...</td>\n",
       "      <td>NaN</td>\n",
       "    </tr>\n",
       "    <tr>\n",
       "      <th>7</th>\n",
       "      <td>Recipe Name : Root vegetable and lentil tagine...</td>\n",
       "      <td>['Heat the oil in a large heavy-based flamepro...</td>\n",
       "    </tr>\n",
       "    <tr>\n",
       "      <th>8</th>\n",
       "      <td>Recipe Name : Fruity lamb and olive tagine\\n D...</td>\n",
       "      <td>['Heat the oil in a deep hob-safe casserole ov...</td>\n",
       "    </tr>\n",
       "    <tr>\n",
       "      <th>9</th>\n",
       "      <td>Recipe Name : Spicy beef harira\\n Description ...</td>\n",
       "      <td>['Heat the olive oil in a large casserole over...</td>\n",
       "    </tr>\n",
       "  </tbody>\n",
       "</table>\n",
       "</div>"
      ],
      "text/plain": [
       "                                              prompt  \\\n",
       "0  Recipe Name : Duck and prune tagine\\n Descript...   \n",
       "1  Recipe Name : Potato tagine with baked halloum...   \n",
       "2  Recipe Name : Merguez sausages with crispy chi...   \n",
       "3  Recipe Name : Chicken tagine casserole\\n Descr...   \n",
       "4  Recipe Name : Preserved lemons\\n Description :...   \n",
       "5  Recipe Name : Whole baked chicken with North A...   \n",
       "6  Recipe Name : Clodagh McKenna’s Moroccan spice...   \n",
       "7  Recipe Name : Root vegetable and lentil tagine...   \n",
       "8  Recipe Name : Fruity lamb and olive tagine\\n D...   \n",
       "9  Recipe Name : Spicy beef harira\\n Description ...   \n",
       "\n",
       "                                          completion  \n",
       "0  ['Pour the oil into a heavy-based pan or casse...  \n",
       "1  ['Heat the oven to 180°C fan/gas 6. Heat the o...  \n",
       "2  ['Heat the oven to 180°C fan/gas 6. Put the ch...  \n",
       "3  ['Heat the oven to 180ºC fan/gas 6. Slash the ...  \n",
       "4  ['Juice 4 of the lemons and set the juice asid...  \n",
       "5  ['Heat the oven to 150ºC fan/gas 3½. Stir toge...  \n",
       "6                                                NaN  \n",
       "7  ['Heat the oil in a large heavy-based flamepro...  \n",
       "8  ['Heat the oil in a deep hob-safe casserole ov...  \n",
       "9  ['Heat the olive oil in a large casserole over...  "
      ]
     },
     "execution_count": 6,
     "metadata": {},
     "output_type": "execute_result"
    }
   ],
   "source": [
    "final_df.head(10)"
   ]
  },
  {
   "cell_type": "code",
   "execution_count": 7,
   "id": "e34ef659-8777-44ce-b452-8f76455c5b48",
   "metadata": {
    "tags": []
   },
   "outputs": [
    {
     "data": {
      "text/plain": [
       "(4627, 2)"
      ]
     },
     "execution_count": 7,
     "metadata": {},
     "output_type": "execute_result"
    }
   ],
   "source": [
    "final_df.shape"
   ]
  },
  {
   "cell_type": "code",
   "execution_count": 8,
   "id": "79661e54-127a-4285-8f61-5d38df463174",
   "metadata": {
    "tags": []
   },
   "outputs": [
    {
     "data": {
      "text/plain": [
       "'Recipe Name : Slow Cooked Moroccan Chicken\\n Ingredients : [\"4 medium carrots, sliced\", \"2 large onions, halved and sliced\", \"1 broiler (3 to 4 pounds) or 1 broiler-fryer chicken, cut up, skin removed (3 to 4 pounds)\", \"1/2 teaspoon salt\", \"1/2 cup dried apricot, chopped\", \"1/2 cup raisins\", \"1 (14 1/2 ounce) can reduced-sodium chicken broth\", \"1/4 cup tomato paste\", \"2 tablespoons all-purpose flour\", \"2 tablespoons lemon juice\", \"2 garlic cloves, minced\", \"1 1/2 teaspoons ground ginger\", \"1 1/2 teaspoons ground cumin\", \"1 teaspoon ground cinnamon\", \"3/4 teaspoon pepper\", \"4 cups cooked couscous, to serve\"]\\n Steps for preparation : [\"Place carrots and onions in a greased 5-qt. slow cooker. Sprinkle chicken with salt; add to slow cooker. Top with apricots and raisins.\", \"In a small bowl, whisk broth, tomato paste, flour, lemon juice, garlic and seasonings until blended; add to slow cooker.\", \"Cook, covered, on low until chicken is tender, 6-7 hours. Serve with hot cooked couscous.\"]\\n '"
      ]
     },
     "execution_count": 8,
     "metadata": {},
     "output_type": "execute_result"
    }
   ],
   "source": [
    "final_df['prompt'][3000]"
   ]
  },
  {
   "cell_type": "code",
   "execution_count": 10,
   "id": "0987aaf2-96b4-4f6a-b780-a0b5bfe1cd6d",
   "metadata": {
    "tags": []
   },
   "outputs": [
    {
     "data": {
      "text/plain": [
       "'Feqqas are deliciously crunchy and aromatic cookies that hold a special place in Moroccan traditions, often enjoyed alongside mint tea in the afternoon. These irresistible sweets undergo a unique baking process.\\n\\nThe dough is shaped into logs, baked once, and then covered with a clean, damp cloth overnight. The next day, the logs are sliced into bite-sized pieces and baked again. \\n\\nMade with a blend of flour, whole almonds, sesame seeds, and dried fruits, these treats offer a delightful combination of textures and flavors.\\n\\nThe multilevel baking process and the whole toasted nuts inside, make Feqqas satisfyingly crunchy and delicious while the sweetness of the dried fruits adds an extra layer of flavor. Feqqas are a popular snack during weddings, feasts, and various celebrations.'"
      ]
     },
     "execution_count": 10,
     "metadata": {},
     "output_type": "execute_result"
    }
   ],
   "source": [
    "final_df['prompt'][4590]"
   ]
  }
 ],
 "metadata": {
  "kernelspec": {
   "display_name": "Python 3 (ipykernel)",
   "language": "python",
   "name": "python3"
  },
  "language_info": {
   "codemirror_mode": {
    "name": "ipython",
    "version": 3
   },
   "file_extension": ".py",
   "mimetype": "text/x-python",
   "name": "python",
   "nbconvert_exporter": "python",
   "pygments_lexer": "ipython3",
   "version": "3.12.4"
  }
 },
 "nbformat": 4,
 "nbformat_minor": 5
}
