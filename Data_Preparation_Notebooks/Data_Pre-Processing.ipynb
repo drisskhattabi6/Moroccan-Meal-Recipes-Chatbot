{
 "cells": [
  {
   "cell_type": "markdown",
   "id": "86031d72-a662-4471-97e6-00b990fc6539",
   "metadata": {},
   "source": [
    "# Data Pre-Processing and Preparation :"
   ]
  },
  {
   "cell_type": "code",
   "execution_count": 1,
   "id": "8acfcbad-01be-40aa-a7fe-118a0579bb23",
   "metadata": {
    "tags": []
   },
   "outputs": [],
   "source": [
    "# import libraries\n",
    "import pandas as pd\n",
    "import json"
   ]
  },
  {
   "cell_type": "code",
   "execution_count": 2,
   "id": "b7f8a0c8-90e8-40f1-9086-a8d094a2c071",
   "metadata": {
    "tags": []
   },
   "outputs": [
    {
     "data": {
      "text/html": [
       "<div>\n",
       "<style scoped>\n",
       "    .dataframe tbody tr th:only-of-type {\n",
       "        vertical-align: middle;\n",
       "    }\n",
       "\n",
       "    .dataframe tbody tr th {\n",
       "        vertical-align: top;\n",
       "    }\n",
       "\n",
       "    .dataframe thead th {\n",
       "        text-align: right;\n",
       "    }\n",
       "</style>\n",
       "<table border=\"1\" class=\"dataframe\">\n",
       "  <thead>\n",
       "    <tr style=\"text-align: right;\">\n",
       "      <th></th>\n",
       "      <th>Unnamed: 0</th>\n",
       "      <th>Title</th>\n",
       "      <th>Ingredients</th>\n",
       "      <th>Instructions</th>\n",
       "      <th>Image_Name</th>\n",
       "      <th>Cleaned_Ingredients</th>\n",
       "    </tr>\n",
       "  </thead>\n",
       "  <tbody>\n",
       "    <tr>\n",
       "      <th>0</th>\n",
       "      <td>0</td>\n",
       "      <td>Miso-Butter Roast Chicken With Acorn Squash Pa...</td>\n",
       "      <td>['1 (3½–4-lb.) whole chicken', '2¾ tsp. kosher...</td>\n",
       "      <td>Pat chicken dry with paper towels, season all ...</td>\n",
       "      <td>miso-butter-roast-chicken-acorn-squash-panzanella</td>\n",
       "      <td>['1 (3½–4-lb.) whole chicken', '2¾ tsp. kosher...</td>\n",
       "    </tr>\n",
       "    <tr>\n",
       "      <th>1</th>\n",
       "      <td>1</td>\n",
       "      <td>Crispy Salt and Pepper Potatoes</td>\n",
       "      <td>['2 large egg whites', '1 pound new potatoes (...</td>\n",
       "      <td>Preheat oven to 400°F and line a rimmed baking...</td>\n",
       "      <td>crispy-salt-and-pepper-potatoes-dan-kluger</td>\n",
       "      <td>['2 large egg whites', '1 pound new potatoes (...</td>\n",
       "    </tr>\n",
       "    <tr>\n",
       "      <th>2</th>\n",
       "      <td>2</td>\n",
       "      <td>Thanksgiving Mac and Cheese</td>\n",
       "      <td>['1 cup evaporated milk', '1 cup whole milk', ...</td>\n",
       "      <td>Place a rack in middle of oven; preheat to 400...</td>\n",
       "      <td>thanksgiving-mac-and-cheese-erick-williams</td>\n",
       "      <td>['1 cup evaporated milk', '1 cup whole milk', ...</td>\n",
       "    </tr>\n",
       "    <tr>\n",
       "      <th>3</th>\n",
       "      <td>3</td>\n",
       "      <td>Italian Sausage and Bread Stuffing</td>\n",
       "      <td>['1 (¾- to 1-pound) round Italian loaf, cut in...</td>\n",
       "      <td>Preheat oven to 350°F with rack in middle. Gen...</td>\n",
       "      <td>italian-sausage-and-bread-stuffing-240559</td>\n",
       "      <td>['1 (¾- to 1-pound) round Italian loaf, cut in...</td>\n",
       "    </tr>\n",
       "    <tr>\n",
       "      <th>4</th>\n",
       "      <td>4</td>\n",
       "      <td>Newton's Law</td>\n",
       "      <td>['1 teaspoon dark brown sugar', '1 teaspoon ho...</td>\n",
       "      <td>Stir together brown sugar and hot water in a c...</td>\n",
       "      <td>newtons-law-apple-bourbon-cocktail</td>\n",
       "      <td>['1 teaspoon dark brown sugar', '1 teaspoon ho...</td>\n",
       "    </tr>\n",
       "  </tbody>\n",
       "</table>\n",
       "</div>"
      ],
      "text/plain": [
       "   Unnamed: 0                                              Title  \\\n",
       "0           0  Miso-Butter Roast Chicken With Acorn Squash Pa...   \n",
       "1           1                    Crispy Salt and Pepper Potatoes   \n",
       "2           2                        Thanksgiving Mac and Cheese   \n",
       "3           3                 Italian Sausage and Bread Stuffing   \n",
       "4           4                                       Newton's Law   \n",
       "\n",
       "                                         Ingredients  \\\n",
       "0  ['1 (3½–4-lb.) whole chicken', '2¾ tsp. kosher...   \n",
       "1  ['2 large egg whites', '1 pound new potatoes (...   \n",
       "2  ['1 cup evaporated milk', '1 cup whole milk', ...   \n",
       "3  ['1 (¾- to 1-pound) round Italian loaf, cut in...   \n",
       "4  ['1 teaspoon dark brown sugar', '1 teaspoon ho...   \n",
       "\n",
       "                                        Instructions  \\\n",
       "0  Pat chicken dry with paper towels, season all ...   \n",
       "1  Preheat oven to 400°F and line a rimmed baking...   \n",
       "2  Place a rack in middle of oven; preheat to 400...   \n",
       "3  Preheat oven to 350°F with rack in middle. Gen...   \n",
       "4  Stir together brown sugar and hot water in a c...   \n",
       "\n",
       "                                          Image_Name  \\\n",
       "0  miso-butter-roast-chicken-acorn-squash-panzanella   \n",
       "1         crispy-salt-and-pepper-potatoes-dan-kluger   \n",
       "2         thanksgiving-mac-and-cheese-erick-williams   \n",
       "3          italian-sausage-and-bread-stuffing-240559   \n",
       "4                 newtons-law-apple-bourbon-cocktail   \n",
       "\n",
       "                                 Cleaned_Ingredients  \n",
       "0  ['1 (3½–4-lb.) whole chicken', '2¾ tsp. kosher...  \n",
       "1  ['2 large egg whites', '1 pound new potatoes (...  \n",
       "2  ['1 cup evaporated milk', '1 cup whole milk', ...  \n",
       "3  ['1 (¾- to 1-pound) round Italian loaf, cut in...  \n",
       "4  ['1 teaspoon dark brown sugar', '1 teaspoon ho...  "
      ]
     },
     "execution_count": 2,
     "metadata": {},
     "output_type": "execute_result"
    }
   ],
   "source": [
    "data1 = pd.read_csv('recipes datasets/13k-recipes.csv')\n",
    "data1.head()"
   ]
  },
  {
   "cell_type": "code",
   "execution_count": 3,
   "id": "28a42fe8-c315-49f2-94f1-53e7b0b3b224",
   "metadata": {
    "tags": []
   },
   "outputs": [
    {
     "data": {
      "text/plain": [
       "Index(['Unnamed: 0', 'Title', 'Ingredients', 'Instructions', 'Image_Name',\n",
       "       'Cleaned_Ingredients'],\n",
       "      dtype='object')"
      ]
     },
     "execution_count": 3,
     "metadata": {},
     "output_type": "execute_result"
    }
   ],
   "source": [
    "data1.columns"
   ]
  },
  {
   "cell_type": "code",
   "execution_count": 4,
   "id": "da854284-416a-4819-99bb-298dcc816d94",
   "metadata": {
    "tags": []
   },
   "outputs": [
    {
     "data": {
      "text/html": [
       "<div>\n",
       "<style scoped>\n",
       "    .dataframe tbody tr th:only-of-type {\n",
       "        vertical-align: middle;\n",
       "    }\n",
       "\n",
       "    .dataframe tbody tr th {\n",
       "        vertical-align: top;\n",
       "    }\n",
       "\n",
       "    .dataframe thead th {\n",
       "        text-align: right;\n",
       "    }\n",
       "</style>\n",
       "<table border=\"1\" class=\"dataframe\">\n",
       "  <thead>\n",
       "    <tr style=\"text-align: right;\">\n",
       "      <th></th>\n",
       "      <th>Title</th>\n",
       "      <th>Instructions</th>\n",
       "      <th>Cleaned_Ingredients</th>\n",
       "    </tr>\n",
       "  </thead>\n",
       "  <tbody>\n",
       "    <tr>\n",
       "      <th>0</th>\n",
       "      <td>Miso-Butter Roast Chicken With Acorn Squash Pa...</td>\n",
       "      <td>Pat chicken dry with paper towels, season all ...</td>\n",
       "      <td>['1 (3½–4-lb.) whole chicken', '2¾ tsp. kosher...</td>\n",
       "    </tr>\n",
       "    <tr>\n",
       "      <th>1</th>\n",
       "      <td>Crispy Salt and Pepper Potatoes</td>\n",
       "      <td>Preheat oven to 400°F and line a rimmed baking...</td>\n",
       "      <td>['2 large egg whites', '1 pound new potatoes (...</td>\n",
       "    </tr>\n",
       "    <tr>\n",
       "      <th>2</th>\n",
       "      <td>Thanksgiving Mac and Cheese</td>\n",
       "      <td>Place a rack in middle of oven; preheat to 400...</td>\n",
       "      <td>['1 cup evaporated milk', '1 cup whole milk', ...</td>\n",
       "    </tr>\n",
       "  </tbody>\n",
       "</table>\n",
       "</div>"
      ],
      "text/plain": [
       "                                               Title  \\\n",
       "0  Miso-Butter Roast Chicken With Acorn Squash Pa...   \n",
       "1                    Crispy Salt and Pepper Potatoes   \n",
       "2                        Thanksgiving Mac and Cheese   \n",
       "\n",
       "                                        Instructions  \\\n",
       "0  Pat chicken dry with paper towels, season all ...   \n",
       "1  Preheat oven to 400°F and line a rimmed baking...   \n",
       "2  Place a rack in middle of oven; preheat to 400...   \n",
       "\n",
       "                                 Cleaned_Ingredients  \n",
       "0  ['1 (3½–4-lb.) whole chicken', '2¾ tsp. kosher...  \n",
       "1  ['2 large egg whites', '1 pound new potatoes (...  \n",
       "2  ['1 cup evaporated milk', '1 cup whole milk', ...  "
      ]
     },
     "execution_count": 4,
     "metadata": {},
     "output_type": "execute_result"
    }
   ],
   "source": [
    "data1.drop(columns=['Unnamed: 0', 'Ingredients', 'Image_Name'], axis=1, inplace=True)\n",
    "data1.head(3)"
   ]
  },
  {
   "cell_type": "code",
   "execution_count": 5,
   "id": "364fbf40-604d-4111-8ccf-43b0a242c33c",
   "metadata": {
    "tags": []
   },
   "outputs": [],
   "source": [
    "data1.to_csv('Cleaned Data/General Data/13k-recipes.csv', index=False)"
   ]
  },
  {
   "cell_type": "markdown",
   "id": "f3144908-3ba5-4028-bd64-ea66ce1e69f7",
   "metadata": {},
   "source": [
    "----"
   ]
  },
  {
   "cell_type": "code",
   "execution_count": 6,
   "id": "d5220347-08b8-4640-a3ed-6e7b944566a7",
   "metadata": {
    "tags": []
   },
   "outputs": [
    {
     "data": {
      "text/html": [
       "<div>\n",
       "<style scoped>\n",
       "    .dataframe tbody tr th:only-of-type {\n",
       "        vertical-align: middle;\n",
       "    }\n",
       "\n",
       "    .dataframe tbody tr th {\n",
       "        vertical-align: top;\n",
       "    }\n",
       "\n",
       "    .dataframe thead th {\n",
       "        text-align: right;\n",
       "    }\n",
       "</style>\n",
       "<table border=\"1\" class=\"dataframe\">\n",
       "  <thead>\n",
       "    <tr style=\"text-align: right;\">\n",
       "      <th></th>\n",
       "      <th>group</th>\n",
       "      <th>name</th>\n",
       "      <th>rating</th>\n",
       "      <th>n_rater</th>\n",
       "      <th>n_reviewer</th>\n",
       "      <th>summary</th>\n",
       "      <th>process</th>\n",
       "      <th>ingredient</th>\n",
       "    </tr>\n",
       "  </thead>\n",
       "  <tbody>\n",
       "    <tr>\n",
       "      <th>0</th>\n",
       "      <td>breakfast-and-brunch.eggs.breakfast-burritos</td>\n",
       "      <td>Ham and Cheese Breakfast Tortillas</td>\n",
       "      <td>0.0</td>\n",
       "      <td>0</td>\n",
       "      <td>44</td>\n",
       "      <td>This is great for a special brunch or even a q...</td>\n",
       "      <td>prep: 30 mins,total: 30 mins,Servings: 4,Yield...</td>\n",
       "      <td>12 eggs + &lt;U+2153&gt; cup milk + 3 slices cooked ...</td>\n",
       "    </tr>\n",
       "    <tr>\n",
       "      <th>1</th>\n",
       "      <td>breakfast-and-brunch.eggs.breakfast-burritos</td>\n",
       "      <td>Freeze-and-Reheat Breakfast Burritos</td>\n",
       "      <td>0.0</td>\n",
       "      <td>0</td>\n",
       "      <td>16</td>\n",
       "      <td>This recipe for hearty breakfast burritos is i...</td>\n",
       "      <td>prep: 30 mins,cook: 24 mins,total: 54 mins,Ser...</td>\n",
       "      <td>1 (12 ounce) package bacon + 10 large eggs + 3...</td>\n",
       "    </tr>\n",
       "    <tr>\n",
       "      <th>2</th>\n",
       "      <td>breakfast-and-brunch.eggs.breakfast-burritos</td>\n",
       "      <td>Southwest Breakfast Burritos</td>\n",
       "      <td>0.0</td>\n",
       "      <td>0</td>\n",
       "      <td>68</td>\n",
       "      <td>My wife and I love eating Mexican so I came up...</td>\n",
       "      <td>prep: 50 mins,cook: 15 mins,total: 1 hr 5 mins...</td>\n",
       "      <td>12 eggs + &lt;U+2154&gt; cup milk + ½ teaspoon salt ...</td>\n",
       "    </tr>\n",
       "  </tbody>\n",
       "</table>\n",
       "</div>"
      ],
      "text/plain": [
       "                                          group  \\\n",
       "0  breakfast-and-brunch.eggs.breakfast-burritos   \n",
       "1  breakfast-and-brunch.eggs.breakfast-burritos   \n",
       "2  breakfast-and-brunch.eggs.breakfast-burritos   \n",
       "\n",
       "                                   name  rating  n_rater  n_reviewer  \\\n",
       "0    Ham and Cheese Breakfast Tortillas     0.0        0          44   \n",
       "1  Freeze-and-Reheat Breakfast Burritos     0.0        0          16   \n",
       "2          Southwest Breakfast Burritos     0.0        0          68   \n",
       "\n",
       "                                             summary  \\\n",
       "0  This is great for a special brunch or even a q...   \n",
       "1  This recipe for hearty breakfast burritos is i...   \n",
       "2  My wife and I love eating Mexican so I came up...   \n",
       "\n",
       "                                             process  \\\n",
       "0  prep: 30 mins,total: 30 mins,Servings: 4,Yield...   \n",
       "1  prep: 30 mins,cook: 24 mins,total: 54 mins,Ser...   \n",
       "2  prep: 50 mins,cook: 15 mins,total: 1 hr 5 mins...   \n",
       "\n",
       "                                          ingredient  \n",
       "0  12 eggs + <U+2153> cup milk + 3 slices cooked ...  \n",
       "1  1 (12 ounce) package bacon + 10 large eggs + 3...  \n",
       "2  12 eggs + <U+2154> cup milk + ½ teaspoon salt ...  "
      ]
     },
     "execution_count": 6,
     "metadata": {},
     "output_type": "execute_result"
    }
   ],
   "source": [
    "data2 = pd.read_csv('recipes datasets/allrecipes.csv', encoding='ISO-8859-1')\n",
    "data2.head(3)"
   ]
  },
  {
   "cell_type": "code",
   "execution_count": 7,
   "id": "2d1f5619-71bc-421b-be56-d3511c1617a6",
   "metadata": {
    "tags": []
   },
   "outputs": [
    {
     "data": {
      "text/html": [
       "<div>\n",
       "<style scoped>\n",
       "    .dataframe tbody tr th:only-of-type {\n",
       "        vertical-align: middle;\n",
       "    }\n",
       "\n",
       "    .dataframe tbody tr th {\n",
       "        vertical-align: top;\n",
       "    }\n",
       "\n",
       "    .dataframe thead th {\n",
       "        text-align: right;\n",
       "    }\n",
       "</style>\n",
       "<table border=\"1\" class=\"dataframe\">\n",
       "  <thead>\n",
       "    <tr style=\"text-align: right;\">\n",
       "      <th></th>\n",
       "      <th>name</th>\n",
       "      <th>summary</th>\n",
       "      <th>process</th>\n",
       "      <th>ingredient</th>\n",
       "    </tr>\n",
       "  </thead>\n",
       "  <tbody>\n",
       "    <tr>\n",
       "      <th>0</th>\n",
       "      <td>Ham and Cheese Breakfast Tortillas</td>\n",
       "      <td>This is great for a special brunch or even a q...</td>\n",
       "      <td>prep: 30 mins,total: 30 mins,Servings: 4,Yield...</td>\n",
       "      <td>12 eggs + &lt;U+2153&gt; cup milk + 3 slices cooked ...</td>\n",
       "    </tr>\n",
       "    <tr>\n",
       "      <th>1</th>\n",
       "      <td>Freeze-and-Reheat Breakfast Burritos</td>\n",
       "      <td>This recipe for hearty breakfast burritos is i...</td>\n",
       "      <td>prep: 30 mins,cook: 24 mins,total: 54 mins,Ser...</td>\n",
       "      <td>1 (12 ounce) package bacon + 10 large eggs + 3...</td>\n",
       "    </tr>\n",
       "    <tr>\n",
       "      <th>2</th>\n",
       "      <td>Southwest Breakfast Burritos</td>\n",
       "      <td>My wife and I love eating Mexican so I came up...</td>\n",
       "      <td>prep: 50 mins,cook: 15 mins,total: 1 hr 5 mins...</td>\n",
       "      <td>12 eggs + &lt;U+2154&gt; cup milk + ½ teaspoon salt ...</td>\n",
       "    </tr>\n",
       "  </tbody>\n",
       "</table>\n",
       "</div>"
      ],
      "text/plain": [
       "                                   name  \\\n",
       "0    Ham and Cheese Breakfast Tortillas   \n",
       "1  Freeze-and-Reheat Breakfast Burritos   \n",
       "2          Southwest Breakfast Burritos   \n",
       "\n",
       "                                             summary  \\\n",
       "0  This is great for a special brunch or even a q...   \n",
       "1  This recipe for hearty breakfast burritos is i...   \n",
       "2  My wife and I love eating Mexican so I came up...   \n",
       "\n",
       "                                             process  \\\n",
       "0  prep: 30 mins,total: 30 mins,Servings: 4,Yield...   \n",
       "1  prep: 30 mins,cook: 24 mins,total: 54 mins,Ser...   \n",
       "2  prep: 50 mins,cook: 15 mins,total: 1 hr 5 mins...   \n",
       "\n",
       "                                          ingredient  \n",
       "0  12 eggs + <U+2153> cup milk + 3 slices cooked ...  \n",
       "1  1 (12 ounce) package bacon + 10 large eggs + 3...  \n",
       "2  12 eggs + <U+2154> cup milk + ½ teaspoon salt ...  "
      ]
     },
     "execution_count": 7,
     "metadata": {},
     "output_type": "execute_result"
    }
   ],
   "source": [
    "data2.drop(columns=['group', 'rating', 'n_rater', 'n_reviewer'], axis=1, inplace=True)\n",
    "data2.head(3)"
   ]
  },
  {
   "cell_type": "code",
   "execution_count": 8,
   "id": "aac24cc2-bd72-4bd1-b1d7-d766119f44ff",
   "metadata": {
    "tags": []
   },
   "outputs": [],
   "source": [
    "data2.to_csv('Cleaned Data/General Data/allrecipes.csv', index=False)"
   ]
  },
  {
   "cell_type": "markdown",
   "id": "9281b899-f7c6-4a82-90ad-f1945dde534f",
   "metadata": {},
   "source": [
    "----"
   ]
  },
  {
   "cell_type": "code",
   "execution_count": 9,
   "id": "5b9c77bc-cd2c-4954-b0dc-e57444a57286",
   "metadata": {
    "tags": []
   },
   "outputs": [
    {
     "data": {
      "text/html": [
       "<div>\n",
       "<style scoped>\n",
       "    .dataframe tbody tr th:only-of-type {\n",
       "        vertical-align: middle;\n",
       "    }\n",
       "\n",
       "    .dataframe tbody tr th {\n",
       "        vertical-align: top;\n",
       "    }\n",
       "\n",
       "    .dataframe thead th {\n",
       "        text-align: right;\n",
       "    }\n",
       "</style>\n",
       "<table border=\"1\" class=\"dataframe\">\n",
       "  <thead>\n",
       "    <tr style=\"text-align: right;\">\n",
       "      <th></th>\n",
       "      <th>recipe_title</th>\n",
       "      <th>url</th>\n",
       "      <th>record_health</th>\n",
       "      <th>vote_count</th>\n",
       "      <th>rating</th>\n",
       "      <th>description</th>\n",
       "      <th>cuisine</th>\n",
       "      <th>course</th>\n",
       "      <th>diet</th>\n",
       "      <th>prep_time</th>\n",
       "      <th>cook_time</th>\n",
       "      <th>ingredients</th>\n",
       "      <th>instructions</th>\n",
       "      <th>author</th>\n",
       "      <th>tags</th>\n",
       "      <th>category</th>\n",
       "    </tr>\n",
       "  </thead>\n",
       "  <tbody>\n",
       "    <tr>\n",
       "      <th>0</th>\n",
       "      <td>Roasted Peppers And Mushroom Tortilla Pizza Re...</td>\n",
       "      <td>https://www.archanaskitchen.com/roasted-pepper...</td>\n",
       "      <td>good</td>\n",
       "      <td>434</td>\n",
       "      <td>4.958525</td>\n",
       "      <td>is a quicker version pizza to satisfy your cr...</td>\n",
       "      <td>Mexican</td>\n",
       "      <td>Dinner</td>\n",
       "      <td>Vegetarian</td>\n",
       "      <td>15 M</td>\n",
       "      <td>15 M</td>\n",
       "      <td>Tortillas|Extra Virgin Olive Oil|Garlic|Mozzar...</td>\n",
       "      <td>To begin making the Roasted Peppers And Mushro...</td>\n",
       "      <td>Divya Shivaraman</td>\n",
       "      <td>Party Food Recipes|Tea Party Recipes|Mushroom ...</td>\n",
       "      <td>Pizza Recipes</td>\n",
       "    </tr>\n",
       "    <tr>\n",
       "      <th>1</th>\n",
       "      <td>Thakkali Gotsu Recipe | Thakkali Curry | Spicy...</td>\n",
       "      <td>https://www.archanaskitchen.com/tomato-gotsu-r...</td>\n",
       "      <td>good</td>\n",
       "      <td>3423</td>\n",
       "      <td>4.932223</td>\n",
       "      <td>also known as the   is a quick and easy to ma...</td>\n",
       "      <td>South Indian Recipes</td>\n",
       "      <td>Lunch</td>\n",
       "      <td>Vegetarian</td>\n",
       "      <td>10 M</td>\n",
       "      <td>20 M</td>\n",
       "      <td>Sesame (Gingelly) Oil|Mustard seeds (Rai/ Kadu...</td>\n",
       "      <td>To begin making Tomato Gotsu Recipe/ Thakkali ...</td>\n",
       "      <td>Archana Doshi</td>\n",
       "      <td>Vegetarian Recipes|Tomato Recipes|South Indian...</td>\n",
       "      <td>Indian Curry Recipes</td>\n",
       "    </tr>\n",
       "    <tr>\n",
       "      <th>2</th>\n",
       "      <td>Spicy Grilled Pineapple Salsa Recipe</td>\n",
       "      <td>https://www.archanaskitchen.com/spicy-grilled-...</td>\n",
       "      <td>good</td>\n",
       "      <td>2091</td>\n",
       "      <td>4.945959</td>\n",
       "      <td>Spicy Grilled Pineapple Salsa is a simple reci...</td>\n",
       "      <td>Mexican</td>\n",
       "      <td>Side Dish</td>\n",
       "      <td>Vegetarian</td>\n",
       "      <td>10 M</td>\n",
       "      <td>0 M</td>\n",
       "      <td>Extra Virgin Olive Oil|Pineapple|White onion|R...</td>\n",
       "      <td>To begin making the Spicy Grilled Pineapple Sa...</td>\n",
       "      <td>Archana's Kitchen</td>\n",
       "      <td>Party Starter &amp; Appetizer Recipes|Pineapple Re...</td>\n",
       "      <td>Mexican Recipes</td>\n",
       "    </tr>\n",
       "  </tbody>\n",
       "</table>\n",
       "</div>"
      ],
      "text/plain": [
       "                                        recipe_title  \\\n",
       "0  Roasted Peppers And Mushroom Tortilla Pizza Re...   \n",
       "1  Thakkali Gotsu Recipe | Thakkali Curry | Spicy...   \n",
       "2               Spicy Grilled Pineapple Salsa Recipe   \n",
       "\n",
       "                                                 url record_health  \\\n",
       "0  https://www.archanaskitchen.com/roasted-pepper...          good   \n",
       "1  https://www.archanaskitchen.com/tomato-gotsu-r...          good   \n",
       "2  https://www.archanaskitchen.com/spicy-grilled-...          good   \n",
       "\n",
       "   vote_count    rating                                        description  \\\n",
       "0         434  4.958525   is a quicker version pizza to satisfy your cr...   \n",
       "1        3423  4.932223   also known as the   is a quick and easy to ma...   \n",
       "2        2091  4.945959  Spicy Grilled Pineapple Salsa is a simple reci...   \n",
       "\n",
       "                cuisine     course        diet prep_time cook_time  \\\n",
       "0               Mexican     Dinner  Vegetarian      15 M      15 M   \n",
       "1  South Indian Recipes      Lunch  Vegetarian      10 M      20 M   \n",
       "2               Mexican  Side Dish  Vegetarian      10 M       0 M   \n",
       "\n",
       "                                         ingredients  \\\n",
       "0  Tortillas|Extra Virgin Olive Oil|Garlic|Mozzar...   \n",
       "1  Sesame (Gingelly) Oil|Mustard seeds (Rai/ Kadu...   \n",
       "2  Extra Virgin Olive Oil|Pineapple|White onion|R...   \n",
       "\n",
       "                                        instructions             author  \\\n",
       "0  To begin making the Roasted Peppers And Mushro...  Divya Shivaraman    \n",
       "1  To begin making Tomato Gotsu Recipe/ Thakkali ...      Archana Doshi   \n",
       "2  To begin making the Spicy Grilled Pineapple Sa...  Archana's Kitchen   \n",
       "\n",
       "                                                tags              category  \n",
       "0  Party Food Recipes|Tea Party Recipes|Mushroom ...         Pizza Recipes  \n",
       "1  Vegetarian Recipes|Tomato Recipes|South Indian...  Indian Curry Recipes  \n",
       "2  Party Starter & Appetizer Recipes|Pineapple Re...       Mexican Recipes  "
      ]
     },
     "execution_count": 9,
     "metadata": {},
     "output_type": "execute_result"
    }
   ],
   "source": [
    "data3 = pd.read_csv('recipes datasets/food_recipes.csv')\n",
    "data3.head(3)"
   ]
  },
  {
   "cell_type": "code",
   "execution_count": 10,
   "id": "9500ef30-d760-4463-85d2-1ed6b830cf74",
   "metadata": {
    "tags": []
   },
   "outputs": [
    {
     "data": {
      "text/plain": [
       "Index(['recipe_title', 'url', 'record_health', 'vote_count', 'rating',\n",
       "       'description', 'cuisine', 'course', 'diet', 'prep_time', 'cook_time',\n",
       "       'ingredients', 'instructions', 'author', 'tags', 'category'],\n",
       "      dtype='object')"
      ]
     },
     "execution_count": 10,
     "metadata": {},
     "output_type": "execute_result"
    }
   ],
   "source": [
    "data3.columns"
   ]
  },
  {
   "cell_type": "code",
   "execution_count": 11,
   "id": "1dfe5cad-e6b7-4f74-83a8-8fff02eda95e",
   "metadata": {
    "tags": []
   },
   "outputs": [
    {
     "data": {
      "text/html": [
       "<div>\n",
       "<style scoped>\n",
       "    .dataframe tbody tr th:only-of-type {\n",
       "        vertical-align: middle;\n",
       "    }\n",
       "\n",
       "    .dataframe tbody tr th {\n",
       "        vertical-align: top;\n",
       "    }\n",
       "\n",
       "    .dataframe thead th {\n",
       "        text-align: right;\n",
       "    }\n",
       "</style>\n",
       "<table border=\"1\" class=\"dataframe\">\n",
       "  <thead>\n",
       "    <tr style=\"text-align: right;\">\n",
       "      <th></th>\n",
       "      <th>recipe_title</th>\n",
       "      <th>url</th>\n",
       "      <th>record_health</th>\n",
       "      <th>vote_count</th>\n",
       "      <th>rating</th>\n",
       "      <th>description</th>\n",
       "      <th>cuisine</th>\n",
       "      <th>course</th>\n",
       "      <th>diet</th>\n",
       "      <th>prep_time</th>\n",
       "      <th>cook_time</th>\n",
       "      <th>ingredients</th>\n",
       "      <th>instructions</th>\n",
       "      <th>author</th>\n",
       "      <th>tags</th>\n",
       "      <th>category</th>\n",
       "    </tr>\n",
       "  </thead>\n",
       "  <tbody>\n",
       "    <tr>\n",
       "      <th>65</th>\n",
       "      <td>Moroccan Chickpeas Stew Recipe</td>\n",
       "      <td>https://www.archanaskitchen.com/moroccan-chick...</td>\n",
       "      <td>good</td>\n",
       "      <td>298</td>\n",
       "      <td>4.711409</td>\n",
       "      <td>The   is a delicious curry made from chickpeas...</td>\n",
       "      <td>African</td>\n",
       "      <td>Dinner</td>\n",
       "      <td>High Protein Vegetarian</td>\n",
       "      <td>10 M</td>\n",
       "      <td>45 M</td>\n",
       "      <td>Kabuli Chana (White Chickpeas)|Extra Virgin Ol...</td>\n",
       "      <td>To begin making the Moroccan Chickpeas Stew Re...</td>\n",
       "      <td>Archana's Kitchen</td>\n",
       "      <td>Party Food Recipes|High Protein Vegetarian Die...</td>\n",
       "      <td>Continental Food Recipes</td>\n",
       "    </tr>\n",
       "    <tr>\n",
       "      <th>239</th>\n",
       "      <td>Moroccan Harira Recipe (Thick Soup With Chickp...</td>\n",
       "      <td>https://www.archanaskitchen.com/moroccan-harir...</td>\n",
       "      <td>good</td>\n",
       "      <td>561</td>\n",
       "      <td>4.959002</td>\n",
       "      <td>Moroccan Harira Recipe (Thick Soup With Chickp...</td>\n",
       "      <td>African</td>\n",
       "      <td>Appetizer</td>\n",
       "      <td>Vegetarian</td>\n",
       "      <td>25 M</td>\n",
       "      <td>60 M</td>\n",
       "      <td>Kabuli Chana (White Chickpeas)|Masoor Dal (Who...</td>\n",
       "      <td>To begin making Moroccan Harira Recipe (Thick ...</td>\n",
       "      <td>Jyothi Rajesh</td>\n",
       "      <td>Dahi Recipes (Curd/Yogurt)|Kabuli Chana Recipe...</td>\n",
       "      <td>Soup Recipes</td>\n",
       "    </tr>\n",
       "    <tr>\n",
       "      <th>765</th>\n",
       "      <td>Vegetable Tagine Recipe</td>\n",
       "      <td>https://www.archanaskitchen.com/vegetable-tagi...</td>\n",
       "      <td>good</td>\n",
       "      <td>800</td>\n",
       "      <td>4.926250</td>\n",
       "      <td>Tagine is a food culture of the Moroccan and A...</td>\n",
       "      <td>African</td>\n",
       "      <td>Dinner</td>\n",
       "      <td>Vegetarian</td>\n",
       "      <td>10 M</td>\n",
       "      <td>60 M</td>\n",
       "      <td>Carrots (Gajjar)|Potatoes (Aloo)|Parsnip|Leek|...</td>\n",
       "      <td>To begin making the Vegetable Tagine recipe, w...</td>\n",
       "      <td>Jyothi Rajesh</td>\n",
       "      <td>Party Food Recipes|Aloo Recipes (Potato &amp; Baby...</td>\n",
       "      <td>Continental Food Recipes</td>\n",
       "    </tr>\n",
       "    <tr>\n",
       "      <th>815</th>\n",
       "      <td>Shakshuka With Spinach &amp; Feta Cheese Recipe</td>\n",
       "      <td>https://www.archanaskitchen.com/shakshuka-with...</td>\n",
       "      <td>good</td>\n",
       "      <td>1439</td>\n",
       "      <td>4.904100</td>\n",
       "      <td>The   is a wholesome North African Skillet dis...</td>\n",
       "      <td>African</td>\n",
       "      <td>World Breakfast</td>\n",
       "      <td>Eggetarian</td>\n",
       "      <td>15 M</td>\n",
       "      <td>40 M</td>\n",
       "      <td>Extra Virgin Olive Oil|Onion|Red Bell pepper (...</td>\n",
       "      <td>To begin making the Shakshuka With Spinach &amp; F...</td>\n",
       "      <td>Archana's Kitchen</td>\n",
       "      <td>High Protein Vegetarian Diet Recipes</td>\n",
       "      <td>Continental Breakfast Recipes</td>\n",
       "    </tr>\n",
       "    <tr>\n",
       "      <th>2451</th>\n",
       "      <td>Spicy Moroccan Rice With Chicken Recipe</td>\n",
       "      <td>https://www.archanaskitchen.com/spicy-moroccan...</td>\n",
       "      <td>good</td>\n",
       "      <td>854</td>\n",
       "      <td>4.871194</td>\n",
       "      <td>Moroccan Rice with Chicken is a spicy, sumptuo...</td>\n",
       "      <td>African</td>\n",
       "      <td>Main Course</td>\n",
       "      <td>High Protein Non Vegetarian</td>\n",
       "      <td>30 M</td>\n",
       "      <td>20 M</td>\n",
       "      <td>Chicken|Onion|Rice|Chicken stock|Kabuli Chana ...</td>\n",
       "      <td>To prepare Spicy Moroccan Rice With Chicken Re...</td>\n",
       "      <td>Shalini R</td>\n",
       "      <td>Party Food Recipes|Moroccan recipes</td>\n",
       "      <td>Continental Food Recipes</td>\n",
       "    </tr>\n",
       "  </tbody>\n",
       "</table>\n",
       "</div>"
      ],
      "text/plain": [
       "                                           recipe_title  \\\n",
       "65                      Moroccan Chickpeas Stew Recipe    \n",
       "239   Moroccan Harira Recipe (Thick Soup With Chickp...   \n",
       "765                             Vegetable Tagine Recipe   \n",
       "815        Shakshuka With Spinach & Feta Cheese Recipe    \n",
       "2451            Spicy Moroccan Rice With Chicken Recipe   \n",
       "\n",
       "                                                    url record_health  \\\n",
       "65    https://www.archanaskitchen.com/moroccan-chick...          good   \n",
       "239   https://www.archanaskitchen.com/moroccan-harir...          good   \n",
       "765   https://www.archanaskitchen.com/vegetable-tagi...          good   \n",
       "815   https://www.archanaskitchen.com/shakshuka-with...          good   \n",
       "2451  https://www.archanaskitchen.com/spicy-moroccan...          good   \n",
       "\n",
       "      vote_count    rating                                        description  \\\n",
       "65           298  4.711409  The   is a delicious curry made from chickpeas...   \n",
       "239          561  4.959002  Moroccan Harira Recipe (Thick Soup With Chickp...   \n",
       "765          800  4.926250  Tagine is a food culture of the Moroccan and A...   \n",
       "815         1439  4.904100  The   is a wholesome North African Skillet dis...   \n",
       "2451         854  4.871194  Moroccan Rice with Chicken is a spicy, sumptuo...   \n",
       "\n",
       "      cuisine           course                         diet prep_time  \\\n",
       "65    African           Dinner      High Protein Vegetarian      10 M   \n",
       "239   African        Appetizer                   Vegetarian      25 M   \n",
       "765   African           Dinner                   Vegetarian      10 M   \n",
       "815   African  World Breakfast                   Eggetarian      15 M   \n",
       "2451  African      Main Course  High Protein Non Vegetarian      30 M   \n",
       "\n",
       "     cook_time                                        ingredients  \\\n",
       "65        45 M  Kabuli Chana (White Chickpeas)|Extra Virgin Ol...   \n",
       "239       60 M  Kabuli Chana (White Chickpeas)|Masoor Dal (Who...   \n",
       "765       60 M  Carrots (Gajjar)|Potatoes (Aloo)|Parsnip|Leek|...   \n",
       "815       40 M  Extra Virgin Olive Oil|Onion|Red Bell pepper (...   \n",
       "2451      20 M  Chicken|Onion|Rice|Chicken stock|Kabuli Chana ...   \n",
       "\n",
       "                                           instructions             author  \\\n",
       "65    To begin making the Moroccan Chickpeas Stew Re...  Archana's Kitchen   \n",
       "239   To begin making Moroccan Harira Recipe (Thick ...      Jyothi Rajesh   \n",
       "765   To begin making the Vegetable Tagine recipe, w...      Jyothi Rajesh   \n",
       "815   To begin making the Shakshuka With Spinach & F...  Archana's Kitchen   \n",
       "2451  To prepare Spicy Moroccan Rice With Chicken Re...          Shalini R   \n",
       "\n",
       "                                                   tags  \\\n",
       "65    Party Food Recipes|High Protein Vegetarian Die...   \n",
       "239   Dahi Recipes (Curd/Yogurt)|Kabuli Chana Recipe...   \n",
       "765   Party Food Recipes|Aloo Recipes (Potato & Baby...   \n",
       "815                High Protein Vegetarian Diet Recipes   \n",
       "2451                Party Food Recipes|Moroccan recipes   \n",
       "\n",
       "                           category  \n",
       "65         Continental Food Recipes  \n",
       "239                    Soup Recipes  \n",
       "765        Continental Food Recipes  \n",
       "815   Continental Breakfast Recipes  \n",
       "2451       Continental Food Recipes  "
      ]
     },
     "execution_count": 11,
     "metadata": {},
     "output_type": "execute_result"
    }
   ],
   "source": [
    "data3_moroccan = data3[data3['cuisine'] == 'African']\n",
    "data3_moroccan.head(5)"
   ]
  },
  {
   "cell_type": "code",
   "execution_count": 12,
   "id": "ed6fb205-b48f-4fbe-8a57-e468b4edd5f4",
   "metadata": {
    "tags": []
   },
   "outputs": [
    {
     "data": {
      "text/plain": [
       "(21, 16)"
      ]
     },
     "execution_count": 12,
     "metadata": {},
     "output_type": "execute_result"
    }
   ],
   "source": [
    "data3_moroccan.shape"
   ]
  },
  {
   "cell_type": "code",
   "execution_count": 13,
   "id": "3c5bae8a-b2cb-481b-854a-622ee40c9a35",
   "metadata": {
    "tags": []
   },
   "outputs": [
    {
     "name": "stderr",
     "output_type": "stream",
     "text": [
      "C:\\Users\\pc\\AppData\\Local\\Temp\\ipykernel_23372\\1821331759.py:2: SettingWithCopyWarning: \n",
      "A value is trying to be set on a copy of a slice from a DataFrame\n",
      "\n",
      "See the caveats in the documentation: https://pandas.pydata.org/pandas-docs/stable/user_guide/indexing.html#returning-a-view-versus-a-copy\n",
      "  data3_moroccan.drop(columns=['url', 'record_health', 'vote_count', 'rating', 'prep_time', 'cook_time', 'author', 'tags', 'category'], axis=1, inplace=True)\n"
     ]
    },
    {
     "data": {
      "text/html": [
       "<div>\n",
       "<style scoped>\n",
       "    .dataframe tbody tr th:only-of-type {\n",
       "        vertical-align: middle;\n",
       "    }\n",
       "\n",
       "    .dataframe tbody tr th {\n",
       "        vertical-align: top;\n",
       "    }\n",
       "\n",
       "    .dataframe thead th {\n",
       "        text-align: right;\n",
       "    }\n",
       "</style>\n",
       "<table border=\"1\" class=\"dataframe\">\n",
       "  <thead>\n",
       "    <tr style=\"text-align: right;\">\n",
       "      <th></th>\n",
       "      <th>recipe_title</th>\n",
       "      <th>description</th>\n",
       "      <th>cuisine</th>\n",
       "      <th>course</th>\n",
       "      <th>diet</th>\n",
       "      <th>ingredients</th>\n",
       "      <th>instructions</th>\n",
       "    </tr>\n",
       "  </thead>\n",
       "  <tbody>\n",
       "    <tr>\n",
       "      <th>65</th>\n",
       "      <td>Moroccan Chickpeas Stew Recipe</td>\n",
       "      <td>The   is a delicious curry made from chickpeas...</td>\n",
       "      <td>African</td>\n",
       "      <td>Dinner</td>\n",
       "      <td>High Protein Vegetarian</td>\n",
       "      <td>Kabuli Chana (White Chickpeas)|Extra Virgin Ol...</td>\n",
       "      <td>To begin making the Moroccan Chickpeas Stew Re...</td>\n",
       "    </tr>\n",
       "    <tr>\n",
       "      <th>239</th>\n",
       "      <td>Moroccan Harira Recipe (Thick Soup With Chickp...</td>\n",
       "      <td>Moroccan Harira Recipe (Thick Soup With Chickp...</td>\n",
       "      <td>African</td>\n",
       "      <td>Appetizer</td>\n",
       "      <td>Vegetarian</td>\n",
       "      <td>Kabuli Chana (White Chickpeas)|Masoor Dal (Who...</td>\n",
       "      <td>To begin making Moroccan Harira Recipe (Thick ...</td>\n",
       "    </tr>\n",
       "    <tr>\n",
       "      <th>765</th>\n",
       "      <td>Vegetable Tagine Recipe</td>\n",
       "      <td>Tagine is a food culture of the Moroccan and A...</td>\n",
       "      <td>African</td>\n",
       "      <td>Dinner</td>\n",
       "      <td>Vegetarian</td>\n",
       "      <td>Carrots (Gajjar)|Potatoes (Aloo)|Parsnip|Leek|...</td>\n",
       "      <td>To begin making the Vegetable Tagine recipe, w...</td>\n",
       "    </tr>\n",
       "  </tbody>\n",
       "</table>\n",
       "</div>"
      ],
      "text/plain": [
       "                                          recipe_title  \\\n",
       "65                     Moroccan Chickpeas Stew Recipe    \n",
       "239  Moroccan Harira Recipe (Thick Soup With Chickp...   \n",
       "765                            Vegetable Tagine Recipe   \n",
       "\n",
       "                                           description  cuisine     course  \\\n",
       "65   The   is a delicious curry made from chickpeas...  African     Dinner   \n",
       "239  Moroccan Harira Recipe (Thick Soup With Chickp...  African  Appetizer   \n",
       "765  Tagine is a food culture of the Moroccan and A...  African     Dinner   \n",
       "\n",
       "                        diet  \\\n",
       "65   High Protein Vegetarian   \n",
       "239               Vegetarian   \n",
       "765               Vegetarian   \n",
       "\n",
       "                                           ingredients  \\\n",
       "65   Kabuli Chana (White Chickpeas)|Extra Virgin Ol...   \n",
       "239  Kabuli Chana (White Chickpeas)|Masoor Dal (Who...   \n",
       "765  Carrots (Gajjar)|Potatoes (Aloo)|Parsnip|Leek|...   \n",
       "\n",
       "                                          instructions  \n",
       "65   To begin making the Moroccan Chickpeas Stew Re...  \n",
       "239  To begin making Moroccan Harira Recipe (Thick ...  \n",
       "765  To begin making the Vegetable Tagine recipe, w...  "
      ]
     },
     "execution_count": 13,
     "metadata": {},
     "output_type": "execute_result"
    }
   ],
   "source": [
    "data3.drop(columns=['url', 'record_health', 'vote_count', 'rating', 'prep_time', 'cook_time', 'author', 'tags', 'category'], axis=1, inplace=True)\n",
    "data3_moroccan.drop(columns=['url', 'record_health', 'vote_count', 'rating', 'prep_time', 'cook_time', 'author', 'tags', 'category'], axis=1, inplace=True)\n",
    "data3_moroccan.head(3)"
   ]
  },
  {
   "cell_type": "code",
   "execution_count": 14,
   "id": "4e54fd31-a92d-4c13-a804-ab77cee4cab5",
   "metadata": {
    "tags": []
   },
   "outputs": [],
   "source": [
    "data3.to_csv('Cleaned Data/General Data/food_recipes1.csv', index=False)\n",
    "data3_moroccan.to_csv('Cleaned Data/Moroccan Data/moroccan_food_recipes1.csv', index=False)"
   ]
  },
  {
   "cell_type": "markdown",
   "id": "0ef52ecb-c73b-422f-9d60-5f1ace09f882",
   "metadata": {},
   "source": [
    "---"
   ]
  },
  {
   "cell_type": "code",
   "execution_count": 15,
   "id": "70662f2c-36c1-4c79-a84d-c8ac079fbb1c",
   "metadata": {
    "tags": []
   },
   "outputs": [
    {
     "data": {
      "text/html": [
       "<div>\n",
       "<style scoped>\n",
       "    .dataframe tbody tr th:only-of-type {\n",
       "        vertical-align: middle;\n",
       "    }\n",
       "\n",
       "    .dataframe tbody tr th {\n",
       "        vertical-align: top;\n",
       "    }\n",
       "\n",
       "    .dataframe thead th {\n",
       "        text-align: right;\n",
       "    }\n",
       "</style>\n",
       "<table border=\"1\" class=\"dataframe\">\n",
       "  <thead>\n",
       "    <tr style=\"text-align: right;\">\n",
       "      <th></th>\n",
       "      <th>id</th>\n",
       "      <th>recipeName</th>\n",
       "      <th>rating</th>\n",
       "      <th>totalTimeInSeconds</th>\n",
       "      <th>course</th>\n",
       "      <th>cuisine</th>\n",
       "      <th>ingredients</th>\n",
       "    </tr>\n",
       "  </thead>\n",
       "  <tbody>\n",
       "    <tr>\n",
       "      <th>0</th>\n",
       "      <td>Southern-Cornbread-Dressing-1357820</td>\n",
       "      <td>Southern Cornbread Dressing</td>\n",
       "      <td>4.0</td>\n",
       "      <td>3600.0</td>\n",
       "      <td>NaN</td>\n",
       "      <td>[Southern &amp; Soul Food]</td>\n",
       "      <td>[buttermilk cornbread, sandwich bread, salt, b...</td>\n",
       "    </tr>\n",
       "    <tr>\n",
       "      <th>1</th>\n",
       "      <td>Peanut-butter-fudge-297693</td>\n",
       "      <td>Peanut Butter Fudge</td>\n",
       "      <td>4.0</td>\n",
       "      <td>8100.0</td>\n",
       "      <td>[Desserts]</td>\n",
       "      <td>[American]</td>\n",
       "      <td>[Country Crock® Spread, light corn syrup, crea...</td>\n",
       "    </tr>\n",
       "    <tr>\n",
       "      <th>2</th>\n",
       "      <td>Buckeyes-298471</td>\n",
       "      <td>Buckeyes</td>\n",
       "      <td>4.0</td>\n",
       "      <td>6600.0</td>\n",
       "      <td>[Desserts]</td>\n",
       "      <td>[American]</td>\n",
       "      <td>[Skippy® Super Chunk® Peanut Butter, Country C...</td>\n",
       "    </tr>\n",
       "  </tbody>\n",
       "</table>\n",
       "</div>"
      ],
      "text/plain": [
       "                                    id                   recipeName  rating  \\\n",
       "0  Southern-Cornbread-Dressing-1357820  Southern Cornbread Dressing     4.0   \n",
       "1           Peanut-butter-fudge-297693          Peanut Butter Fudge     4.0   \n",
       "2                      Buckeyes-298471                     Buckeyes     4.0   \n",
       "\n",
       "   totalTimeInSeconds      course                 cuisine  \\\n",
       "0              3600.0         NaN  [Southern & Soul Food]   \n",
       "1              8100.0  [Desserts]              [American]   \n",
       "2              6600.0  [Desserts]              [American]   \n",
       "\n",
       "                                         ingredients  \n",
       "0  [buttermilk cornbread, sandwich bread, salt, b...  \n",
       "1  [Country Crock® Spread, light corn syrup, crea...  \n",
       "2  [Skippy® Super Chunk® Peanut Butter, Country C...  "
      ]
     },
     "execution_count": 15,
     "metadata": {},
     "output_type": "execute_result"
    }
   ],
   "source": [
    "data4 = pd.read_csv('recipes datasets/food_recipes2.csv', encoding='ISO-8859-1')\n",
    "data4.head(3)"
   ]
  },
  {
   "cell_type": "code",
   "execution_count": 16,
   "id": "69615e80-303d-4972-8426-c33505cc7768",
   "metadata": {
    "tags": []
   },
   "outputs": [
    {
     "data": {
      "text/html": [
       "<div>\n",
       "<style scoped>\n",
       "    .dataframe tbody tr th:only-of-type {\n",
       "        vertical-align: middle;\n",
       "    }\n",
       "\n",
       "    .dataframe tbody tr th {\n",
       "        vertical-align: top;\n",
       "    }\n",
       "\n",
       "    .dataframe thead th {\n",
       "        text-align: right;\n",
       "    }\n",
       "</style>\n",
       "<table border=\"1\" class=\"dataframe\">\n",
       "  <thead>\n",
       "    <tr style=\"text-align: right;\">\n",
       "      <th></th>\n",
       "      <th>recipeName</th>\n",
       "      <th>ingredients</th>\n",
       "    </tr>\n",
       "  </thead>\n",
       "  <tbody>\n",
       "    <tr>\n",
       "      <th>0</th>\n",
       "      <td>Southern Cornbread Dressing</td>\n",
       "      <td>[buttermilk cornbread, sandwich bread, salt, b...</td>\n",
       "    </tr>\n",
       "    <tr>\n",
       "      <th>1</th>\n",
       "      <td>Peanut Butter Fudge</td>\n",
       "      <td>[Country Crock® Spread, light corn syrup, crea...</td>\n",
       "    </tr>\n",
       "    <tr>\n",
       "      <th>2</th>\n",
       "      <td>Buckeyes</td>\n",
       "      <td>[Skippy® Super Chunk® Peanut Butter, Country C...</td>\n",
       "    </tr>\n",
       "  </tbody>\n",
       "</table>\n",
       "</div>"
      ],
      "text/plain": [
       "                    recipeName  \\\n",
       "0  Southern Cornbread Dressing   \n",
       "1          Peanut Butter Fudge   \n",
       "2                     Buckeyes   \n",
       "\n",
       "                                         ingredients  \n",
       "0  [buttermilk cornbread, sandwich bread, salt, b...  \n",
       "1  [Country Crock® Spread, light corn syrup, crea...  \n",
       "2  [Skippy® Super Chunk® Peanut Butter, Country C...  "
      ]
     },
     "execution_count": 16,
     "metadata": {},
     "output_type": "execute_result"
    }
   ],
   "source": [
    "data4.drop(columns=['id', 'rating', 'totalTimeInSeconds', 'course', 'cuisine'], axis=1, inplace=True)\n",
    "data4.head(3)"
   ]
  },
  {
   "cell_type": "code",
   "execution_count": 17,
   "id": "ebd7c2da-4189-42b9-880b-93e387b29324",
   "metadata": {
    "tags": []
   },
   "outputs": [],
   "source": [
    "data4.to_csv('Cleaned Data/General Data/food_recipes2.csv', index=False)"
   ]
  },
  {
   "cell_type": "markdown",
   "id": "f3a77983-b461-47e7-8b3d-f3d0fc6cebfe",
   "metadata": {},
   "source": [
    "---"
   ]
  },
  {
   "cell_type": "code",
   "execution_count": 18,
   "id": "2d12a529-c162-4a75-a8b9-21b2fb02d545",
   "metadata": {
    "tags": []
   },
   "outputs": [],
   "source": [
    "with open('recipes datasets/recipes_raw/recipes_raw_nosource_ar.json', 'r') as f:\n",
    "    json1 = json.load(f)\n",
    "#---\n",
    "with open('recipes datasets/recipes_raw/recipes_raw_nosource_epi.json', 'r') as f:\n",
    "    json2 = json.load(f)\n",
    "#---\n",
    "with open('recipes datasets/recipes_raw/recipes_raw_nosource_fn.json', 'r') as f:\n",
    "    json3 = json.load(f)\n",
    "    \n",
    "# Convert JSON data into a pandas DataFrame\n",
    "data5 = pd.DataFrame.from_dict(json1, orient='index').reset_index()\n",
    "data6 = pd.DataFrame.from_dict(json2, orient='index').reset_index()\n",
    "data7 = pd.DataFrame.from_dict(json3, orient='index').reset_index()\n",
    "\n",
    "data5.rename(columns={'index': 'recipe_id'}, inplace=True)\n",
    "data6.rename(columns={'index': 'recipe_id'}, inplace=True)\n",
    "data7.rename(columns={'index': 'recipe_id'}, inplace=True)\n",
    "\n",
    "# Create a new DataFrame containing only rows where the title contains the word \"Moroccan\"\n",
    "moroccan_data1 = data5[data5['title'].str.contains('Moroccan', case=False, na=False)]\n",
    "moroccan_data2 = data6[data6['title'].str.contains('Moroccan', case=False, na=False)]\n",
    "moroccan_data3 = data7[data7['title'].str.contains('Moroccan', case=False, na=False)]"
   ]
  },
  {
   "cell_type": "code",
   "execution_count": 19,
   "id": "f7a49dc1-8c9a-4ee1-96b5-e77d612750a1",
   "metadata": {
    "tags": []
   },
   "outputs": [
    {
     "data": {
      "text/html": [
       "<div>\n",
       "<style scoped>\n",
       "    .dataframe tbody tr th:only-of-type {\n",
       "        vertical-align: middle;\n",
       "    }\n",
       "\n",
       "    .dataframe tbody tr th {\n",
       "        vertical-align: top;\n",
       "    }\n",
       "\n",
       "    .dataframe thead th {\n",
       "        text-align: right;\n",
       "    }\n",
       "</style>\n",
       "<table border=\"1\" class=\"dataframe\">\n",
       "  <thead>\n",
       "    <tr style=\"text-align: right;\">\n",
       "      <th></th>\n",
       "      <th>recipe_id</th>\n",
       "      <th>title</th>\n",
       "      <th>ingredients</th>\n",
       "      <th>instructions</th>\n",
       "      <th>picture_link</th>\n",
       "    </tr>\n",
       "  </thead>\n",
       "  <tbody>\n",
       "    <tr>\n",
       "      <th>0</th>\n",
       "      <td>rmK12Uau.ntP510KeImX506H6Mr6jTu</td>\n",
       "      <td>Slow Cooker Chicken and Dumplings</td>\n",
       "      <td>[4 skinless, boneless chicken breast halves AD...</td>\n",
       "      <td>Place the chicken, butter, soup, and onion in ...</td>\n",
       "      <td>55lznCYBbs2mT8BTx6BTkLhynGHzM.S</td>\n",
       "    </tr>\n",
       "    <tr>\n",
       "      <th>1</th>\n",
       "      <td>5ZpZE8hSVdPk2ZXo1mZTyoPWJRSCPSm</td>\n",
       "      <td>Awesome Slow Cooker Pot Roast</td>\n",
       "      <td>[2 (10.75 ounce) cans condensed cream of mushr...</td>\n",
       "      <td>In a slow cooker, mix cream of mushroom soup, ...</td>\n",
       "      <td>QyrvGdGNMBA2lDdciY0FjKu.77MM0Oe</td>\n",
       "    </tr>\n",
       "    <tr>\n",
       "      <th>2</th>\n",
       "      <td>clyYQv.CplpwJtjNaFGhx0VilNYqRxu</td>\n",
       "      <td>Brown Sugar Meatloaf</td>\n",
       "      <td>[1/2 cup packed brown sugar ADVERTISEMENT, 1/2...</td>\n",
       "      <td>Preheat oven to 350 degrees F (175 degrees C)....</td>\n",
       "      <td>LVW1DI0vtlCrpAhNSEQysE9i/7rJG56</td>\n",
       "    </tr>\n",
       "  </tbody>\n",
       "</table>\n",
       "</div>"
      ],
      "text/plain": [
       "                         recipe_id                              title  \\\n",
       "0  rmK12Uau.ntP510KeImX506H6Mr6jTu  Slow Cooker Chicken and Dumplings   \n",
       "1  5ZpZE8hSVdPk2ZXo1mZTyoPWJRSCPSm      Awesome Slow Cooker Pot Roast   \n",
       "2  clyYQv.CplpwJtjNaFGhx0VilNYqRxu               Brown Sugar Meatloaf   \n",
       "\n",
       "                                         ingredients  \\\n",
       "0  [4 skinless, boneless chicken breast halves AD...   \n",
       "1  [2 (10.75 ounce) cans condensed cream of mushr...   \n",
       "2  [1/2 cup packed brown sugar ADVERTISEMENT, 1/2...   \n",
       "\n",
       "                                        instructions  \\\n",
       "0  Place the chicken, butter, soup, and onion in ...   \n",
       "1  In a slow cooker, mix cream of mushroom soup, ...   \n",
       "2  Preheat oven to 350 degrees F (175 degrees C)....   \n",
       "\n",
       "                      picture_link  \n",
       "0  55lznCYBbs2mT8BTx6BTkLhynGHzM.S  \n",
       "1  QyrvGdGNMBA2lDdciY0FjKu.77MM0Oe  \n",
       "2  LVW1DI0vtlCrpAhNSEQysE9i/7rJG56  "
      ]
     },
     "execution_count": 19,
     "metadata": {},
     "output_type": "execute_result"
    }
   ],
   "source": [
    "data5.head(3)"
   ]
  },
  {
   "cell_type": "code",
   "execution_count": 20,
   "id": "2b86c419-1ee1-456b-8bc8-926f34c410c0",
   "metadata": {
    "tags": []
   },
   "outputs": [
    {
     "name": "stderr",
     "output_type": "stream",
     "text": [
      "C:\\Users\\pc\\AppData\\Local\\Temp\\ipykernel_23372\\190935370.py:5: SettingWithCopyWarning: \n",
      "A value is trying to be set on a copy of a slice from a DataFrame\n",
      "\n",
      "See the caveats in the documentation: https://pandas.pydata.org/pandas-docs/stable/user_guide/indexing.html#returning-a-view-versus-a-copy\n",
      "  moroccan_data1.drop(columns=columns_to_remove, axis=1, inplace=True)\n",
      "C:\\Users\\pc\\AppData\\Local\\Temp\\ipykernel_23372\\190935370.py:6: SettingWithCopyWarning: \n",
      "A value is trying to be set on a copy of a slice from a DataFrame\n",
      "\n",
      "See the caveats in the documentation: https://pandas.pydata.org/pandas-docs/stable/user_guide/indexing.html#returning-a-view-versus-a-copy\n",
      "  moroccan_data2.drop(columns=columns_to_remove, axis=1, inplace=True)\n",
      "C:\\Users\\pc\\AppData\\Local\\Temp\\ipykernel_23372\\190935370.py:7: SettingWithCopyWarning: \n",
      "A value is trying to be set on a copy of a slice from a DataFrame\n",
      "\n",
      "See the caveats in the documentation: https://pandas.pydata.org/pandas-docs/stable/user_guide/indexing.html#returning-a-view-versus-a-copy\n",
      "  moroccan_data3.drop(columns=columns_to_remove, axis=1, inplace=True)\n"
     ]
    }
   ],
   "source": [
    "columns_to_remove = ['recipe_id', 'picture_link']\n",
    "data5.drop(columns=columns_to_remove, axis=1, inplace=True)\n",
    "data6.drop(columns=columns_to_remove, axis=1, inplace=True)\n",
    "data7.drop(columns=columns_to_remove, axis=1, inplace=True)\n",
    "moroccan_data1.drop(columns=columns_to_remove, axis=1, inplace=True)\n",
    "moroccan_data2.drop(columns=columns_to_remove, axis=1, inplace=True)\n",
    "moroccan_data3.drop(columns=columns_to_remove, axis=1, inplace=True)"
   ]
  },
  {
   "cell_type": "code",
   "execution_count": 21,
   "id": "3e9c6f7e-9fcc-4bac-80c1-598d0b797052",
   "metadata": {
    "tags": []
   },
   "outputs": [
    {
     "data": {
      "text/html": [
       "<div>\n",
       "<style scoped>\n",
       "    .dataframe tbody tr th:only-of-type {\n",
       "        vertical-align: middle;\n",
       "    }\n",
       "\n",
       "    .dataframe tbody tr th {\n",
       "        vertical-align: top;\n",
       "    }\n",
       "\n",
       "    .dataframe thead th {\n",
       "        text-align: right;\n",
       "    }\n",
       "</style>\n",
       "<table border=\"1\" class=\"dataframe\">\n",
       "  <thead>\n",
       "    <tr style=\"text-align: right;\">\n",
       "      <th></th>\n",
       "      <th>title</th>\n",
       "      <th>ingredients</th>\n",
       "      <th>instructions</th>\n",
       "    </tr>\n",
       "  </thead>\n",
       "  <tbody>\n",
       "    <tr>\n",
       "      <th>1598</th>\n",
       "      <td>Moroccan Lentil Soup</td>\n",
       "      <td>[2 onions, chopped ADVERTISEMENT, 2 cloves gar...</td>\n",
       "      <td>In large pot saute; the onions, garlic, and gi...</td>\n",
       "    </tr>\n",
       "    <tr>\n",
       "      <th>1939</th>\n",
       "      <td>Moroccan-Style Stuffed Acorn Squash</td>\n",
       "      <td>[2 tablespoons brown sugar ADVERTISEMENT, 1 ta...</td>\n",
       "      <td>Preheat oven to 350 degrees F (175 degrees C)....</td>\n",
       "    </tr>\n",
       "    <tr>\n",
       "      <th>1997</th>\n",
       "      <td>Moroccan Tagine</td>\n",
       "      <td>[1 tablespoon olive oil ADVERTISEMENT, 2 skinl...</td>\n",
       "      <td>Heat the olive oil in a large skillet over med...</td>\n",
       "    </tr>\n",
       "  </tbody>\n",
       "</table>\n",
       "</div>"
      ],
      "text/plain": [
       "                                    title  \\\n",
       "1598                 Moroccan Lentil Soup   \n",
       "1939  Moroccan-Style Stuffed Acorn Squash   \n",
       "1997                      Moroccan Tagine   \n",
       "\n",
       "                                            ingredients  \\\n",
       "1598  [2 onions, chopped ADVERTISEMENT, 2 cloves gar...   \n",
       "1939  [2 tablespoons brown sugar ADVERTISEMENT, 1 ta...   \n",
       "1997  [1 tablespoon olive oil ADVERTISEMENT, 2 skinl...   \n",
       "\n",
       "                                           instructions  \n",
       "1598  In large pot saute; the onions, garlic, and gi...  \n",
       "1939  Preheat oven to 350 degrees F (175 degrees C)....  \n",
       "1997  Heat the olive oil in a large skillet over med...  "
      ]
     },
     "execution_count": 21,
     "metadata": {},
     "output_type": "execute_result"
    }
   ],
   "source": [
    "moroccan_data1.head(3)"
   ]
  },
  {
   "cell_type": "code",
   "execution_count": 22,
   "id": "5f1878c2-def9-4325-8b9e-f5a0329021c6",
   "metadata": {
    "tags": []
   },
   "outputs": [],
   "source": [
    "data5.to_csv('Cleaned Data/General Data/recipes_raw1.csv', index=False)\n",
    "data6.to_csv('Cleaned Data/General Data/recipes_raw2.csv', index=False)\n",
    "data7.to_csv('Cleaned Data/General Data/recipes_raw3.csv', index=False)\n",
    "moroccan_data1.to_csv('Cleaned Data/Moroccan Data/moroccan_data1.csv', index=False)\n",
    "moroccan_data2.to_csv('Cleaned Data/Moroccan Data/moroccan_data2.csv', index=False)\n",
    "moroccan_data3.to_csv('Cleaned Data/Moroccan Data/moroccan_data3.csv', index=False)"
   ]
  },
  {
   "cell_type": "markdown",
   "id": "b0167506-20dd-405d-9e7d-1bd740734e77",
   "metadata": {},
   "source": [
    "---"
   ]
  },
  {
   "cell_type": "code",
   "execution_count": 23,
   "id": "4ebab543-a17c-4f86-bb38-b58755719002",
   "metadata": {
    "tags": []
   },
   "outputs": [
    {
     "data": {
      "text/html": [
       "<div>\n",
       "<style scoped>\n",
       "    .dataframe tbody tr th:only-of-type {\n",
       "        vertical-align: middle;\n",
       "    }\n",
       "\n",
       "    .dataframe tbody tr th {\n",
       "        vertical-align: top;\n",
       "    }\n",
       "\n",
       "    .dataframe thead th {\n",
       "        text-align: right;\n",
       "    }\n",
       "</style>\n",
       "<table border=\"1\" class=\"dataframe\">\n",
       "  <thead>\n",
       "    <tr style=\"text-align: right;\">\n",
       "      <th></th>\n",
       "      <th>name</th>\n",
       "      <th>id</th>\n",
       "      <th>minutes</th>\n",
       "      <th>contributor_id</th>\n",
       "      <th>submitted</th>\n",
       "      <th>tags</th>\n",
       "      <th>nutrition</th>\n",
       "      <th>n_steps</th>\n",
       "      <th>steps</th>\n",
       "      <th>description</th>\n",
       "      <th>ingredients</th>\n",
       "      <th>n_ingredients</th>\n",
       "    </tr>\n",
       "  </thead>\n",
       "  <tbody>\n",
       "    <tr>\n",
       "      <th>0</th>\n",
       "      <td>arriba   baked winter squash mexican style</td>\n",
       "      <td>137739</td>\n",
       "      <td>55</td>\n",
       "      <td>47892</td>\n",
       "      <td>2005-09-16</td>\n",
       "      <td>['60-minutes-or-less', 'time-to-make', 'course...</td>\n",
       "      <td>[51.5, 0.0, 13.0, 0.0, 2.0, 0.0, 4.0]</td>\n",
       "      <td>11</td>\n",
       "      <td>['make a choice and proceed with recipe', 'dep...</td>\n",
       "      <td>autumn is my favorite time of year to cook! th...</td>\n",
       "      <td>['winter squash', 'mexican seasoning', 'mixed ...</td>\n",
       "      <td>7</td>\n",
       "    </tr>\n",
       "    <tr>\n",
       "      <th>1</th>\n",
       "      <td>a bit different  breakfast pizza</td>\n",
       "      <td>31490</td>\n",
       "      <td>30</td>\n",
       "      <td>26278</td>\n",
       "      <td>2002-06-17</td>\n",
       "      <td>['30-minutes-or-less', 'time-to-make', 'course...</td>\n",
       "      <td>[173.4, 18.0, 0.0, 17.0, 22.0, 35.0, 1.0]</td>\n",
       "      <td>9</td>\n",
       "      <td>['preheat oven to 425 degrees f', 'press dough...</td>\n",
       "      <td>this recipe calls for the crust to be prebaked...</td>\n",
       "      <td>['prepared pizza crust', 'sausage patty', 'egg...</td>\n",
       "      <td>6</td>\n",
       "    </tr>\n",
       "    <tr>\n",
       "      <th>2</th>\n",
       "      <td>all in the kitchen  chili</td>\n",
       "      <td>112140</td>\n",
       "      <td>130</td>\n",
       "      <td>196586</td>\n",
       "      <td>2005-02-25</td>\n",
       "      <td>['time-to-make', 'course', 'preparation', 'mai...</td>\n",
       "      <td>[269.8, 22.0, 32.0, 48.0, 39.0, 27.0, 5.0]</td>\n",
       "      <td>6</td>\n",
       "      <td>['brown ground beef in large pot', 'add choppe...</td>\n",
       "      <td>this modified version of 'mom's' chili was a h...</td>\n",
       "      <td>['ground beef', 'yellow onions', 'diced tomato...</td>\n",
       "      <td>13</td>\n",
       "    </tr>\n",
       "  </tbody>\n",
       "</table>\n",
       "</div>"
      ],
      "text/plain": [
       "                                         name      id  minutes  \\\n",
       "0  arriba   baked winter squash mexican style  137739       55   \n",
       "1            a bit different  breakfast pizza   31490       30   \n",
       "2                   all in the kitchen  chili  112140      130   \n",
       "\n",
       "   contributor_id   submitted  \\\n",
       "0           47892  2005-09-16   \n",
       "1           26278  2002-06-17   \n",
       "2          196586  2005-02-25   \n",
       "\n",
       "                                                tags  \\\n",
       "0  ['60-minutes-or-less', 'time-to-make', 'course...   \n",
       "1  ['30-minutes-or-less', 'time-to-make', 'course...   \n",
       "2  ['time-to-make', 'course', 'preparation', 'mai...   \n",
       "\n",
       "                                    nutrition  n_steps  \\\n",
       "0       [51.5, 0.0, 13.0, 0.0, 2.0, 0.0, 4.0]       11   \n",
       "1   [173.4, 18.0, 0.0, 17.0, 22.0, 35.0, 1.0]        9   \n",
       "2  [269.8, 22.0, 32.0, 48.0, 39.0, 27.0, 5.0]        6   \n",
       "\n",
       "                                               steps  \\\n",
       "0  ['make a choice and proceed with recipe', 'dep...   \n",
       "1  ['preheat oven to 425 degrees f', 'press dough...   \n",
       "2  ['brown ground beef in large pot', 'add choppe...   \n",
       "\n",
       "                                         description  \\\n",
       "0  autumn is my favorite time of year to cook! th...   \n",
       "1  this recipe calls for the crust to be prebaked...   \n",
       "2  this modified version of 'mom's' chili was a h...   \n",
       "\n",
       "                                         ingredients  n_ingredients  \n",
       "0  ['winter squash', 'mexican seasoning', 'mixed ...              7  \n",
       "1  ['prepared pizza crust', 'sausage patty', 'egg...              6  \n",
       "2  ['ground beef', 'yellow onions', 'diced tomato...             13  "
      ]
     },
     "execution_count": 23,
     "metadata": {},
     "output_type": "execute_result"
    }
   ],
   "source": [
    "data8 = pd.read_csv('recipes datasets/RAW_recipes.csv')\n",
    "data8.head(3)"
   ]
  },
  {
   "cell_type": "code",
   "execution_count": 26,
   "id": "3bfcff75-f520-41c5-a84c-e61f2889a7a2",
   "metadata": {
    "tags": []
   },
   "outputs": [
    {
     "data": {
      "text/plain": [
       "(637, 12)"
      ]
     },
     "execution_count": 26,
     "metadata": {},
     "output_type": "execute_result"
    }
   ],
   "source": [
    "moroccan_data4 = data8[data8['name'].str.contains('Moroccan', case=False, na=False)]\n",
    "moroccan_data4.shape"
   ]
  },
  {
   "cell_type": "code",
   "execution_count": 27,
   "id": "7efb7f4b-dd09-4a46-beca-74b9f6183f20",
   "metadata": {
    "tags": []
   },
   "outputs": [
    {
     "data": {
      "text/html": [
       "<div>\n",
       "<style scoped>\n",
       "    .dataframe tbody tr th:only-of-type {\n",
       "        vertical-align: middle;\n",
       "    }\n",
       "\n",
       "    .dataframe tbody tr th {\n",
       "        vertical-align: top;\n",
       "    }\n",
       "\n",
       "    .dataframe thead th {\n",
       "        text-align: right;\n",
       "    }\n",
       "</style>\n",
       "<table border=\"1\" class=\"dataframe\">\n",
       "  <thead>\n",
       "    <tr style=\"text-align: right;\">\n",
       "      <th></th>\n",
       "      <th>name</th>\n",
       "      <th>id</th>\n",
       "      <th>minutes</th>\n",
       "      <th>contributor_id</th>\n",
       "      <th>submitted</th>\n",
       "      <th>tags</th>\n",
       "      <th>nutrition</th>\n",
       "      <th>n_steps</th>\n",
       "      <th>steps</th>\n",
       "      <th>description</th>\n",
       "      <th>ingredients</th>\n",
       "      <th>n_ingredients</th>\n",
       "    </tr>\n",
       "  </thead>\n",
       "  <tbody>\n",
       "    <tr>\n",
       "      <th>1257</th>\n",
       "      <td>3 ingredient moroccan dry rub</td>\n",
       "      <td>505748</td>\n",
       "      <td>3</td>\n",
       "      <td>65502</td>\n",
       "      <td>2013-08-12</td>\n",
       "      <td>['']</td>\n",
       "      <td>[19.7, 1.0, 0.0, 0.0, 1.0, 0.0, 1.0]</td>\n",
       "      <td>3</td>\n",
       "      <td>['mix all ingredients together', 'rub over fis...</td>\n",
       "      <td>who says that recipes have to be complicated t...</td>\n",
       "      <td>['ground cumin', 'ground coriander', 'cinnamon']</td>\n",
       "      <td>3</td>\n",
       "    </tr>\n",
       "    <tr>\n",
       "      <th>8452</th>\n",
       "      <td>argana s moroccan chicken</td>\n",
       "      <td>184915</td>\n",
       "      <td>180</td>\n",
       "      <td>145599</td>\n",
       "      <td>2006-09-06</td>\n",
       "      <td>['time-to-make', 'course', 'main-ingredient', ...</td>\n",
       "      <td>[889.2, 112.0, 19.0, 111.0, 87.0, 75.0, 4.0]</td>\n",
       "      <td>11</td>\n",
       "      <td>['in a large tagine or non-metallic cooking po...</td>\n",
       "      <td>there are a lot of moroccan chicken recipes he...</td>\n",
       "      <td>['broiler-fryer chickens', 'onions', 'minced g...</td>\n",
       "      <td>17</td>\n",
       "    </tr>\n",
       "    <tr>\n",
       "      <th>10814</th>\n",
       "      <td>authentic moroccan bread</td>\n",
       "      <td>260654</td>\n",
       "      <td>70</td>\n",
       "      <td>621626</td>\n",
       "      <td>2007-10-22</td>\n",
       "      <td>['time-to-make', 'course', 'cuisine', 'prepara...</td>\n",
       "      <td>[1285.8, 30.0, 14.0, 147.0, 70.0, 19.0, 80.0]</td>\n",
       "      <td>30</td>\n",
       "      <td>['add the sugar to 1 / 4 cup of lukewarm water...</td>\n",
       "      <td>this recipe was modified from paula wolfert's ...</td>\n",
       "      <td>['active dry yeast', 'sugar', 'unbleached flou...</td>\n",
       "      <td>9</td>\n",
       "    </tr>\n",
       "  </tbody>\n",
       "</table>\n",
       "</div>"
      ],
      "text/plain": [
       "                                name      id  minutes  contributor_id  \\\n",
       "1257   3 ingredient moroccan dry rub  505748        3           65502   \n",
       "8452       argana s moroccan chicken  184915      180          145599   \n",
       "10814       authentic moroccan bread  260654       70          621626   \n",
       "\n",
       "        submitted                                               tags  \\\n",
       "1257   2013-08-12                                               ['']   \n",
       "8452   2006-09-06  ['time-to-make', 'course', 'main-ingredient', ...   \n",
       "10814  2007-10-22  ['time-to-make', 'course', 'cuisine', 'prepara...   \n",
       "\n",
       "                                           nutrition  n_steps  \\\n",
       "1257            [19.7, 1.0, 0.0, 0.0, 1.0, 0.0, 1.0]        3   \n",
       "8452    [889.2, 112.0, 19.0, 111.0, 87.0, 75.0, 4.0]       11   \n",
       "10814  [1285.8, 30.0, 14.0, 147.0, 70.0, 19.0, 80.0]       30   \n",
       "\n",
       "                                                   steps  \\\n",
       "1257   ['mix all ingredients together', 'rub over fis...   \n",
       "8452   ['in a large tagine or non-metallic cooking po...   \n",
       "10814  ['add the sugar to 1 / 4 cup of lukewarm water...   \n",
       "\n",
       "                                             description  \\\n",
       "1257   who says that recipes have to be complicated t...   \n",
       "8452   there are a lot of moroccan chicken recipes he...   \n",
       "10814  this recipe was modified from paula wolfert's ...   \n",
       "\n",
       "                                             ingredients  n_ingredients  \n",
       "1257    ['ground cumin', 'ground coriander', 'cinnamon']              3  \n",
       "8452   ['broiler-fryer chickens', 'onions', 'minced g...             17  \n",
       "10814  ['active dry yeast', 'sugar', 'unbleached flou...              9  "
      ]
     },
     "execution_count": 27,
     "metadata": {},
     "output_type": "execute_result"
    }
   ],
   "source": [
    "moroccan_data4.head(3)"
   ]
  },
  {
   "cell_type": "code",
   "execution_count": 29,
   "id": "a9bfb6a7-9dfc-46ef-b3e3-ede053b9ed90",
   "metadata": {
    "tags": []
   },
   "outputs": [
    {
     "name": "stderr",
     "output_type": "stream",
     "text": [
      "C:\\Users\\pc\\AppData\\Local\\Temp\\ipykernel_23372\\939982282.py:3: SettingWithCopyWarning: \n",
      "A value is trying to be set on a copy of a slice from a DataFrame\n",
      "\n",
      "See the caveats in the documentation: https://pandas.pydata.org/pandas-docs/stable/user_guide/indexing.html#returning-a-view-versus-a-copy\n",
      "  moroccan_data4.drop(columns=columns_to_remove2, axis=1, inplace=True)\n"
     ]
    }
   ],
   "source": [
    "columns_to_remove2 = ['id', 'minutes', 'contributor_id', 'submitted', 'tags', 'nutrition', 'n_steps', 'n_ingredients']\n",
    "data8.drop(columns=columns_to_remove2, axis=1, inplace=True)\n",
    "moroccan_data4.drop(columns=columns_to_remove2, axis=1, inplace=True)"
   ]
  },
  {
   "cell_type": "code",
   "execution_count": 30,
   "id": "79d61652-7312-46a8-93cd-ebddf8bb5851",
   "metadata": {
    "tags": []
   },
   "outputs": [
    {
     "data": {
      "text/html": [
       "<div>\n",
       "<style scoped>\n",
       "    .dataframe tbody tr th:only-of-type {\n",
       "        vertical-align: middle;\n",
       "    }\n",
       "\n",
       "    .dataframe tbody tr th {\n",
       "        vertical-align: top;\n",
       "    }\n",
       "\n",
       "    .dataframe thead th {\n",
       "        text-align: right;\n",
       "    }\n",
       "</style>\n",
       "<table border=\"1\" class=\"dataframe\">\n",
       "  <thead>\n",
       "    <tr style=\"text-align: right;\">\n",
       "      <th></th>\n",
       "      <th>name</th>\n",
       "      <th>steps</th>\n",
       "      <th>description</th>\n",
       "      <th>ingredients</th>\n",
       "    </tr>\n",
       "  </thead>\n",
       "  <tbody>\n",
       "    <tr>\n",
       "      <th>1257</th>\n",
       "      <td>3 ingredient moroccan dry rub</td>\n",
       "      <td>['mix all ingredients together', 'rub over fis...</td>\n",
       "      <td>who says that recipes have to be complicated t...</td>\n",
       "      <td>['ground cumin', 'ground coriander', 'cinnamon']</td>\n",
       "    </tr>\n",
       "    <tr>\n",
       "      <th>8452</th>\n",
       "      <td>argana s moroccan chicken</td>\n",
       "      <td>['in a large tagine or non-metallic cooking po...</td>\n",
       "      <td>there are a lot of moroccan chicken recipes he...</td>\n",
       "      <td>['broiler-fryer chickens', 'onions', 'minced g...</td>\n",
       "    </tr>\n",
       "    <tr>\n",
       "      <th>10814</th>\n",
       "      <td>authentic moroccan bread</td>\n",
       "      <td>['add the sugar to 1 / 4 cup of lukewarm water...</td>\n",
       "      <td>this recipe was modified from paula wolfert's ...</td>\n",
       "      <td>['active dry yeast', 'sugar', 'unbleached flou...</td>\n",
       "    </tr>\n",
       "  </tbody>\n",
       "</table>\n",
       "</div>"
      ],
      "text/plain": [
       "                                name  \\\n",
       "1257   3 ingredient moroccan dry rub   \n",
       "8452       argana s moroccan chicken   \n",
       "10814       authentic moroccan bread   \n",
       "\n",
       "                                                   steps  \\\n",
       "1257   ['mix all ingredients together', 'rub over fis...   \n",
       "8452   ['in a large tagine or non-metallic cooking po...   \n",
       "10814  ['add the sugar to 1 / 4 cup of lukewarm water...   \n",
       "\n",
       "                                             description  \\\n",
       "1257   who says that recipes have to be complicated t...   \n",
       "8452   there are a lot of moroccan chicken recipes he...   \n",
       "10814  this recipe was modified from paula wolfert's ...   \n",
       "\n",
       "                                             ingredients  \n",
       "1257    ['ground cumin', 'ground coriander', 'cinnamon']  \n",
       "8452   ['broiler-fryer chickens', 'onions', 'minced g...  \n",
       "10814  ['active dry yeast', 'sugar', 'unbleached flou...  "
      ]
     },
     "execution_count": 30,
     "metadata": {},
     "output_type": "execute_result"
    }
   ],
   "source": [
    "moroccan_data4.head(3)"
   ]
  },
  {
   "cell_type": "code",
   "execution_count": 31,
   "id": "577c7a3d-702a-4ae2-8b6f-59cff33acf24",
   "metadata": {
    "tags": []
   },
   "outputs": [],
   "source": [
    "data8.to_csv('Cleaned Data/General Data/RAW_recipes.csv', index=False)\n",
    "moroccan_data4.to_csv('Cleaned Data/Moroccan Data/moroccan_data4.csv', index=False)"
   ]
  },
  {
   "cell_type": "markdown",
   "id": "b0d5c20b-371b-4e78-9eb0-0924422c5a33",
   "metadata": {},
   "source": [
    "----"
   ]
  },
  {
   "cell_type": "code",
   "execution_count": 32,
   "id": "9118b48c-3e09-494d-ab99-bcd43502ecb4",
   "metadata": {
    "tags": []
   },
   "outputs": [
    {
     "data": {
      "text/html": [
       "<div>\n",
       "<style scoped>\n",
       "    .dataframe tbody tr th:only-of-type {\n",
       "        vertical-align: middle;\n",
       "    }\n",
       "\n",
       "    .dataframe tbody tr th {\n",
       "        vertical-align: top;\n",
       "    }\n",
       "\n",
       "    .dataframe thead th {\n",
       "        text-align: right;\n",
       "    }\n",
       "</style>\n",
       "<table border=\"1\" class=\"dataframe\">\n",
       "  <thead>\n",
       "    <tr style=\"text-align: right;\">\n",
       "      <th></th>\n",
       "      <th>title</th>\n",
       "      <th>url</th>\n",
       "      <th>category</th>\n",
       "      <th>author</th>\n",
       "      <th>description</th>\n",
       "      <th>rating</th>\n",
       "      <th>rating_count</th>\n",
       "      <th>review_count</th>\n",
       "      <th>ingredients</th>\n",
       "      <th>directions</th>\n",
       "      <th>...</th>\n",
       "      <th>vitamin_k_mcg</th>\n",
       "      <th>biotin_mcg</th>\n",
       "      <th>vitamin_b12_mcg</th>\n",
       "      <th>mono_fat_g</th>\n",
       "      <th>poly_fat_g</th>\n",
       "      <th>trans_fatty_acid_g</th>\n",
       "      <th>omega_3_fatty_acid_g</th>\n",
       "      <th>omega_6_fatty_acid_g</th>\n",
       "      <th>instructions_list</th>\n",
       "      <th>image</th>\n",
       "    </tr>\n",
       "  </thead>\n",
       "  <tbody>\n",
       "    <tr>\n",
       "      <th>0</th>\n",
       "      <td>Simple Macaroni and Cheese</td>\n",
       "      <td>https://www.allrecipes.com/recipe/238691/simpl...</td>\n",
       "      <td>main-dish</td>\n",
       "      <td>g0dluvsugly</td>\n",
       "      <td>A very quick and easy fix to a tasty side-dish...</td>\n",
       "      <td>4.42</td>\n",
       "      <td>834</td>\n",
       "      <td>575</td>\n",
       "      <td>1 (8 ounce) box elbow macaroni ; ¼ cup butter ...</td>\n",
       "      <td>Bring a large pot of lightly salted water to a...</td>\n",
       "      <td>...</td>\n",
       "      <td>NaN</td>\n",
       "      <td>NaN</td>\n",
       "      <td>NaN</td>\n",
       "      <td>NaN</td>\n",
       "      <td>NaN</td>\n",
       "      <td>NaN</td>\n",
       "      <td>NaN</td>\n",
       "      <td>NaN</td>\n",
       "      <td>['Bring a large pot of lightly salted water to...</td>\n",
       "      <td>https://www.allrecipes.com/thmb/GZrTl8DBwmRuor...</td>\n",
       "    </tr>\n",
       "    <tr>\n",
       "      <th>1</th>\n",
       "      <td>Gourmet Mushroom Risotto</td>\n",
       "      <td>https://www.allrecipes.com/recipe/85389/gourme...</td>\n",
       "      <td>main-dish</td>\n",
       "      <td>Myleen Sagrado Sjödin</td>\n",
       "      <td>Authentic Italian-style risotto cooked the slo...</td>\n",
       "      <td>4.80</td>\n",
       "      <td>3388</td>\n",
       "      <td>2245</td>\n",
       "      <td>6 cups chicken broth, divided ; 3 tablespoons ...</td>\n",
       "      <td>In a saucepan, warm the broth over low heat. W...</td>\n",
       "      <td>...</td>\n",
       "      <td>NaN</td>\n",
       "      <td>NaN</td>\n",
       "      <td>NaN</td>\n",
       "      <td>NaN</td>\n",
       "      <td>NaN</td>\n",
       "      <td>NaN</td>\n",
       "      <td>NaN</td>\n",
       "      <td>NaN</td>\n",
       "      <td>['Warm broth in a saucepan over low heat.', 'M...</td>\n",
       "      <td>https://www.allrecipes.com/thmb/xCk4IEjfAYBikO...</td>\n",
       "    </tr>\n",
       "    <tr>\n",
       "      <th>2</th>\n",
       "      <td>Dessert Crepes</td>\n",
       "      <td>https://www.allrecipes.com/recipe/19037/desser...</td>\n",
       "      <td>breakfast-and-brunch</td>\n",
       "      <td>ANN57</td>\n",
       "      <td>Essential crepe recipe.  Sprinkle warm crepes ...</td>\n",
       "      <td>4.80</td>\n",
       "      <td>1156</td>\n",
       "      <td>794</td>\n",
       "      <td>4  eggs, lightly beaten ; 1 ⅓ cups milk ; 2 ta...</td>\n",
       "      <td>In large bowl, whisk together eggs, milk, melt...</td>\n",
       "      <td>...</td>\n",
       "      <td>NaN</td>\n",
       "      <td>NaN</td>\n",
       "      <td>NaN</td>\n",
       "      <td>NaN</td>\n",
       "      <td>NaN</td>\n",
       "      <td>NaN</td>\n",
       "      <td>NaN</td>\n",
       "      <td>NaN</td>\n",
       "      <td>['Whisk together eggs, milk, flour, melted but...</td>\n",
       "      <td>https://www.allrecipes.com/thmb/VwULr05JFDluPI...</td>\n",
       "    </tr>\n",
       "  </tbody>\n",
       "</table>\n",
       "<p>3 rows × 49 columns</p>\n",
       "</div>"
      ],
      "text/plain": [
       "                        title  \\\n",
       "0  Simple Macaroni and Cheese   \n",
       "1    Gourmet Mushroom Risotto   \n",
       "2              Dessert Crepes   \n",
       "\n",
       "                                                 url              category  \\\n",
       "0  https://www.allrecipes.com/recipe/238691/simpl...             main-dish   \n",
       "1  https://www.allrecipes.com/recipe/85389/gourme...             main-dish   \n",
       "2  https://www.allrecipes.com/recipe/19037/desser...  breakfast-and-brunch   \n",
       "\n",
       "                  author                                        description  \\\n",
       "0            g0dluvsugly  A very quick and easy fix to a tasty side-dish...   \n",
       "1  Myleen Sagrado Sjödin  Authentic Italian-style risotto cooked the slo...   \n",
       "2                  ANN57  Essential crepe recipe.  Sprinkle warm crepes ...   \n",
       "\n",
       "   rating  rating_count  review_count  \\\n",
       "0    4.42           834           575   \n",
       "1    4.80          3388          2245   \n",
       "2    4.80          1156           794   \n",
       "\n",
       "                                         ingredients  \\\n",
       "0  1 (8 ounce) box elbow macaroni ; ¼ cup butter ...   \n",
       "1  6 cups chicken broth, divided ; 3 tablespoons ...   \n",
       "2  4  eggs, lightly beaten ; 1 ⅓ cups milk ; 2 ta...   \n",
       "\n",
       "                                          directions  ... vitamin_k_mcg  \\\n",
       "0  Bring a large pot of lightly salted water to a...  ...           NaN   \n",
       "1  In a saucepan, warm the broth over low heat. W...  ...           NaN   \n",
       "2  In large bowl, whisk together eggs, milk, melt...  ...           NaN   \n",
       "\n",
       "  biotin_mcg vitamin_b12_mcg  mono_fat_g poly_fat_g  trans_fatty_acid_g  \\\n",
       "0        NaN             NaN         NaN        NaN                 NaN   \n",
       "1        NaN             NaN         NaN        NaN                 NaN   \n",
       "2        NaN             NaN         NaN        NaN                 NaN   \n",
       "\n",
       "   omega_3_fatty_acid_g  omega_6_fatty_acid_g  \\\n",
       "0                   NaN                   NaN   \n",
       "1                   NaN                   NaN   \n",
       "2                   NaN                   NaN   \n",
       "\n",
       "                                   instructions_list  \\\n",
       "0  ['Bring a large pot of lightly salted water to...   \n",
       "1  ['Warm broth in a saucepan over low heat.', 'M...   \n",
       "2  ['Whisk together eggs, milk, flour, melted but...   \n",
       "\n",
       "                                               image  \n",
       "0  https://www.allrecipes.com/thmb/GZrTl8DBwmRuor...  \n",
       "1  https://www.allrecipes.com/thmb/xCk4IEjfAYBikO...  \n",
       "2  https://www.allrecipes.com/thmb/VwULr05JFDluPI...  \n",
       "\n",
       "[3 rows x 49 columns]"
      ]
     },
     "execution_count": 32,
     "metadata": {},
     "output_type": "execute_result"
    }
   ],
   "source": [
    "data9 = pd.read_csv(\"hf://datasets/arya123321/recipes/recipe.csv\")\n",
    "data9.head(3)"
   ]
  },
  {
   "cell_type": "code",
   "execution_count": 33,
   "id": "352ded64-c0b6-48df-8afa-bcea5552b230",
   "metadata": {
    "tags": []
   },
   "outputs": [
    {
     "data": {
      "text/plain": [
       "(32722, 49)"
      ]
     },
     "execution_count": 33,
     "metadata": {},
     "output_type": "execute_result"
    }
   ],
   "source": [
    "data9.shape"
   ]
  },
  {
   "cell_type": "code",
   "execution_count": 34,
   "id": "08080ecc-036b-4e95-9666-00035952f684",
   "metadata": {
    "tags": []
   },
   "outputs": [
    {
     "data": {
      "text/html": [
       "<div>\n",
       "<style scoped>\n",
       "    .dataframe tbody tr th:only-of-type {\n",
       "        vertical-align: middle;\n",
       "    }\n",
       "\n",
       "    .dataframe tbody tr th {\n",
       "        vertical-align: top;\n",
       "    }\n",
       "\n",
       "    .dataframe thead th {\n",
       "        text-align: right;\n",
       "    }\n",
       "</style>\n",
       "<table border=\"1\" class=\"dataframe\">\n",
       "  <thead>\n",
       "    <tr style=\"text-align: right;\">\n",
       "      <th></th>\n",
       "      <th>title</th>\n",
       "      <th>url</th>\n",
       "      <th>category</th>\n",
       "      <th>author</th>\n",
       "      <th>description</th>\n",
       "      <th>rating</th>\n",
       "      <th>rating_count</th>\n",
       "      <th>review_count</th>\n",
       "      <th>ingredients</th>\n",
       "      <th>directions</th>\n",
       "      <th>...</th>\n",
       "      <th>vitamin_k_mcg</th>\n",
       "      <th>biotin_mcg</th>\n",
       "      <th>vitamin_b12_mcg</th>\n",
       "      <th>mono_fat_g</th>\n",
       "      <th>poly_fat_g</th>\n",
       "      <th>trans_fatty_acid_g</th>\n",
       "      <th>omega_3_fatty_acid_g</th>\n",
       "      <th>omega_6_fatty_acid_g</th>\n",
       "      <th>instructions_list</th>\n",
       "      <th>image</th>\n",
       "    </tr>\n",
       "  </thead>\n",
       "  <tbody>\n",
       "    <tr>\n",
       "      <th>1069</th>\n",
       "      <td>Lamb Tagine</td>\n",
       "      <td>https://www.allrecipes.com/recipe/105044/lamb-...</td>\n",
       "      <td>world-cuisine</td>\n",
       "      <td>BenevolentEmpress</td>\n",
       "      <td>When I made this dish I left the kitchen windo...</td>\n",
       "      <td>4.69</td>\n",
       "      <td>361</td>\n",
       "      <td>257</td>\n",
       "      <td>3 tablespoons olive oil, divided ; 2 pounds la...</td>\n",
       "      <td>Place diced lamb in a bowl, toss with 2 tables...</td>\n",
       "      <td>...</td>\n",
       "      <td>NaN</td>\n",
       "      <td>NaN</td>\n",
       "      <td>NaN</td>\n",
       "      <td>NaN</td>\n",
       "      <td>NaN</td>\n",
       "      <td>NaN</td>\n",
       "      <td>NaN</td>\n",
       "      <td>NaN</td>\n",
       "      <td>['Place lamb and 2 tablespoons olive oil in a ...</td>\n",
       "      <td>https://www.allrecipes.com/thmb/TmNgxf_ERn5B1L...</td>\n",
       "    </tr>\n",
       "    <tr>\n",
       "      <th>2535</th>\n",
       "      <td>Ras el Hanout</td>\n",
       "      <td>https://www.allrecipes.com/recipe/150574/ras-e...</td>\n",
       "      <td>world-cuisine</td>\n",
       "      <td>NATHALIE1</td>\n",
       "      <td>This spice mix is often called for in many Mor...</td>\n",
       "      <td>4.76</td>\n",
       "      <td>38</td>\n",
       "      <td>25</td>\n",
       "      <td>1 teaspoon salt ; 1 teaspoon ground cumin ; 1 ...</td>\n",
       "      <td>Mix salt, cumin, ginger, turmeric, cinnamon, b...</td>\n",
       "      <td>...</td>\n",
       "      <td>NaN</td>\n",
       "      <td>NaN</td>\n",
       "      <td>NaN</td>\n",
       "      <td>NaN</td>\n",
       "      <td>NaN</td>\n",
       "      <td>NaN</td>\n",
       "      <td>NaN</td>\n",
       "      <td>NaN</td>\n",
       "      <td>['Mix salt, cumin, ginger, turmeric, cinnamon,...</td>\n",
       "      <td>https://www.allrecipes.com/thmb/qCcyxydtjANord...</td>\n",
       "    </tr>\n",
       "    <tr>\n",
       "      <th>4036</th>\n",
       "      <td>Make-Ahead Vegetarian Moroccan Stew</td>\n",
       "      <td>https://www.allrecipes.com/recipe/217109/make-...</td>\n",
       "      <td>soups-stews-and-chili</td>\n",
       "      <td>Make-Ahead Mamas</td>\n",
       "      <td>This delicious, healthy North African-inspired...</td>\n",
       "      <td>4.59</td>\n",
       "      <td>342</td>\n",
       "      <td>241</td>\n",
       "      <td>1 teaspoon ground cinnamon ; 1 teaspoon ground...</td>\n",
       "      <td>Combine cinnamon, cumin, salt, ginger, cloves,...</td>\n",
       "      <td>...</td>\n",
       "      <td>NaN</td>\n",
       "      <td>NaN</td>\n",
       "      <td>NaN</td>\n",
       "      <td>NaN</td>\n",
       "      <td>NaN</td>\n",
       "      <td>NaN</td>\n",
       "      <td>NaN</td>\n",
       "      <td>NaN</td>\n",
       "      <td>['Combine cinnamon, cumin, salt, ginger, clove...</td>\n",
       "      <td>https://www.allrecipes.com/thmb/rWD6ADwQrIC_dz...</td>\n",
       "    </tr>\n",
       "  </tbody>\n",
       "</table>\n",
       "<p>3 rows × 49 columns</p>\n",
       "</div>"
      ],
      "text/plain": [
       "                                    title  \\\n",
       "1069                          Lamb Tagine   \n",
       "2535                        Ras el Hanout   \n",
       "4036  Make-Ahead Vegetarian Moroccan Stew   \n",
       "\n",
       "                                                    url  \\\n",
       "1069  https://www.allrecipes.com/recipe/105044/lamb-...   \n",
       "2535  https://www.allrecipes.com/recipe/150574/ras-e...   \n",
       "4036  https://www.allrecipes.com/recipe/217109/make-...   \n",
       "\n",
       "                   category             author  \\\n",
       "1069          world-cuisine  BenevolentEmpress   \n",
       "2535          world-cuisine          NATHALIE1   \n",
       "4036  soups-stews-and-chili   Make-Ahead Mamas   \n",
       "\n",
       "                                            description  rating  rating_count  \\\n",
       "1069  When I made this dish I left the kitchen windo...    4.69           361   \n",
       "2535  This spice mix is often called for in many Mor...    4.76            38   \n",
       "4036  This delicious, healthy North African-inspired...    4.59           342   \n",
       "\n",
       "      review_count                                        ingredients  \\\n",
       "1069           257  3 tablespoons olive oil, divided ; 2 pounds la...   \n",
       "2535            25  1 teaspoon salt ; 1 teaspoon ground cumin ; 1 ...   \n",
       "4036           241  1 teaspoon ground cinnamon ; 1 teaspoon ground...   \n",
       "\n",
       "                                             directions  ... vitamin_k_mcg  \\\n",
       "1069  Place diced lamb in a bowl, toss with 2 tables...  ...           NaN   \n",
       "2535  Mix salt, cumin, ginger, turmeric, cinnamon, b...  ...           NaN   \n",
       "4036  Combine cinnamon, cumin, salt, ginger, cloves,...  ...           NaN   \n",
       "\n",
       "     biotin_mcg vitamin_b12_mcg  mono_fat_g poly_fat_g  trans_fatty_acid_g  \\\n",
       "1069        NaN             NaN         NaN        NaN                 NaN   \n",
       "2535        NaN             NaN         NaN        NaN                 NaN   \n",
       "4036        NaN             NaN         NaN        NaN                 NaN   \n",
       "\n",
       "      omega_3_fatty_acid_g  omega_6_fatty_acid_g  \\\n",
       "1069                   NaN                   NaN   \n",
       "2535                   NaN                   NaN   \n",
       "4036                   NaN                   NaN   \n",
       "\n",
       "                                      instructions_list  \\\n",
       "1069  ['Place lamb and 2 tablespoons olive oil in a ...   \n",
       "2535  ['Mix salt, cumin, ginger, turmeric, cinnamon,...   \n",
       "4036  ['Combine cinnamon, cumin, salt, ginger, clove...   \n",
       "\n",
       "                                                  image  \n",
       "1069  https://www.allrecipes.com/thmb/TmNgxf_ERn5B1L...  \n",
       "2535  https://www.allrecipes.com/thmb/qCcyxydtjANord...  \n",
       "4036  https://www.allrecipes.com/thmb/rWD6ADwQrIC_dz...  \n",
       "\n",
       "[3 rows x 49 columns]"
      ]
     },
     "execution_count": 34,
     "metadata": {},
     "output_type": "execute_result"
    }
   ],
   "source": [
    "moroccan_data9 = data9[\n",
    "    (data9['title'].str.contains('Moroccan', case=False, na=False)) | \n",
    "    (data9['description'].str.contains('Moroccan', case=False, na=False))\n",
    "]\n",
    "moroccan_data9.head(3)"
   ]
  },
  {
   "cell_type": "code",
   "execution_count": 35,
   "id": "f80a1962-9381-422f-9c10-08e018f224e8",
   "metadata": {
    "tags": []
   },
   "outputs": [
    {
     "data": {
      "text/plain": [
       "Index(['title', 'url', 'category', 'author', 'description', 'rating',\n",
       "       'rating_count', 'review_count', 'ingredients', 'directions',\n",
       "       'prep_time', 'cook_time', 'total_time', 'servings', 'yields',\n",
       "       'calories', 'carbohydrates_g', 'sugars_g', 'fat_g', 'saturated_fat_g',\n",
       "       'cholesterol_mg', 'protein_g', 'dietary_fiber_g', 'sodium_mg',\n",
       "       'calories_from_fat', 'calcium_mg', 'iron_mg', 'magnesium_mg',\n",
       "       'potassium_mg', 'zinc_mg', 'phosphorus_mg', 'vitamin_a_iu_IU',\n",
       "       'niacin_equivalents_mg', 'vitamin_b6_mg', 'vitamin_c_mg', 'folate_mcg',\n",
       "       'thiamin_mg', 'riboflavin_mg', 'vitamin_e_iu_IU', 'vitamin_k_mcg',\n",
       "       'biotin_mcg', 'vitamin_b12_mcg', 'mono_fat_g', 'poly_fat_g',\n",
       "       'trans_fatty_acid_g', 'omega_3_fatty_acid_g', 'omega_6_fatty_acid_g',\n",
       "       'instructions_list', 'image'],\n",
       "      dtype='object')"
      ]
     },
     "execution_count": 35,
     "metadata": {},
     "output_type": "execute_result"
    }
   ],
   "source": [
    "moroccan_data9.columns"
   ]
  },
  {
   "cell_type": "code",
   "execution_count": 36,
   "id": "78f0ed42-559d-41dc-b057-3501786c616c",
   "metadata": {
    "tags": []
   },
   "outputs": [
    {
     "name": "stderr",
     "output_type": "stream",
     "text": [
      "C:\\Users\\pc\\AppData\\Local\\Temp\\ipykernel_23372\\1618551836.py:11: SettingWithCopyWarning: \n",
      "A value is trying to be set on a copy of a slice from a DataFrame\n",
      "\n",
      "See the caveats in the documentation: https://pandas.pydata.org/pandas-docs/stable/user_guide/indexing.html#returning-a-view-versus-a-copy\n",
      "  moroccan_data9.drop(columns=columns_to_remove3, axis=1, inplace=True)\n"
     ]
    },
    {
     "data": {
      "text/plain": [
       "Index(['title', 'description', 'ingredients', 'directions', 'total_time',\n",
       "       'instructions_list'],\n",
       "      dtype='object')"
      ]
     },
     "execution_count": 36,
     "metadata": {},
     "output_type": "execute_result"
    }
   ],
   "source": [
    "columns_to_remove3 = ['url', 'category', 'author', 'rating',\n",
    "       'rating_count', 'review_count', 'prep_time', 'cook_time', 'servings', 'yields',\n",
    "       'calories', 'carbohydrates_g', 'sugars_g', 'fat_g', 'saturated_fat_g',\n",
    "       'cholesterol_mg', 'protein_g', 'dietary_fiber_g', 'sodium_mg',\n",
    "       'calories_from_fat', 'calcium_mg', 'iron_mg', 'magnesium_mg',\n",
    "       'potassium_mg', 'zinc_mg', 'phosphorus_mg', 'vitamin_a_iu_IU',\n",
    "       'niacin_equivalents_mg', 'vitamin_b6_mg', 'vitamin_c_mg', 'folate_mcg',\n",
    "       'thiamin_mg', 'riboflavin_mg', 'vitamin_e_iu_IU', 'vitamin_k_mcg',\n",
    "       'biotin_mcg', 'vitamin_b12_mcg', 'mono_fat_g', 'poly_fat_g',\n",
    "       'trans_fatty_acid_g', 'omega_3_fatty_acid_g', 'omega_6_fatty_acid_g', 'image']\n",
    "moroccan_data9.drop(columns=columns_to_remove3, axis=1, inplace=True)\n",
    "moroccan_data9.columns"
   ]
  },
  {
   "cell_type": "code",
   "execution_count": 37,
   "id": "be131dbc-27b3-46ee-9508-33e8f7fa21f7",
   "metadata": {
    "tags": []
   },
   "outputs": [
    {
     "data": {
      "text/html": [
       "<div>\n",
       "<style scoped>\n",
       "    .dataframe tbody tr th:only-of-type {\n",
       "        vertical-align: middle;\n",
       "    }\n",
       "\n",
       "    .dataframe tbody tr th {\n",
       "        vertical-align: top;\n",
       "    }\n",
       "\n",
       "    .dataframe thead th {\n",
       "        text-align: right;\n",
       "    }\n",
       "</style>\n",
       "<table border=\"1\" class=\"dataframe\">\n",
       "  <thead>\n",
       "    <tr style=\"text-align: right;\">\n",
       "      <th></th>\n",
       "      <th>title</th>\n",
       "      <th>description</th>\n",
       "      <th>ingredients</th>\n",
       "      <th>directions</th>\n",
       "      <th>total_time</th>\n",
       "      <th>instructions_list</th>\n",
       "    </tr>\n",
       "  </thead>\n",
       "  <tbody>\n",
       "    <tr>\n",
       "      <th>1069</th>\n",
       "      <td>Lamb Tagine</td>\n",
       "      <td>When I made this dish I left the kitchen windo...</td>\n",
       "      <td>3 tablespoons olive oil, divided ; 2 pounds la...</td>\n",
       "      <td>Place diced lamb in a bowl, toss with 2 tables...</td>\n",
       "      <td>10 hrs 45 mins</td>\n",
       "      <td>['Place lamb and 2 tablespoons olive oil in a ...</td>\n",
       "    </tr>\n",
       "    <tr>\n",
       "      <th>2535</th>\n",
       "      <td>Ras el Hanout</td>\n",
       "      <td>This spice mix is often called for in many Mor...</td>\n",
       "      <td>1 teaspoon salt ; 1 teaspoon ground cumin ; 1 ...</td>\n",
       "      <td>Mix salt, cumin, ginger, turmeric, cinnamon, b...</td>\n",
       "      <td>5 mins</td>\n",
       "      <td>['Mix salt, cumin, ginger, turmeric, cinnamon,...</td>\n",
       "    </tr>\n",
       "    <tr>\n",
       "      <th>4036</th>\n",
       "      <td>Make-Ahead Vegetarian Moroccan Stew</td>\n",
       "      <td>This delicious, healthy North African-inspired...</td>\n",
       "      <td>1 teaspoon ground cinnamon ; 1 teaspoon ground...</td>\n",
       "      <td>Combine cinnamon, cumin, salt, ginger, cloves,...</td>\n",
       "      <td>1 hr 10 mins</td>\n",
       "      <td>['Combine cinnamon, cumin, salt, ginger, clove...</td>\n",
       "    </tr>\n",
       "    <tr>\n",
       "      <th>4268</th>\n",
       "      <td>Cucumber Raita</td>\n",
       "      <td>Serve this cool, refreshing salad with my Lamb...</td>\n",
       "      <td>2  hot house cucumber - peeled, seeded and thi...</td>\n",
       "      <td>Stir together the cucumber, yogurt, lemon juic...</td>\n",
       "      <td>3 hrs 15 mins</td>\n",
       "      <td>['Stir together the cucumber, yogurt, lemon ju...</td>\n",
       "    </tr>\n",
       "    <tr>\n",
       "      <th>4390</th>\n",
       "      <td>Moroccan Chicken</td>\n",
       "      <td>Spices, spices, spices! This recipe is thick w...</td>\n",
       "      <td>1 pound skinless, boneless chicken breast meat...</td>\n",
       "      <td>Season chicken with salt and brown in a large ...</td>\n",
       "      <td>45 mins</td>\n",
       "      <td>['Season chicken with salt and brown in a larg...</td>\n",
       "    </tr>\n",
       "  </tbody>\n",
       "</table>\n",
       "</div>"
      ],
      "text/plain": [
       "                                    title  \\\n",
       "1069                          Lamb Tagine   \n",
       "2535                        Ras el Hanout   \n",
       "4036  Make-Ahead Vegetarian Moroccan Stew   \n",
       "4268                       Cucumber Raita   \n",
       "4390                     Moroccan Chicken   \n",
       "\n",
       "                                            description  \\\n",
       "1069  When I made this dish I left the kitchen windo...   \n",
       "2535  This spice mix is often called for in many Mor...   \n",
       "4036  This delicious, healthy North African-inspired...   \n",
       "4268  Serve this cool, refreshing salad with my Lamb...   \n",
       "4390  Spices, spices, spices! This recipe is thick w...   \n",
       "\n",
       "                                            ingredients  \\\n",
       "1069  3 tablespoons olive oil, divided ; 2 pounds la...   \n",
       "2535  1 teaspoon salt ; 1 teaspoon ground cumin ; 1 ...   \n",
       "4036  1 teaspoon ground cinnamon ; 1 teaspoon ground...   \n",
       "4268  2  hot house cucumber - peeled, seeded and thi...   \n",
       "4390  1 pound skinless, boneless chicken breast meat...   \n",
       "\n",
       "                                             directions      total_time  \\\n",
       "1069  Place diced lamb in a bowl, toss with 2 tables...  10 hrs 45 mins   \n",
       "2535  Mix salt, cumin, ginger, turmeric, cinnamon, b...          5 mins   \n",
       "4036  Combine cinnamon, cumin, salt, ginger, cloves,...    1 hr 10 mins   \n",
       "4268  Stir together the cucumber, yogurt, lemon juic...   3 hrs 15 mins   \n",
       "4390  Season chicken with salt and brown in a large ...         45 mins   \n",
       "\n",
       "                                      instructions_list  \n",
       "1069  ['Place lamb and 2 tablespoons olive oil in a ...  \n",
       "2535  ['Mix salt, cumin, ginger, turmeric, cinnamon,...  \n",
       "4036  ['Combine cinnamon, cumin, salt, ginger, clove...  \n",
       "4268  ['Stir together the cucumber, yogurt, lemon ju...  \n",
       "4390  ['Season chicken with salt and brown in a larg...  "
      ]
     },
     "execution_count": 37,
     "metadata": {},
     "output_type": "execute_result"
    }
   ],
   "source": [
    "moroccan_data9.head()"
   ]
  },
  {
   "cell_type": "code",
   "execution_count": 48,
   "id": "424bd933-92f8-4627-ace4-97330e6ec4bb",
   "metadata": {
    "tags": []
   },
   "outputs": [
    {
     "data": {
      "text/plain": [
       "(54, 6)"
      ]
     },
     "execution_count": 48,
     "metadata": {},
     "output_type": "execute_result"
    }
   ],
   "source": [
    "moroccan_data9.shape"
   ]
  },
  {
   "cell_type": "code",
   "execution_count": 38,
   "id": "bff46305-a092-4cdf-93e8-ff44a6439c0c",
   "metadata": {
    "tags": []
   },
   "outputs": [],
   "source": [
    "moroccan_data9.to_csv('Cleaned Data/Moroccan Data/moroccan_data5.csv', index=False)"
   ]
  },
  {
   "cell_type": "markdown",
   "id": "4d0a1a3b-e00a-4793-a650-e3f47a35936f",
   "metadata": {},
   "source": [
    "----------"
   ]
  },
  {
   "cell_type": "code",
   "execution_count": 39,
   "id": "049066ca-9790-4e31-bc52-f2574a4fe329",
   "metadata": {
    "tags": []
   },
   "outputs": [
    {
     "data": {
      "text/html": [
       "<div>\n",
       "<style scoped>\n",
       "    .dataframe tbody tr th:only-of-type {\n",
       "        vertical-align: middle;\n",
       "    }\n",
       "\n",
       "    .dataframe tbody tr th {\n",
       "        vertical-align: top;\n",
       "    }\n",
       "\n",
       "    .dataframe thead th {\n",
       "        text-align: right;\n",
       "    }\n",
       "</style>\n",
       "<table border=\"1\" class=\"dataframe\">\n",
       "  <thead>\n",
       "    <tr style=\"text-align: right;\">\n",
       "      <th></th>\n",
       "      <th>name</th>\n",
       "      <th>id</th>\n",
       "      <th>minutes</th>\n",
       "      <th>contributor_id</th>\n",
       "      <th>submitted</th>\n",
       "      <th>tags</th>\n",
       "      <th>nutrition</th>\n",
       "      <th>n_steps</th>\n",
       "      <th>steps</th>\n",
       "      <th>description</th>\n",
       "      <th>ingredients</th>\n",
       "      <th>n_ingredients</th>\n",
       "    </tr>\n",
       "  </thead>\n",
       "  <tbody>\n",
       "    <tr>\n",
       "      <th>0</th>\n",
       "      <td>arriba   baked winter squash mexican style</td>\n",
       "      <td>137739</td>\n",
       "      <td>55</td>\n",
       "      <td>47892</td>\n",
       "      <td>2005-09-16</td>\n",
       "      <td>['60-minutes-or-less', 'time-to-make', 'course...</td>\n",
       "      <td>[51.5, 0.0, 13.0, 0.0, 2.0, 0.0, 4.0]</td>\n",
       "      <td>11</td>\n",
       "      <td>['make a choice and proceed with recipe', 'dep...</td>\n",
       "      <td>autumn is my favorite time of year to cook! th...</td>\n",
       "      <td>['winter squash', 'mexican seasoning', 'mixed ...</td>\n",
       "      <td>7</td>\n",
       "    </tr>\n",
       "    <tr>\n",
       "      <th>1</th>\n",
       "      <td>a bit different  breakfast pizza</td>\n",
       "      <td>31490</td>\n",
       "      <td>30</td>\n",
       "      <td>26278</td>\n",
       "      <td>2002-06-17</td>\n",
       "      <td>['30-minutes-or-less', 'time-to-make', 'course...</td>\n",
       "      <td>[173.4, 18.0, 0.0, 17.0, 22.0, 35.0, 1.0]</td>\n",
       "      <td>9</td>\n",
       "      <td>['preheat oven to 425 degrees f', 'press dough...</td>\n",
       "      <td>this recipe calls for the crust to be prebaked...</td>\n",
       "      <td>['prepared pizza crust', 'sausage patty', 'egg...</td>\n",
       "      <td>6</td>\n",
       "    </tr>\n",
       "    <tr>\n",
       "      <th>2</th>\n",
       "      <td>all in the kitchen  chili</td>\n",
       "      <td>112140</td>\n",
       "      <td>130</td>\n",
       "      <td>196586</td>\n",
       "      <td>2005-02-25</td>\n",
       "      <td>['time-to-make', 'course', 'preparation', 'mai...</td>\n",
       "      <td>[269.8, 22.0, 32.0, 48.0, 39.0, 27.0, 5.0]</td>\n",
       "      <td>6</td>\n",
       "      <td>['brown ground beef in large pot', 'add choppe...</td>\n",
       "      <td>this modified version of 'mom's' chili was a h...</td>\n",
       "      <td>['ground beef', 'yellow onions', 'diced tomato...</td>\n",
       "      <td>13</td>\n",
       "    </tr>\n",
       "  </tbody>\n",
       "</table>\n",
       "</div>"
      ],
      "text/plain": [
       "                                         name      id  minutes  \\\n",
       "0  arriba   baked winter squash mexican style  137739       55   \n",
       "1            a bit different  breakfast pizza   31490       30   \n",
       "2                   all in the kitchen  chili  112140      130   \n",
       "\n",
       "   contributor_id   submitted  \\\n",
       "0           47892  2005-09-16   \n",
       "1           26278  2002-06-17   \n",
       "2          196586  2005-02-25   \n",
       "\n",
       "                                                tags  \\\n",
       "0  ['60-minutes-or-less', 'time-to-make', 'course...   \n",
       "1  ['30-minutes-or-less', 'time-to-make', 'course...   \n",
       "2  ['time-to-make', 'course', 'preparation', 'mai...   \n",
       "\n",
       "                                    nutrition  n_steps  \\\n",
       "0       [51.5, 0.0, 13.0, 0.0, 2.0, 0.0, 4.0]       11   \n",
       "1   [173.4, 18.0, 0.0, 17.0, 22.0, 35.0, 1.0]        9   \n",
       "2  [269.8, 22.0, 32.0, 48.0, 39.0, 27.0, 5.0]        6   \n",
       "\n",
       "                                               steps  \\\n",
       "0  ['make a choice and proceed with recipe', 'dep...   \n",
       "1  ['preheat oven to 425 degrees f', 'press dough...   \n",
       "2  ['brown ground beef in large pot', 'add choppe...   \n",
       "\n",
       "                                         description  \\\n",
       "0  autumn is my favorite time of year to cook! th...   \n",
       "1  this recipe calls for the crust to be prebaked...   \n",
       "2  this modified version of 'mom's' chili was a h...   \n",
       "\n",
       "                                         ingredients  n_ingredients  \n",
       "0  ['winter squash', 'mexican seasoning', 'mixed ...              7  \n",
       "1  ['prepared pizza crust', 'sausage patty', 'egg...              6  \n",
       "2  ['ground beef', 'yellow onions', 'diced tomato...             13  "
      ]
     },
     "execution_count": 39,
     "metadata": {},
     "output_type": "execute_result"
    }
   ],
   "source": [
    "data10 = pd.read_parquet(\"hf://datasets/jojogo9/Food_Recipes/food_recipes.parquet\")\n",
    "data10.head(3)"
   ]
  },
  {
   "cell_type": "code",
   "execution_count": 40,
   "id": "a2e5b6fa-43c2-4711-83df-5107aa341ab2",
   "metadata": {
    "tags": []
   },
   "outputs": [
    {
     "data": {
      "text/plain": [
       "(231637, 12)"
      ]
     },
     "execution_count": 40,
     "metadata": {},
     "output_type": "execute_result"
    }
   ],
   "source": [
    "data10.shape"
   ]
  },
  {
   "cell_type": "code",
   "execution_count": 41,
   "id": "30be8d3c-b233-412e-b5e4-9c1380655aab",
   "metadata": {
    "tags": []
   },
   "outputs": [
    {
     "data": {
      "text/html": [
       "<div>\n",
       "<style scoped>\n",
       "    .dataframe tbody tr th:only-of-type {\n",
       "        vertical-align: middle;\n",
       "    }\n",
       "\n",
       "    .dataframe tbody tr th {\n",
       "        vertical-align: top;\n",
       "    }\n",
       "\n",
       "    .dataframe thead th {\n",
       "        text-align: right;\n",
       "    }\n",
       "</style>\n",
       "<table border=\"1\" class=\"dataframe\">\n",
       "  <thead>\n",
       "    <tr style=\"text-align: right;\">\n",
       "      <th></th>\n",
       "      <th>name</th>\n",
       "      <th>id</th>\n",
       "      <th>minutes</th>\n",
       "      <th>contributor_id</th>\n",
       "      <th>submitted</th>\n",
       "      <th>tags</th>\n",
       "      <th>nutrition</th>\n",
       "      <th>n_steps</th>\n",
       "      <th>steps</th>\n",
       "      <th>description</th>\n",
       "      <th>ingredients</th>\n",
       "      <th>n_ingredients</th>\n",
       "    </tr>\n",
       "  </thead>\n",
       "  <tbody>\n",
       "    <tr>\n",
       "      <th>1257</th>\n",
       "      <td>3 ingredient moroccan dry rub</td>\n",
       "      <td>505748</td>\n",
       "      <td>3</td>\n",
       "      <td>65502</td>\n",
       "      <td>2013-08-12</td>\n",
       "      <td>['']</td>\n",
       "      <td>[19.7, 1.0, 0.0, 0.0, 1.0, 0.0, 1.0]</td>\n",
       "      <td>3</td>\n",
       "      <td>['mix all ingredients together', 'rub over fis...</td>\n",
       "      <td>who says that recipes have to be complicated t...</td>\n",
       "      <td>['ground cumin', 'ground coriander', 'cinnamon']</td>\n",
       "      <td>3</td>\n",
       "    </tr>\n",
       "    <tr>\n",
       "      <th>2105</th>\n",
       "      <td>a very good tagine tajine  vegetarian</td>\n",
       "      <td>269669</td>\n",
       "      <td>80</td>\n",
       "      <td>221209</td>\n",
       "      <td>2007-12-03</td>\n",
       "      <td>['time-to-make', 'course', 'main-ingredient', ...</td>\n",
       "      <td>[280.7, 2.0, 74.0, 20.0, 18.0, 1.0, 20.0]</td>\n",
       "      <td>3</td>\n",
       "      <td>['chop the onions , mushrooms , cherry tomatoe...</td>\n",
       "      <td>this healthy moroccan tagine is delicious, wit...</td>\n",
       "      <td>['onion', 'mushrooms', 'sweet potatoes', 'cann...</td>\n",
       "      <td>15</td>\n",
       "    </tr>\n",
       "    <tr>\n",
       "      <th>3568</th>\n",
       "      <td>almond blackberry tart</td>\n",
       "      <td>504333</td>\n",
       "      <td>30</td>\n",
       "      <td>114027</td>\n",
       "      <td>2013-07-19</td>\n",
       "      <td>['30-minutes-or-less', 'time-to-make', 'course...</td>\n",
       "      <td>[260.6, 25.0, 76.0, 4.0, 13.0, 24.0, 8.0]</td>\n",
       "      <td>6</td>\n",
       "      <td>['preheat the oven to 350 degrees fahrenheit',...</td>\n",
       "      <td>found online in a moroccan journal. a yummy al...</td>\n",
       "      <td>['blackberry', 'almond meal', 'all-purpose flo...</td>\n",
       "      <td>9</td>\n",
       "    </tr>\n",
       "  </tbody>\n",
       "</table>\n",
       "</div>"
      ],
      "text/plain": [
       "                                       name      id  minutes  contributor_id  \\\n",
       "1257          3 ingredient moroccan dry rub  505748        3           65502   \n",
       "2105  a very good tagine tajine  vegetarian  269669       80          221209   \n",
       "3568                 almond blackberry tart  504333       30          114027   \n",
       "\n",
       "       submitted                                               tags  \\\n",
       "1257  2013-08-12                                               ['']   \n",
       "2105  2007-12-03  ['time-to-make', 'course', 'main-ingredient', ...   \n",
       "3568  2013-07-19  ['30-minutes-or-less', 'time-to-make', 'course...   \n",
       "\n",
       "                                      nutrition  n_steps  \\\n",
       "1257       [19.7, 1.0, 0.0, 0.0, 1.0, 0.0, 1.0]        3   \n",
       "2105  [280.7, 2.0, 74.0, 20.0, 18.0, 1.0, 20.0]        3   \n",
       "3568  [260.6, 25.0, 76.0, 4.0, 13.0, 24.0, 8.0]        6   \n",
       "\n",
       "                                                  steps  \\\n",
       "1257  ['mix all ingredients together', 'rub over fis...   \n",
       "2105  ['chop the onions , mushrooms , cherry tomatoe...   \n",
       "3568  ['preheat the oven to 350 degrees fahrenheit',...   \n",
       "\n",
       "                                            description  \\\n",
       "1257  who says that recipes have to be complicated t...   \n",
       "2105  this healthy moroccan tagine is delicious, wit...   \n",
       "3568  found online in a moroccan journal. a yummy al...   \n",
       "\n",
       "                                            ingredients  n_ingredients  \n",
       "1257   ['ground cumin', 'ground coriander', 'cinnamon']              3  \n",
       "2105  ['onion', 'mushrooms', 'sweet potatoes', 'cann...             15  \n",
       "3568  ['blackberry', 'almond meal', 'all-purpose flo...              9  "
      ]
     },
     "execution_count": 41,
     "metadata": {},
     "output_type": "execute_result"
    }
   ],
   "source": [
    "moroccan_data10 = data10[\n",
    "    (data10['name'].str.contains('Moroccan', case=False, na=False)) | \n",
    "    (data10['description'].str.contains('Moroccan', case=False, na=False))\n",
    "]\n",
    "moroccan_data10.head(3)"
   ]
  },
  {
   "cell_type": "code",
   "execution_count": 42,
   "id": "f5bb6106-8839-4389-abcd-b3b7ff9c1d6d",
   "metadata": {
    "tags": []
   },
   "outputs": [
    {
     "data": {
      "text/plain": [
       "(827, 12)"
      ]
     },
     "execution_count": 42,
     "metadata": {},
     "output_type": "execute_result"
    }
   ],
   "source": [
    "moroccan_data10.shape"
   ]
  },
  {
   "cell_type": "code",
   "execution_count": 43,
   "id": "0a34ac3e-eb71-44e3-ae6b-c81d70c46f0a",
   "metadata": {
    "tags": []
   },
   "outputs": [
    {
     "data": {
      "text/plain": [
       "Index(['name', 'id', 'minutes', 'contributor_id', 'submitted', 'tags',\n",
       "       'nutrition', 'n_steps', 'steps', 'description', 'ingredients',\n",
       "       'n_ingredients'],\n",
       "      dtype='object')"
      ]
     },
     "execution_count": 43,
     "metadata": {},
     "output_type": "execute_result"
    }
   ],
   "source": [
    "moroccan_data10.columns"
   ]
  },
  {
   "cell_type": "code",
   "execution_count": 44,
   "id": "935de47a-d2ea-47e5-9e04-e21e12546fab",
   "metadata": {
    "tags": []
   },
   "outputs": [
    {
     "name": "stderr",
     "output_type": "stream",
     "text": [
      "C:\\Users\\pc\\AppData\\Local\\Temp\\ipykernel_23372\\486504127.py:2: SettingWithCopyWarning: \n",
      "A value is trying to be set on a copy of a slice from a DataFrame\n",
      "\n",
      "See the caveats in the documentation: https://pandas.pydata.org/pandas-docs/stable/user_guide/indexing.html#returning-a-view-versus-a-copy\n",
      "  moroccan_data10.drop(columns=columns_to_remove4, axis=1, inplace=True)\n"
     ]
    },
    {
     "data": {
      "text/html": [
       "<div>\n",
       "<style scoped>\n",
       "    .dataframe tbody tr th:only-of-type {\n",
       "        vertical-align: middle;\n",
       "    }\n",
       "\n",
       "    .dataframe tbody tr th {\n",
       "        vertical-align: top;\n",
       "    }\n",
       "\n",
       "    .dataframe thead th {\n",
       "        text-align: right;\n",
       "    }\n",
       "</style>\n",
       "<table border=\"1\" class=\"dataframe\">\n",
       "  <thead>\n",
       "    <tr style=\"text-align: right;\">\n",
       "      <th></th>\n",
       "      <th>name</th>\n",
       "      <th>minutes</th>\n",
       "      <th>steps</th>\n",
       "      <th>description</th>\n",
       "      <th>ingredients</th>\n",
       "    </tr>\n",
       "  </thead>\n",
       "  <tbody>\n",
       "    <tr>\n",
       "      <th>1257</th>\n",
       "      <td>3 ingredient moroccan dry rub</td>\n",
       "      <td>3</td>\n",
       "      <td>['mix all ingredients together', 'rub over fis...</td>\n",
       "      <td>who says that recipes have to be complicated t...</td>\n",
       "      <td>['ground cumin', 'ground coriander', 'cinnamon']</td>\n",
       "    </tr>\n",
       "    <tr>\n",
       "      <th>2105</th>\n",
       "      <td>a very good tagine tajine  vegetarian</td>\n",
       "      <td>80</td>\n",
       "      <td>['chop the onions , mushrooms , cherry tomatoe...</td>\n",
       "      <td>this healthy moroccan tagine is delicious, wit...</td>\n",
       "      <td>['onion', 'mushrooms', 'sweet potatoes', 'cann...</td>\n",
       "    </tr>\n",
       "    <tr>\n",
       "      <th>3568</th>\n",
       "      <td>almond blackberry tart</td>\n",
       "      <td>30</td>\n",
       "      <td>['preheat the oven to 350 degrees fahrenheit',...</td>\n",
       "      <td>found online in a moroccan journal. a yummy al...</td>\n",
       "      <td>['blackberry', 'almond meal', 'all-purpose flo...</td>\n",
       "    </tr>\n",
       "    <tr>\n",
       "      <th>3693</th>\n",
       "      <td>almond crescent cookies</td>\n",
       "      <td>50</td>\n",
       "      <td>['preheat oven to 350 degrees', 'put ground nu...</td>\n",
       "      <td>a moroccan recipe from the multicultural cookb...</td>\n",
       "      <td>['almonds', \"confectioners' sugar\", 'all-purpo...</td>\n",
       "    </tr>\n",
       "    <tr>\n",
       "      <th>3736</th>\n",
       "      <td>almond filo snake</td>\n",
       "      <td>70</td>\n",
       "      <td>['preheat oven to 350f lightly grease an 8 inc...</td>\n",
       "      <td>sweet and crunchy - and looks great on the pla...</td>\n",
       "      <td>['ground almonds', 'sliced almonds', \"confecti...</td>\n",
       "    </tr>\n",
       "  </tbody>\n",
       "</table>\n",
       "</div>"
      ],
      "text/plain": [
       "                                       name  minutes  \\\n",
       "1257          3 ingredient moroccan dry rub        3   \n",
       "2105  a very good tagine tajine  vegetarian       80   \n",
       "3568                 almond blackberry tart       30   \n",
       "3693                almond crescent cookies       50   \n",
       "3736                      almond filo snake       70   \n",
       "\n",
       "                                                  steps  \\\n",
       "1257  ['mix all ingredients together', 'rub over fis...   \n",
       "2105  ['chop the onions , mushrooms , cherry tomatoe...   \n",
       "3568  ['preheat the oven to 350 degrees fahrenheit',...   \n",
       "3693  ['preheat oven to 350 degrees', 'put ground nu...   \n",
       "3736  ['preheat oven to 350f lightly grease an 8 inc...   \n",
       "\n",
       "                                            description  \\\n",
       "1257  who says that recipes have to be complicated t...   \n",
       "2105  this healthy moroccan tagine is delicious, wit...   \n",
       "3568  found online in a moroccan journal. a yummy al...   \n",
       "3693  a moroccan recipe from the multicultural cookb...   \n",
       "3736  sweet and crunchy - and looks great on the pla...   \n",
       "\n",
       "                                            ingredients  \n",
       "1257   ['ground cumin', 'ground coriander', 'cinnamon']  \n",
       "2105  ['onion', 'mushrooms', 'sweet potatoes', 'cann...  \n",
       "3568  ['blackberry', 'almond meal', 'all-purpose flo...  \n",
       "3693  ['almonds', \"confectioners' sugar\", 'all-purpo...  \n",
       "3736  ['ground almonds', 'sliced almonds', \"confecti...  "
      ]
     },
     "execution_count": 44,
     "metadata": {},
     "output_type": "execute_result"
    }
   ],
   "source": [
    "columns_to_remove4 = ['id', 'contributor_id', 'submitted', 'tags', 'nutrition', 'n_steps', 'n_ingredients']\n",
    "moroccan_data10.drop(columns=columns_to_remove4, axis=1, inplace=True)\n",
    "moroccan_data10.head()"
   ]
  },
  {
   "cell_type": "code",
   "execution_count": 45,
   "id": "da7aed96-2eb1-4414-80e3-7bc2db2be0ca",
   "metadata": {
    "tags": []
   },
   "outputs": [],
   "source": [
    "moroccan_data10.to_csv('Cleaned Data/Moroccan Data/moroccan_data6.csv', index=False)"
   ]
  },
  {
   "cell_type": "markdown",
   "id": "602ad81f-92d8-47cc-a6dd-f55140bd709f",
   "metadata": {},
   "source": [
    "---"
   ]
  },
  {
   "cell_type": "code",
   "execution_count": 50,
   "id": "81273d68-03ef-4f62-9cd2-62084bd790b7",
   "metadata": {
    "tags": []
   },
   "outputs": [
    {
     "data": {
      "text/html": [
       "<div>\n",
       "<style scoped>\n",
       "    .dataframe tbody tr th:only-of-type {\n",
       "        vertical-align: middle;\n",
       "    }\n",
       "\n",
       "    .dataframe tbody tr th {\n",
       "        vertical-align: top;\n",
       "    }\n",
       "\n",
       "    .dataframe thead th {\n",
       "        text-align: right;\n",
       "    }\n",
       "</style>\n",
       "<table border=\"1\" class=\"dataframe\">\n",
       "  <thead>\n",
       "    <tr style=\"text-align: right;\">\n",
       "      <th></th>\n",
       "      <th>Unnamed: 0</th>\n",
       "      <th>name</th>\n",
       "      <th>ingredients</th>\n",
       "      <th>instructions</th>\n",
       "      <th>preparation_time</th>\n",
       "      <th>cooking_time</th>\n",
       "      <th>total_time</th>\n",
       "      <th>image_url</th>\n",
       "      <th>source</th>\n",
       "    </tr>\n",
       "  </thead>\n",
       "  <tbody>\n",
       "    <tr>\n",
       "      <th>0</th>\n",
       "      <td>0</td>\n",
       "      <td>Choumicha's Harira</td>\n",
       "      <td>Lamb (600 g) - tomato puree (1 kg) - Chickpeas...</td>\n",
       "      <td>To prepare your Choumicha Harira, pour a littl...</td>\n",
       "      <td>15</td>\n",
       "      <td>30</td>\n",
       "      <td>45</td>\n",
       "      <td>https://img.cuisineaz.com/660x660/2016/06/28/i...</td>\n",
       "      <td>https://www.cuisineaz.com/</td>\n",
       "    </tr>\n",
       "    <tr>\n",
       "      <th>1</th>\n",
       "      <td>1</td>\n",
       "      <td>Couscous royal</td>\n",
       "      <td>Grains of couscous (medium) (1 kg) - Showed la...</td>\n",
       "      <td>Cut the noble parts of the chicken (thigh, whi...</td>\n",
       "      <td>20</td>\n",
       "      <td>40</td>\n",
       "      <td>60</td>\n",
       "      <td>https://img.cuisineaz.com/660x660/2016/04/28/i...</td>\n",
       "      <td>https://www.cuisineaz.com/</td>\n",
       "    </tr>\n",
       "    <tr>\n",
       "      <th>2</th>\n",
       "      <td>2</td>\n",
       "      <td>Moroccan tagine</td>\n",
       "      <td>Lamb (800 g) - Apple (s) of earth (4) - Carrot...</td>\n",
       "      <td>Heat 1 tsp.oil in a tagine dish in fire.Brown ...</td>\n",
       "      <td>10</td>\n",
       "      <td>25</td>\n",
       "      <td>35</td>\n",
       "      <td>https://img.cuisineaz.com/660x660/2024/02/29/i...</td>\n",
       "      <td>https://www.cuisineaz.com/</td>\n",
       "    </tr>\n",
       "  </tbody>\n",
       "</table>\n",
       "</div>"
      ],
      "text/plain": [
       "   Unnamed: 0                name  \\\n",
       "0           0  Choumicha's Harira   \n",
       "1           1      Couscous royal   \n",
       "2           2     Moroccan tagine   \n",
       "\n",
       "                                         ingredients  \\\n",
       "0  Lamb (600 g) - tomato puree (1 kg) - Chickpeas...   \n",
       "1  Grains of couscous (medium) (1 kg) - Showed la...   \n",
       "2  Lamb (800 g) - Apple (s) of earth (4) - Carrot...   \n",
       "\n",
       "                                        instructions  preparation_time  \\\n",
       "0  To prepare your Choumicha Harira, pour a littl...                15   \n",
       "1  Cut the noble parts of the chicken (thigh, whi...                20   \n",
       "2  Heat 1 tsp.oil in a tagine dish in fire.Brown ...                10   \n",
       "\n",
       "   cooking_time  total_time  \\\n",
       "0            30          45   \n",
       "1            40          60   \n",
       "2            25          35   \n",
       "\n",
       "                                           image_url  \\\n",
       "0  https://img.cuisineaz.com/660x660/2016/06/28/i...   \n",
       "1  https://img.cuisineaz.com/660x660/2016/04/28/i...   \n",
       "2  https://img.cuisineaz.com/660x660/2024/02/29/i...   \n",
       "\n",
       "                       source  \n",
       "0  https://www.cuisineaz.com/  \n",
       "1  https://www.cuisineaz.com/  \n",
       "2  https://www.cuisineaz.com/  "
      ]
     },
     "execution_count": 50,
     "metadata": {},
     "output_type": "execute_result"
    }
   ],
   "source": [
    "data11 = pd.read_csv(\"recipes datasets/new_ENG_cuizineaz.csv\")\n",
    "data11.head(3)"
   ]
  },
  {
   "cell_type": "code",
   "execution_count": 51,
   "id": "64172343-a691-42ab-b001-9bf61a908c2d",
   "metadata": {
    "tags": []
   },
   "outputs": [
    {
     "data": {
      "text/plain": [
       "Index(['Unnamed: 0', 'name', 'ingredients', 'instructions', 'preparation_time',\n",
       "       'cooking_time', 'total_time', 'image_url', 'source'],\n",
       "      dtype='object')"
      ]
     },
     "execution_count": 51,
     "metadata": {},
     "output_type": "execute_result"
    }
   ],
   "source": [
    "data11.columns"
   ]
  },
  {
   "cell_type": "code",
   "execution_count": 52,
   "id": "cc528b00-b32c-4f30-a8c8-77c7f4b3e976",
   "metadata": {
    "tags": []
   },
   "outputs": [
    {
     "data": {
      "text/html": [
       "<div>\n",
       "<style scoped>\n",
       "    .dataframe tbody tr th:only-of-type {\n",
       "        vertical-align: middle;\n",
       "    }\n",
       "\n",
       "    .dataframe tbody tr th {\n",
       "        vertical-align: top;\n",
       "    }\n",
       "\n",
       "    .dataframe thead th {\n",
       "        text-align: right;\n",
       "    }\n",
       "</style>\n",
       "<table border=\"1\" class=\"dataframe\">\n",
       "  <thead>\n",
       "    <tr style=\"text-align: right;\">\n",
       "      <th></th>\n",
       "      <th>name</th>\n",
       "      <th>ingredients</th>\n",
       "      <th>instructions</th>\n",
       "      <th>total_time</th>\n",
       "    </tr>\n",
       "  </thead>\n",
       "  <tbody>\n",
       "    <tr>\n",
       "      <th>0</th>\n",
       "      <td>Choumicha's Harira</td>\n",
       "      <td>Lamb (600 g) - tomato puree (1 kg) - Chickpeas...</td>\n",
       "      <td>To prepare your Choumicha Harira, pour a littl...</td>\n",
       "      <td>45</td>\n",
       "    </tr>\n",
       "    <tr>\n",
       "      <th>1</th>\n",
       "      <td>Couscous royal</td>\n",
       "      <td>Grains of couscous (medium) (1 kg) - Showed la...</td>\n",
       "      <td>Cut the noble parts of the chicken (thigh, whi...</td>\n",
       "      <td>60</td>\n",
       "    </tr>\n",
       "    <tr>\n",
       "      <th>2</th>\n",
       "      <td>Moroccan tagine</td>\n",
       "      <td>Lamb (800 g) - Apple (s) of earth (4) - Carrot...</td>\n",
       "      <td>Heat 1 tsp.oil in a tagine dish in fire.Brown ...</td>\n",
       "      <td>35</td>\n",
       "    </tr>\n",
       "    <tr>\n",
       "      <th>3</th>\n",
       "      <td>Traditional couscous with vegetables</td>\n",
       "      <td>Beef paleron (800 g) - semolina (300 g) - boxe...</td>\n",
       "      <td>In a casserole dish, brown the minced onions i...</td>\n",
       "      <td>60</td>\n",
       "    </tr>\n",
       "    <tr>\n",
       "      <th>4</th>\n",
       "      <td>Moroccan Sellou</td>\n",
       "      <td>Flour (500 g) - Emonded almond (s) (500 g) - S...</td>\n",
       "      <td>Roasting the flour in the oven by regularly mo...</td>\n",
       "      <td>75</td>\n",
       "    </tr>\n",
       "  </tbody>\n",
       "</table>\n",
       "</div>"
      ],
      "text/plain": [
       "                                   name  \\\n",
       "0                    Choumicha's Harira   \n",
       "1                        Couscous royal   \n",
       "2                       Moroccan tagine   \n",
       "3  Traditional couscous with vegetables   \n",
       "4                       Moroccan Sellou   \n",
       "\n",
       "                                         ingredients  \\\n",
       "0  Lamb (600 g) - tomato puree (1 kg) - Chickpeas...   \n",
       "1  Grains of couscous (medium) (1 kg) - Showed la...   \n",
       "2  Lamb (800 g) - Apple (s) of earth (4) - Carrot...   \n",
       "3  Beef paleron (800 g) - semolina (300 g) - boxe...   \n",
       "4  Flour (500 g) - Emonded almond (s) (500 g) - S...   \n",
       "\n",
       "                                        instructions  total_time  \n",
       "0  To prepare your Choumicha Harira, pour a littl...          45  \n",
       "1  Cut the noble parts of the chicken (thigh, whi...          60  \n",
       "2  Heat 1 tsp.oil in a tagine dish in fire.Brown ...          35  \n",
       "3  In a casserole dish, brown the minced onions i...          60  \n",
       "4  Roasting the flour in the oven by regularly mo...          75  "
      ]
     },
     "execution_count": 52,
     "metadata": {},
     "output_type": "execute_result"
    }
   ],
   "source": [
    "data11.drop(columns=['Unnamed: 0', 'preparation_time', 'cooking_time', 'image_url', 'source'], axis=1, inplace=True)\n",
    "data11.head()"
   ]
  },
  {
   "cell_type": "code",
   "execution_count": 54,
   "id": "f973db31-bfdb-4508-b42f-8459709f1d9a",
   "metadata": {
    "tags": []
   },
   "outputs": [],
   "source": [
    "data11.to_csv('Cleaned Data/Moroccan Data/moroccan_data7.csv', index=False)"
   ]
  },
  {
   "cell_type": "markdown",
   "id": "3f4411c8-607f-427a-9b39-d4d1ec2fb92d",
   "metadata": {},
   "source": [
    "----"
   ]
  },
  {
   "cell_type": "code",
   "execution_count": 55,
   "id": "372ec8e1-2a69-496b-9816-4cfad7d2ef0c",
   "metadata": {
    "tags": []
   },
   "outputs": [
    {
     "data": {
      "text/html": [
       "<div>\n",
       "<style scoped>\n",
       "    .dataframe tbody tr th:only-of-type {\n",
       "        vertical-align: middle;\n",
       "    }\n",
       "\n",
       "    .dataframe tbody tr th {\n",
       "        vertical-align: top;\n",
       "    }\n",
       "\n",
       "    .dataframe thead th {\n",
       "        text-align: right;\n",
       "    }\n",
       "</style>\n",
       "<table border=\"1\" class=\"dataframe\">\n",
       "  <thead>\n",
       "    <tr style=\"text-align: right;\">\n",
       "      <th></th>\n",
       "      <th>name</th>\n",
       "      <th>ingredients</th>\n",
       "      <th>instructions</th>\n",
       "      <th>preparation_time</th>\n",
       "      <th>cooking_time</th>\n",
       "      <th>total_time</th>\n",
       "      <th>image_url</th>\n",
       "      <th>source</th>\n",
       "    </tr>\n",
       "  </thead>\n",
       "  <tbody>\n",
       "    <tr>\n",
       "      <th>0</th>\n",
       "      <td>Zaalouk Dip</td>\n",
       "      <td>2 large aubergines (600g)  - 4 medium tomatoes...</td>\n",
       "      <td>• Remove 3 vertical strips of skin from each a...</td>\n",
       "      <td>15</td>\n",
       "      <td>30</td>\n",
       "      <td>45</td>\n",
       "      <td>https://images.squarespace-cdn.com/content/v1/...</td>\n",
       "      <td>https://www.mymoroccanfood.com/home/2022/10/17...</td>\n",
       "    </tr>\n",
       "    <tr>\n",
       "      <th>1</th>\n",
       "      <td>Peach and tomato salad with orange blossom and...</td>\n",
       "      <td>3 peaches, segmented  - 150g cherry tomatoes (...</td>\n",
       "      <td>• In a large mixing bowl, add all the dressing...</td>\n",
       "      <td>15</td>\n",
       "      <td>38</td>\n",
       "      <td>53</td>\n",
       "      <td>https://images.squarespace-cdn.com/content/v1/...</td>\n",
       "      <td>https://www.mymoroccanfood.com/home/peach-and-...</td>\n",
       "    </tr>\n",
       "    <tr>\n",
       "      <th>2</th>\n",
       "      <td>Kefta meatballs and tomato sauce tagine with j...</td>\n",
       "      <td>2 tablespoons olive oil - 2 garlic cloves, cru...</td>\n",
       "      <td>Lightly pickled onions</td>\n",
       "      <td>20</td>\n",
       "      <td>60</td>\n",
       "      <td>80</td>\n",
       "      <td>https://images.squarespace-cdn.com/content/v1/...</td>\n",
       "      <td>https://www.mymoroccanfood.com/home/kefta-meat...</td>\n",
       "    </tr>\n",
       "  </tbody>\n",
       "</table>\n",
       "</div>"
      ],
      "text/plain": [
       "                                                name  \\\n",
       "0                                       Zaalouk Dip    \n",
       "1  Peach and tomato salad with orange blossom and...   \n",
       "2  Kefta meatballs and tomato sauce tagine with j...   \n",
       "\n",
       "                                         ingredients  \\\n",
       "0  2 large aubergines (600g)  - 4 medium tomatoes...   \n",
       "1  3 peaches, segmented  - 150g cherry tomatoes (...   \n",
       "2  2 tablespoons olive oil - 2 garlic cloves, cru...   \n",
       "\n",
       "                                        instructions  preparation_time  \\\n",
       "0  • Remove 3 vertical strips of skin from each a...                15   \n",
       "1  • In a large mixing bowl, add all the dressing...                15   \n",
       "2                            Lightly pickled onions                 20   \n",
       "\n",
       "   cooking_time  total_time  \\\n",
       "0            30          45   \n",
       "1            38          53   \n",
       "2            60          80   \n",
       "\n",
       "                                           image_url  \\\n",
       "0  https://images.squarespace-cdn.com/content/v1/...   \n",
       "1  https://images.squarespace-cdn.com/content/v1/...   \n",
       "2  https://images.squarespace-cdn.com/content/v1/...   \n",
       "\n",
       "                                              source  \n",
       "0  https://www.mymoroccanfood.com/home/2022/10/17...  \n",
       "1  https://www.mymoroccanfood.com/home/peach-and-...  \n",
       "2  https://www.mymoroccanfood.com/home/kefta-meat...  "
      ]
     },
     "execution_count": 55,
     "metadata": {},
     "output_type": "execute_result"
    }
   ],
   "source": [
    "data12 = pd.read_csv(\"recipes datasets/NEWW-myMoroccanFood.csv\")\n",
    "data12.head(3)"
   ]
  },
  {
   "cell_type": "code",
   "execution_count": 57,
   "id": "7e2a31f7-01a3-49e4-ab96-5c7d7e5cf043",
   "metadata": {
    "tags": []
   },
   "outputs": [
    {
     "data": {
      "text/plain": [
       "Index(['name', 'ingredients', 'instructions', 'preparation_time',\n",
       "       'cooking_time', 'total_time', 'image_url', 'source'],\n",
       "      dtype='object')"
      ]
     },
     "execution_count": 57,
     "metadata": {},
     "output_type": "execute_result"
    }
   ],
   "source": [
    "data12.columns"
   ]
  },
  {
   "cell_type": "code",
   "execution_count": 58,
   "id": "9f9c621f-a4f9-4338-b18a-07f18436db1e",
   "metadata": {
    "tags": []
   },
   "outputs": [
    {
     "data": {
      "text/html": [
       "<div>\n",
       "<style scoped>\n",
       "    .dataframe tbody tr th:only-of-type {\n",
       "        vertical-align: middle;\n",
       "    }\n",
       "\n",
       "    .dataframe tbody tr th {\n",
       "        vertical-align: top;\n",
       "    }\n",
       "\n",
       "    .dataframe thead th {\n",
       "        text-align: right;\n",
       "    }\n",
       "</style>\n",
       "<table border=\"1\" class=\"dataframe\">\n",
       "  <thead>\n",
       "    <tr style=\"text-align: right;\">\n",
       "      <th></th>\n",
       "      <th>name</th>\n",
       "      <th>ingredients</th>\n",
       "      <th>instructions</th>\n",
       "      <th>total_time</th>\n",
       "    </tr>\n",
       "  </thead>\n",
       "  <tbody>\n",
       "    <tr>\n",
       "      <th>0</th>\n",
       "      <td>Zaalouk Dip</td>\n",
       "      <td>2 large aubergines (600g)  - 4 medium tomatoes...</td>\n",
       "      <td>• Remove 3 vertical strips of skin from each a...</td>\n",
       "      <td>45</td>\n",
       "    </tr>\n",
       "    <tr>\n",
       "      <th>1</th>\n",
       "      <td>Peach and tomato salad with orange blossom and...</td>\n",
       "      <td>3 peaches, segmented  - 150g cherry tomatoes (...</td>\n",
       "      <td>• In a large mixing bowl, add all the dressing...</td>\n",
       "      <td>53</td>\n",
       "    </tr>\n",
       "    <tr>\n",
       "      <th>2</th>\n",
       "      <td>Kefta meatballs and tomato sauce tagine with j...</td>\n",
       "      <td>2 tablespoons olive oil - 2 garlic cloves, cru...</td>\n",
       "      <td>Lightly pickled onions</td>\n",
       "      <td>80</td>\n",
       "    </tr>\n",
       "    <tr>\n",
       "      <th>3</th>\n",
       "      <td>Sesame seeds gazelle horns with rainbow sprinkles</td>\n",
       "      <td>150g sesame seeds - 250g ground almond  - 120g...</td>\n",
       "      <td>• Preheat the oven to 200°C (180°C fan), Gas ...</td>\n",
       "      <td>37</td>\n",
       "    </tr>\n",
       "    <tr>\n",
       "      <th>4</th>\n",
       "      <td>Moroccan spiced fish fillets and bell peppers ...</td>\n",
       "      <td>2 tablespoons olive oil             - 1 large ...</td>\n",
       "      <td>• Heat the olive oil in a large saucepan over...</td>\n",
       "      <td>33</td>\n",
       "    </tr>\n",
       "  </tbody>\n",
       "</table>\n",
       "</div>"
      ],
      "text/plain": [
       "                                                name  \\\n",
       "0                                       Zaalouk Dip    \n",
       "1  Peach and tomato salad with orange blossom and...   \n",
       "2  Kefta meatballs and tomato sauce tagine with j...   \n",
       "3  Sesame seeds gazelle horns with rainbow sprinkles   \n",
       "4  Moroccan spiced fish fillets and bell peppers ...   \n",
       "\n",
       "                                         ingredients  \\\n",
       "0  2 large aubergines (600g)  - 4 medium tomatoes...   \n",
       "1  3 peaches, segmented  - 150g cherry tomatoes (...   \n",
       "2  2 tablespoons olive oil - 2 garlic cloves, cru...   \n",
       "3  150g sesame seeds - 250g ground almond  - 120g...   \n",
       "4  2 tablespoons olive oil             - 1 large ...   \n",
       "\n",
       "                                        instructions  total_time  \n",
       "0  • Remove 3 vertical strips of skin from each a...          45  \n",
       "1  • In a large mixing bowl, add all the dressing...          53  \n",
       "2                            Lightly pickled onions           80  \n",
       "3   • Preheat the oven to 200°C (180°C fan), Gas ...          37  \n",
       "4   • Heat the olive oil in a large saucepan over...          33  "
      ]
     },
     "execution_count": 58,
     "metadata": {},
     "output_type": "execute_result"
    }
   ],
   "source": [
    "data12.drop(columns=['cooking_time', 'preparation_time', 'image_url', 'source'], axis=1, inplace=True)\n",
    "data12.head()"
   ]
  },
  {
   "cell_type": "code",
   "execution_count": 59,
   "id": "0fad746e-110c-4fe6-864f-0604cd6d1180",
   "metadata": {
    "tags": []
   },
   "outputs": [],
   "source": [
    "data12.to_csv('Cleaned Data/Moroccan Data/moroccan_data8.csv', index=False)"
   ]
  },
  {
   "cell_type": "markdown",
   "id": "4f147672-8d7b-4c52-ad55-b41d1755211c",
   "metadata": {},
   "source": [
    "----"
   ]
  },
  {
   "cell_type": "code",
   "execution_count": 60,
   "id": "8e1ca97e-f9f4-402f-b248-14288f2d5f62",
   "metadata": {
    "tags": []
   },
   "outputs": [
    {
     "data": {
      "text/html": [
       "<div>\n",
       "<style scoped>\n",
       "    .dataframe tbody tr th:only-of-type {\n",
       "        vertical-align: middle;\n",
       "    }\n",
       "\n",
       "    .dataframe tbody tr th {\n",
       "        vertical-align: top;\n",
       "    }\n",
       "\n",
       "    .dataframe thead th {\n",
       "        text-align: right;\n",
       "    }\n",
       "</style>\n",
       "<table border=\"1\" class=\"dataframe\">\n",
       "  <thead>\n",
       "    <tr style=\"text-align: right;\">\n",
       "      <th></th>\n",
       "      <th>Unnamed: 0</th>\n",
       "      <th>name</th>\n",
       "      <th>ingredients</th>\n",
       "      <th>instructions</th>\n",
       "      <th>preparation_time</th>\n",
       "      <th>cooking_time</th>\n",
       "      <th>total_time</th>\n",
       "      <th>image_url</th>\n",
       "      <th>source</th>\n",
       "    </tr>\n",
       "  </thead>\n",
       "  <tbody>\n",
       "    <tr>\n",
       "      <th>0</th>\n",
       "      <td>0</td>\n",
       "      <td>Traditional Round Khobz Bread</td>\n",
       "      <td>4c and a little extra white flour - do not use...</td>\n",
       "      <td>In a small bowl add yeast, sugar and 1c warm w...</td>\n",
       "      <td>75</td>\n",
       "      <td>20</td>\n",
       "      <td>95</td>\n",
       "      <td>https://marocmama.com/wp-content/uploads/2020/...</td>\n",
       "      <td>https://marocmama.com/khobz-moroccan-bread/</td>\n",
       "    </tr>\n",
       "    <tr>\n",
       "      <th>1</th>\n",
       "      <td>1</td>\n",
       "      <td>Batbout – Moroccan Pita Bread</td>\n",
       "      <td>4 cups white flour - 2 cups semolina or wheat ...</td>\n",
       "      <td>Activate the yeast by mixing it with ¼ cup of ...</td>\n",
       "      <td>120</td>\n",
       "      <td>45</td>\n",
       "      <td>165</td>\n",
       "      <td>https://marocmama.com/wp-content/uploads/2009/...</td>\n",
       "      <td>https://marocmama.com/batbout-moroccan-pita-br...</td>\n",
       "    </tr>\n",
       "    <tr>\n",
       "      <th>2</th>\n",
       "      <td>2</td>\n",
       "      <td>Msemmen, Batbout Bread</td>\n",
       "      <td>3 cups all-purpose flour - 2 cups semolina flo...</td>\n",
       "      <td>To make this bread does require a few steps. I...</td>\n",
       "      <td>60</td>\n",
       "      <td>45</td>\n",
       "      <td>105</td>\n",
       "      <td>https://marocmama.com/wp-content/uploads/2020/...</td>\n",
       "      <td>https://marocmama.com/msemmen-batbout-moroccan...</td>\n",
       "    </tr>\n",
       "  </tbody>\n",
       "</table>\n",
       "</div>"
      ],
      "text/plain": [
       "   Unnamed: 0                           name  \\\n",
       "0           0  Traditional Round Khobz Bread   \n",
       "1           1  Batbout – Moroccan Pita Bread   \n",
       "2           2         Msemmen, Batbout Bread   \n",
       "\n",
       "                                         ingredients  \\\n",
       "0  4c and a little extra white flour - do not use...   \n",
       "1  4 cups white flour - 2 cups semolina or wheat ...   \n",
       "2  3 cups all-purpose flour - 2 cups semolina flo...   \n",
       "\n",
       "                                        instructions  preparation_time  \\\n",
       "0  In a small bowl add yeast, sugar and 1c warm w...                75   \n",
       "1  Activate the yeast by mixing it with ¼ cup of ...               120   \n",
       "2  To make this bread does require a few steps. I...                60   \n",
       "\n",
       "   cooking_time  total_time  \\\n",
       "0            20          95   \n",
       "1            45         165   \n",
       "2            45         105   \n",
       "\n",
       "                                           image_url  \\\n",
       "0  https://marocmama.com/wp-content/uploads/2020/...   \n",
       "1  https://marocmama.com/wp-content/uploads/2009/...   \n",
       "2  https://marocmama.com/wp-content/uploads/2020/...   \n",
       "\n",
       "                                              source  \n",
       "0        https://marocmama.com/khobz-moroccan-bread/  \n",
       "1  https://marocmama.com/batbout-moroccan-pita-br...  \n",
       "2  https://marocmama.com/msemmen-batbout-moroccan...  "
      ]
     },
     "execution_count": 60,
     "metadata": {},
     "output_type": "execute_result"
    }
   ],
   "source": [
    "data13 = pd.read_csv(\"recipes datasets/new_marocmama_recipes.csv\")\n",
    "data13.head(3)"
   ]
  },
  {
   "cell_type": "code",
   "execution_count": 61,
   "id": "61976845-bf26-46ea-845c-2d02c2639328",
   "metadata": {
    "tags": []
   },
   "outputs": [
    {
     "data": {
      "text/plain": [
       "Index(['Unnamed: 0', 'name', 'ingredients', 'instructions', 'preparation_time',\n",
       "       'cooking_time', 'total_time', 'image_url', 'source'],\n",
       "      dtype='object')"
      ]
     },
     "execution_count": 61,
     "metadata": {},
     "output_type": "execute_result"
    }
   ],
   "source": [
    "data13.columns"
   ]
  },
  {
   "cell_type": "code",
   "execution_count": 62,
   "id": "79a376ac-6e2c-4fc5-90eb-30925a263dc4",
   "metadata": {
    "tags": []
   },
   "outputs": [
    {
     "data": {
      "text/html": [
       "<div>\n",
       "<style scoped>\n",
       "    .dataframe tbody tr th:only-of-type {\n",
       "        vertical-align: middle;\n",
       "    }\n",
       "\n",
       "    .dataframe tbody tr th {\n",
       "        vertical-align: top;\n",
       "    }\n",
       "\n",
       "    .dataframe thead th {\n",
       "        text-align: right;\n",
       "    }\n",
       "</style>\n",
       "<table border=\"1\" class=\"dataframe\">\n",
       "  <thead>\n",
       "    <tr style=\"text-align: right;\">\n",
       "      <th></th>\n",
       "      <th>name</th>\n",
       "      <th>ingredients</th>\n",
       "      <th>instructions</th>\n",
       "      <th>total_time</th>\n",
       "    </tr>\n",
       "  </thead>\n",
       "  <tbody>\n",
       "    <tr>\n",
       "      <th>0</th>\n",
       "      <td>Traditional Round Khobz Bread</td>\n",
       "      <td>4c and a little extra white flour - do not use...</td>\n",
       "      <td>In a small bowl add yeast, sugar and 1c warm w...</td>\n",
       "      <td>95</td>\n",
       "    </tr>\n",
       "    <tr>\n",
       "      <th>1</th>\n",
       "      <td>Batbout – Moroccan Pita Bread</td>\n",
       "      <td>4 cups white flour - 2 cups semolina or wheat ...</td>\n",
       "      <td>Activate the yeast by mixing it with ¼ cup of ...</td>\n",
       "      <td>165</td>\n",
       "    </tr>\n",
       "    <tr>\n",
       "      <th>2</th>\n",
       "      <td>Msemmen, Batbout Bread</td>\n",
       "      <td>3 cups all-purpose flour - 2 cups semolina flo...</td>\n",
       "      <td>To make this bread does require a few steps. I...</td>\n",
       "      <td>105</td>\n",
       "    </tr>\n",
       "    <tr>\n",
       "      <th>3</th>\n",
       "      <td>Traditional Msemmen</td>\n",
       "      <td>3½ cups flour (340 g) - ½ cup fine semolina (9...</td>\n",
       "      <td>Mix all the dry ingredients in a large bowl. A...</td>\n",
       "      <td>75</td>\n",
       "    </tr>\n",
       "    <tr>\n",
       "      <th>4</th>\n",
       "      <td>Rghaif – Stuffed Moroccan Msemmen</td>\n",
       "      <td>3½ cups flour (340 g) - ½ cup fine semolina (9...</td>\n",
       "      <td>In a food processor or blender pulse all of th...</td>\n",
       "      <td>75</td>\n",
       "    </tr>\n",
       "  </tbody>\n",
       "</table>\n",
       "</div>"
      ],
      "text/plain": [
       "                                name  \\\n",
       "0      Traditional Round Khobz Bread   \n",
       "1      Batbout – Moroccan Pita Bread   \n",
       "2             Msemmen, Batbout Bread   \n",
       "3                Traditional Msemmen   \n",
       "4  Rghaif – Stuffed Moroccan Msemmen   \n",
       "\n",
       "                                         ingredients  \\\n",
       "0  4c and a little extra white flour - do not use...   \n",
       "1  4 cups white flour - 2 cups semolina or wheat ...   \n",
       "2  3 cups all-purpose flour - 2 cups semolina flo...   \n",
       "3  3½ cups flour (340 g) - ½ cup fine semolina (9...   \n",
       "4  3½ cups flour (340 g) - ½ cup fine semolina (9...   \n",
       "\n",
       "                                        instructions  total_time  \n",
       "0  In a small bowl add yeast, sugar and 1c warm w...          95  \n",
       "1  Activate the yeast by mixing it with ¼ cup of ...         165  \n",
       "2  To make this bread does require a few steps. I...         105  \n",
       "3  Mix all the dry ingredients in a large bowl. A...          75  \n",
       "4  In a food processor or blender pulse all of th...          75  "
      ]
     },
     "execution_count": 62,
     "metadata": {},
     "output_type": "execute_result"
    }
   ],
   "source": [
    "data13.drop(columns=['Unnamed: 0', 'cooking_time', 'preparation_time', 'image_url', 'source'], axis=1, inplace=True)\n",
    "data13.head()"
   ]
  },
  {
   "cell_type": "code",
   "execution_count": 63,
   "id": "50127f22-fb5e-4c54-9ece-f96b278252f5",
   "metadata": {
    "tags": []
   },
   "outputs": [],
   "source": [
    "data13.to_csv('Cleaned Data/Moroccan Data/moroccan_data9.csv', index=False)"
   ]
  },
  {
   "cell_type": "markdown",
   "id": "0bdf3772-feb7-4964-90f8-3d331d54ac7c",
   "metadata": {},
   "source": [
    "---"
   ]
  },
  {
   "cell_type": "code",
   "execution_count": 2,
   "id": "efe5857c-f6e0-4d5c-8c30-a837f3f336a9",
   "metadata": {},
   "outputs": [
    {
     "data": {
      "text/html": [
       "<div>\n",
       "<style scoped>\n",
       "    .dataframe tbody tr th:only-of-type {\n",
       "        vertical-align: middle;\n",
       "    }\n",
       "\n",
       "    .dataframe tbody tr th {\n",
       "        vertical-align: top;\n",
       "    }\n",
       "\n",
       "    .dataframe thead th {\n",
       "        text-align: right;\n",
       "    }\n",
       "</style>\n",
       "<table border=\"1\" class=\"dataframe\">\n",
       "  <thead>\n",
       "    <tr style=\"text-align: right;\">\n",
       "      <th></th>\n",
       "      <th>title</th>\n",
       "      <th>ingredients</th>\n",
       "      <th>directions</th>\n",
       "      <th>link</th>\n",
       "      <th>source</th>\n",
       "      <th>NER</th>\n",
       "      <th>site</th>\n",
       "    </tr>\n",
       "  </thead>\n",
       "  <tbody>\n",
       "    <tr>\n",
       "      <th>0</th>\n",
       "      <td>No-Bake Nut Cookies</td>\n",
       "      <td>[\"1 c. firmly packed brown sugar\", \"1/2 c. eva...</td>\n",
       "      <td>[\"In a heavy 2-quart saucepan, mix brown sugar...</td>\n",
       "      <td>www.cookbooks.com/Recipe-Details.aspx?id=44874</td>\n",
       "      <td>Gathered</td>\n",
       "      <td>[\"bite size shredded rice biscuits\", \"vanilla\"...</td>\n",
       "      <td>www.cookbooks.com</td>\n",
       "    </tr>\n",
       "    <tr>\n",
       "      <th>1</th>\n",
       "      <td>Jewell Ball'S Chicken</td>\n",
       "      <td>[\"1 small jar chipped beef, cut up\", \"4 boned ...</td>\n",
       "      <td>[\"Place chipped beef on bottom of baking dish....</td>\n",
       "      <td>www.cookbooks.com/Recipe-Details.aspx?id=699419</td>\n",
       "      <td>Gathered</td>\n",
       "      <td>[\"cream of mushroom soup\", \"beef\", \"sour cream...</td>\n",
       "      <td>www.cookbooks.com</td>\n",
       "    </tr>\n",
       "    <tr>\n",
       "      <th>2</th>\n",
       "      <td>Creamy Corn</td>\n",
       "      <td>[\"2 (16 oz.) pkg. frozen corn\", \"1 (8 oz.) pkg...</td>\n",
       "      <td>[\"In a slow cooker, combine all ingredients. C...</td>\n",
       "      <td>www.cookbooks.com/Recipe-Details.aspx?id=10570</td>\n",
       "      <td>Gathered</td>\n",
       "      <td>[\"frozen corn\", \"pepper\", \"cream cheese\", \"gar...</td>\n",
       "      <td>www.cookbooks.com</td>\n",
       "    </tr>\n",
       "    <tr>\n",
       "      <th>3</th>\n",
       "      <td>Chicken Funny</td>\n",
       "      <td>[\"1 large whole chicken\", \"2 (10 1/2 oz.) cans...</td>\n",
       "      <td>[\"Boil and debone chicken.\", \"Put bite size pi...</td>\n",
       "      <td>www.cookbooks.com/Recipe-Details.aspx?id=897570</td>\n",
       "      <td>Gathered</td>\n",
       "      <td>[\"chicken gravy\", \"cream of mushroom soup\", \"c...</td>\n",
       "      <td>www.cookbooks.com</td>\n",
       "    </tr>\n",
       "    <tr>\n",
       "      <th>4</th>\n",
       "      <td>Reeses Cups(Candy)</td>\n",
       "      <td>[\"1 c. peanut butter\", \"3/4 c. graham cracker ...</td>\n",
       "      <td>[\"Combine first four ingredients and press in ...</td>\n",
       "      <td>www.cookbooks.com/Recipe-Details.aspx?id=659239</td>\n",
       "      <td>Gathered</td>\n",
       "      <td>[\"graham cracker crumbs\", \"powdered sugar\", \"p...</td>\n",
       "      <td>www.cookbooks.com</td>\n",
       "    </tr>\n",
       "  </tbody>\n",
       "</table>\n",
       "</div>"
      ],
      "text/plain": [
       "                   title                                        ingredients  \\\n",
       "0    No-Bake Nut Cookies  [\"1 c. firmly packed brown sugar\", \"1/2 c. eva...   \n",
       "1  Jewell Ball'S Chicken  [\"1 small jar chipped beef, cut up\", \"4 boned ...   \n",
       "2            Creamy Corn  [\"2 (16 oz.) pkg. frozen corn\", \"1 (8 oz.) pkg...   \n",
       "3          Chicken Funny  [\"1 large whole chicken\", \"2 (10 1/2 oz.) cans...   \n",
       "4   Reeses Cups(Candy)    [\"1 c. peanut butter\", \"3/4 c. graham cracker ...   \n",
       "\n",
       "                                          directions  \\\n",
       "0  [\"In a heavy 2-quart saucepan, mix brown sugar...   \n",
       "1  [\"Place chipped beef on bottom of baking dish....   \n",
       "2  [\"In a slow cooker, combine all ingredients. C...   \n",
       "3  [\"Boil and debone chicken.\", \"Put bite size pi...   \n",
       "4  [\"Combine first four ingredients and press in ...   \n",
       "\n",
       "                                              link    source  \\\n",
       "0   www.cookbooks.com/Recipe-Details.aspx?id=44874  Gathered   \n",
       "1  www.cookbooks.com/Recipe-Details.aspx?id=699419  Gathered   \n",
       "2   www.cookbooks.com/Recipe-Details.aspx?id=10570  Gathered   \n",
       "3  www.cookbooks.com/Recipe-Details.aspx?id=897570  Gathered   \n",
       "4  www.cookbooks.com/Recipe-Details.aspx?id=659239  Gathered   \n",
       "\n",
       "                                                 NER               site  \n",
       "0  [\"bite size shredded rice biscuits\", \"vanilla\"...  www.cookbooks.com  \n",
       "1  [\"cream of mushroom soup\", \"beef\", \"sour cream...  www.cookbooks.com  \n",
       "2  [\"frozen corn\", \"pepper\", \"cream cheese\", \"gar...  www.cookbooks.com  \n",
       "3  [\"chicken gravy\", \"cream of mushroom soup\", \"c...  www.cookbooks.com  \n",
       "4  [\"graham cracker crumbs\", \"powdered sugar\", \"p...  www.cookbooks.com  "
      ]
     },
     "execution_count": 2,
     "metadata": {},
     "output_type": "execute_result"
    }
   ],
   "source": [
    "data14 = pd.read_csv('recipes datasets/recipes_data.csv')\n",
    "data14.head()"
   ]
  },
  {
   "cell_type": "code",
   "execution_count": 3,
   "id": "772f281c-7050-44a1-9389-31335996a054",
   "metadata": {},
   "outputs": [
    {
     "data": {
      "text/plain": [
       "Index(['title', 'ingredients', 'directions', 'link', 'source', 'NER', 'site'], dtype='object')"
      ]
     },
     "execution_count": 3,
     "metadata": {},
     "output_type": "execute_result"
    }
   ],
   "source": [
    "data14.columns"
   ]
  },
  {
   "cell_type": "code",
   "execution_count": 4,
   "id": "1e4187b4-c865-4bb4-a619-de312ff13020",
   "metadata": {
    "tags": []
   },
   "outputs": [
    {
     "data": {
      "text/html": [
       "<div>\n",
       "<style scoped>\n",
       "    .dataframe tbody tr th:only-of-type {\n",
       "        vertical-align: middle;\n",
       "    }\n",
       "\n",
       "    .dataframe tbody tr th {\n",
       "        vertical-align: top;\n",
       "    }\n",
       "\n",
       "    .dataframe thead th {\n",
       "        text-align: right;\n",
       "    }\n",
       "</style>\n",
       "<table border=\"1\" class=\"dataframe\">\n",
       "  <thead>\n",
       "    <tr style=\"text-align: right;\">\n",
       "      <th></th>\n",
       "      <th>title</th>\n",
       "      <th>ingredients</th>\n",
       "      <th>directions</th>\n",
       "      <th>NER</th>\n",
       "    </tr>\n",
       "  </thead>\n",
       "  <tbody>\n",
       "    <tr>\n",
       "      <th>0</th>\n",
       "      <td>No-Bake Nut Cookies</td>\n",
       "      <td>[\"1 c. firmly packed brown sugar\", \"1/2 c. eva...</td>\n",
       "      <td>[\"In a heavy 2-quart saucepan, mix brown sugar...</td>\n",
       "      <td>[\"bite size shredded rice biscuits\", \"vanilla\"...</td>\n",
       "    </tr>\n",
       "    <tr>\n",
       "      <th>1</th>\n",
       "      <td>Jewell Ball'S Chicken</td>\n",
       "      <td>[\"1 small jar chipped beef, cut up\", \"4 boned ...</td>\n",
       "      <td>[\"Place chipped beef on bottom of baking dish....</td>\n",
       "      <td>[\"cream of mushroom soup\", \"beef\", \"sour cream...</td>\n",
       "    </tr>\n",
       "    <tr>\n",
       "      <th>2</th>\n",
       "      <td>Creamy Corn</td>\n",
       "      <td>[\"2 (16 oz.) pkg. frozen corn\", \"1 (8 oz.) pkg...</td>\n",
       "      <td>[\"In a slow cooker, combine all ingredients. C...</td>\n",
       "      <td>[\"frozen corn\", \"pepper\", \"cream cheese\", \"gar...</td>\n",
       "    </tr>\n",
       "  </tbody>\n",
       "</table>\n",
       "</div>"
      ],
      "text/plain": [
       "                   title                                        ingredients  \\\n",
       "0    No-Bake Nut Cookies  [\"1 c. firmly packed brown sugar\", \"1/2 c. eva...   \n",
       "1  Jewell Ball'S Chicken  [\"1 small jar chipped beef, cut up\", \"4 boned ...   \n",
       "2            Creamy Corn  [\"2 (16 oz.) pkg. frozen corn\", \"1 (8 oz.) pkg...   \n",
       "\n",
       "                                          directions  \\\n",
       "0  [\"In a heavy 2-quart saucepan, mix brown sugar...   \n",
       "1  [\"Place chipped beef on bottom of baking dish....   \n",
       "2  [\"In a slow cooker, combine all ingredients. C...   \n",
       "\n",
       "                                                 NER  \n",
       "0  [\"bite size shredded rice biscuits\", \"vanilla\"...  \n",
       "1  [\"cream of mushroom soup\", \"beef\", \"sour cream...  \n",
       "2  [\"frozen corn\", \"pepper\", \"cream cheese\", \"gar...  "
      ]
     },
     "execution_count": 4,
     "metadata": {},
     "output_type": "execute_result"
    }
   ],
   "source": [
    "data14.drop(columns=['link', 'source', 'site'], axis=1, inplace=True)\n",
    "data14.head(3)"
   ]
  },
  {
   "cell_type": "code",
   "execution_count": 7,
   "id": "6f113528-18f0-4e48-8fd8-9b272023d4bd",
   "metadata": {
    "tags": []
   },
   "outputs": [
    {
     "data": {
      "text/html": [
       "<div>\n",
       "<style scoped>\n",
       "    .dataframe tbody tr th:only-of-type {\n",
       "        vertical-align: middle;\n",
       "    }\n",
       "\n",
       "    .dataframe tbody tr th {\n",
       "        vertical-align: top;\n",
       "    }\n",
       "\n",
       "    .dataframe thead th {\n",
       "        text-align: right;\n",
       "    }\n",
       "</style>\n",
       "<table border=\"1\" class=\"dataframe\">\n",
       "  <thead>\n",
       "    <tr style=\"text-align: right;\">\n",
       "      <th></th>\n",
       "      <th>title</th>\n",
       "      <th>ingredients</th>\n",
       "      <th>directions</th>\n",
       "      <th>NER</th>\n",
       "    </tr>\n",
       "  </thead>\n",
       "  <tbody>\n",
       "    <tr>\n",
       "      <th>105904</th>\n",
       "      <td>Moroccan Lentil Stew</td>\n",
       "      <td>[\"1 (10 oz.) pkg. lentils\", \"4 to 5 potatoes, ...</td>\n",
       "      <td>[\"Put package of lentils in a large pot and co...</td>\n",
       "      <td>[\"potatoes\", \"tomatoes\", \"lentils\", \"black pep...</td>\n",
       "    </tr>\n",
       "    <tr>\n",
       "      <th>115025</th>\n",
       "      <td>Moroccan Chicken And Couscous Casserole</td>\n",
       "      <td>[\"2 lb. cut-up frying chickens\", \"1 large swee...</td>\n",
       "      <td>[\"Broil chicken, skin side up, to brown the sk...</td>\n",
       "      <td>[\"cumin\", \"raisins\", \"sweet spanish onion\", \"w...</td>\n",
       "    </tr>\n",
       "    <tr>\n",
       "      <th>121809</th>\n",
       "      <td>Coconut Squares(A Moroccan Taste Treat.)</td>\n",
       "      <td>[\"2 c grated coconut\", \"3/4 c half &amp; half\", \"1...</td>\n",
       "      <td>[\"Combine the coconut, half and half and the s...</td>\n",
       "      <td>[\"grated coconut\", \"sugar\", \"butter\", \"lemon r...</td>\n",
       "    </tr>\n",
       "  </tbody>\n",
       "</table>\n",
       "</div>"
      ],
      "text/plain": [
       "                                             title  \\\n",
       "105904                        Moroccan Lentil Stew   \n",
       "115025     Moroccan Chicken And Couscous Casserole   \n",
       "121809  Coconut Squares(A Moroccan Taste Treat.)     \n",
       "\n",
       "                                              ingredients  \\\n",
       "105904  [\"1 (10 oz.) pkg. lentils\", \"4 to 5 potatoes, ...   \n",
       "115025  [\"2 lb. cut-up frying chickens\", \"1 large swee...   \n",
       "121809  [\"2 c grated coconut\", \"3/4 c half & half\", \"1...   \n",
       "\n",
       "                                               directions  \\\n",
       "105904  [\"Put package of lentils in a large pot and co...   \n",
       "115025  [\"Broil chicken, skin side up, to brown the sk...   \n",
       "121809  [\"Combine the coconut, half and half and the s...   \n",
       "\n",
       "                                                      NER  \n",
       "105904  [\"potatoes\", \"tomatoes\", \"lentils\", \"black pep...  \n",
       "115025  [\"cumin\", \"raisins\", \"sweet spanish onion\", \"w...  \n",
       "121809  [\"grated coconut\", \"sugar\", \"butter\", \"lemon r...  "
      ]
     },
     "execution_count": 7,
     "metadata": {},
     "output_type": "execute_result"
    }
   ],
   "source": [
    "moroccan_data14 = data14[data14['title'].str.contains('Moroccan', case=False, na=False)]\n",
    "moroccan_data14.head(3)"
   ]
  },
  {
   "cell_type": "code",
   "execution_count": 10,
   "id": "3797897e-37ea-408a-8a13-9ee39bcb0010",
   "metadata": {
    "tags": []
   },
   "outputs": [
    {
     "name": "stderr",
     "output_type": "stream",
     "text": [
      "C:\\Users\\pc\\AppData\\Local\\Temp\\ipykernel_17428\\3540037211.py:1: SettingWithCopyWarning: \n",
      "A value is trying to be set on a copy of a slice from a DataFrame\n",
      "\n",
      "See the caveats in the documentation: https://pandas.pydata.org/pandas-docs/stable/user_guide/indexing.html#returning-a-view-versus-a-copy\n",
      "  moroccan_data14.drop(columns=['NER'], axis=1, inplace=True)\n"
     ]
    }
   ],
   "source": [
    "moroccan_data14.drop(columns=['NER'], axis=1, inplace=True)"
   ]
  },
  {
   "cell_type": "code",
   "execution_count": 11,
   "id": "0eadf252-9445-4083-9487-38fd4cf81d17",
   "metadata": {
    "tags": []
   },
   "outputs": [
    {
     "data": {
      "text/plain": [
       "(2287, 3)"
      ]
     },
     "execution_count": 11,
     "metadata": {},
     "output_type": "execute_result"
    }
   ],
   "source": [
    "moroccan_data14.shape"
   ]
  },
  {
   "cell_type": "code",
   "execution_count": 12,
   "id": "389d904e-7170-4c25-bd75-d08bf1ae71f9",
   "metadata": {
    "tags": []
   },
   "outputs": [],
   "source": [
    "moroccan_data14.to_csv('Cleaned Data/Moroccan Data/moroccan_data10.csv', index=False)"
   ]
  },
  {
   "cell_type": "markdown",
   "id": "b6cee732-76f8-4faf-918b-bafebc8428b0",
   "metadata": {},
   "source": [
    "---"
   ]
  },
  {
   "cell_type": "code",
   "execution_count": null,
   "id": "e3a38bcf-8aef-41ce-840a-e784f82a2141",
   "metadata": {},
   "outputs": [],
   "source": []
  }
 ],
 "metadata": {
  "kernelspec": {
   "display_name": "Python 3 (ipykernel)",
   "language": "python",
   "name": "python3"
  },
  "language_info": {
   "codemirror_mode": {
    "name": "ipython",
    "version": 3
   },
   "file_extension": ".py",
   "mimetype": "text/x-python",
   "name": "python",
   "nbconvert_exporter": "python",
   "pygments_lexer": "ipython3",
   "version": "3.12.4"
  }
 },
 "nbformat": 4,
 "nbformat_minor": 5
}
